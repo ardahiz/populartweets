{
 "cells": [
  {
   "cell_type": "markdown",
   "metadata": {
    "id": "H9hhJvZvF3V6",
    "tags": []
   },
   "source": [
    "# Install & Import"
   ]
  },
  {
   "cell_type": "code",
   "execution_count": 2,
   "metadata": {
    "id": "kiie1cFH3fER"
   },
   "outputs": [],
   "source": [
    "pip install tqdm --upgrade"
   ]
  },
  {
   "cell_type": "code",
   "execution_count": 3,
   "metadata": {
    "id": "DuOfyrhi3bjY"
   },
   "outputs": [],
   "source": [
    "pip install snscrape"
   ]
  },
  {
   "cell_type": "code",
   "execution_count": 4,
   "metadata": {},
   "outputs": [
    {
     "name": "stdout",
     "output_type": "stream",
     "text": [
      "Requirement already satisfied: torch in c:\\users\\m1ardhiz\\anaconda3\\lib\\site-packages (2.0.1)\n",
      "Requirement already satisfied: typing-extensions in c:\\users\\m1ardhiz\\anaconda3\\lib\\site-packages (from torch) (4.3.0)\n",
      "Requirement already satisfied: networkx in c:\\users\\m1ardhiz\\anaconda3\\lib\\site-packages (from torch) (2.8.4)\n",
      "Requirement already satisfied: jinja2 in c:\\users\\m1ardhiz\\anaconda3\\lib\\site-packages (from torch) (2.11.3)\n",
      "Requirement already satisfied: sympy in c:\\users\\m1ardhiz\\anaconda3\\lib\\site-packages (from torch) (1.10.1)\n",
      "Requirement already satisfied: filelock in c:\\users\\m1ardhiz\\appdata\\roaming\\python\\python39\\site-packages (from torch) (3.12.0)\n",
      "Requirement already satisfied: MarkupSafe>=0.23 in c:\\users\\m1ardhiz\\anaconda3\\lib\\site-packages (from jinja2->torch) (2.0.1)\n",
      "Requirement already satisfied: mpmath>=0.19 in c:\\users\\m1ardhiz\\anaconda3\\lib\\site-packages (from sympy->torch) (1.2.1)\n",
      "Note: you may need to restart the kernel to use updated packages.\n"
     ]
    }
   ],
   "source": [
    "pip install torch"
   ]
  },
  {
   "cell_type": "code",
   "execution_count": 5,
   "metadata": {},
   "outputs": [
    {
     "name": "stdout",
     "output_type": "stream",
     "text": [
      "Requirement already satisfied: tensorflow in c:\\users\\m1ardhiz\\anaconda3\\lib\\site-packages (2.12.0)\n",
      "Requirement already satisfied: tensorflow-intel==2.12.0 in c:\\users\\m1ardhiz\\anaconda3\\lib\\site-packages (from tensorflow) (2.12.0)\n",
      "Requirement already satisfied: astunparse>=1.6.0 in c:\\users\\m1ardhiz\\anaconda3\\lib\\site-packages (from tensorflow-intel==2.12.0->tensorflow) (1.6.3)\n",
      "Requirement already satisfied: tensorboard<2.13,>=2.12 in c:\\users\\m1ardhiz\\anaconda3\\lib\\site-packages (from tensorflow-intel==2.12.0->tensorflow) (2.12.3)\n",
      "Requirement already satisfied: h5py>=2.9.0 in c:\\users\\m1ardhiz\\anaconda3\\lib\\site-packages (from tensorflow-intel==2.12.0->tensorflow) (3.7.0)\n",
      "Requirement already satisfied: protobuf!=4.21.0,!=4.21.1,!=4.21.2,!=4.21.3,!=4.21.4,!=4.21.5,<5.0.0dev,>=3.20.3 in c:\\users\\m1ardhiz\\anaconda3\\lib\\site-packages (from tensorflow-intel==2.12.0->tensorflow) (4.23.0)\n",
      "Requirement already satisfied: tensorflow-io-gcs-filesystem>=0.23.1 in c:\\users\\m1ardhiz\\anaconda3\\lib\\site-packages (from tensorflow-intel==2.12.0->tensorflow) (0.31.0)\n",
      "Requirement already satisfied: setuptools in c:\\users\\m1ardhiz\\anaconda3\\lib\\site-packages (from tensorflow-intel==2.12.0->tensorflow) (63.4.1)\n",
      "Requirement already satisfied: six>=1.12.0 in c:\\users\\m1ardhiz\\anaconda3\\lib\\site-packages (from tensorflow-intel==2.12.0->tensorflow) (1.16.0)\n",
      "Requirement already satisfied: flatbuffers>=2.0 in c:\\users\\m1ardhiz\\anaconda3\\lib\\site-packages (from tensorflow-intel==2.12.0->tensorflow) (23.3.3)\n",
      "Requirement already satisfied: google-pasta>=0.1.1 in c:\\users\\m1ardhiz\\anaconda3\\lib\\site-packages (from tensorflow-intel==2.12.0->tensorflow) (0.2.0)\n",
      "Requirement already satisfied: gast<=0.4.0,>=0.2.1 in c:\\users\\m1ardhiz\\anaconda3\\lib\\site-packages (from tensorflow-intel==2.12.0->tensorflow) (0.4.0)\n",
      "Requirement already satisfied: absl-py>=1.0.0 in c:\\users\\m1ardhiz\\anaconda3\\lib\\site-packages (from tensorflow-intel==2.12.0->tensorflow) (1.4.0)\n",
      "Requirement already satisfied: jax>=0.3.15 in c:\\users\\m1ardhiz\\anaconda3\\lib\\site-packages (from tensorflow-intel==2.12.0->tensorflow) (0.4.8)\n",
      "Requirement already satisfied: tensorflow-estimator<2.13,>=2.12.0 in c:\\users\\m1ardhiz\\anaconda3\\lib\\site-packages (from tensorflow-intel==2.12.0->tensorflow) (2.12.0)\n",
      "Requirement already satisfied: opt-einsum>=2.3.2 in c:\\users\\m1ardhiz\\anaconda3\\lib\\site-packages (from tensorflow-intel==2.12.0->tensorflow) (3.3.0)\n",
      "Requirement already satisfied: numpy<1.24,>=1.22 in c:\\users\\m1ardhiz\\anaconda3\\lib\\site-packages (from tensorflow-intel==2.12.0->tensorflow) (1.23.5)\n",
      "Requirement already satisfied: keras<2.13,>=2.12.0 in c:\\users\\m1ardhiz\\anaconda3\\lib\\site-packages (from tensorflow-intel==2.12.0->tensorflow) (2.12.0)\n",
      "Requirement already satisfied: libclang>=13.0.0 in c:\\users\\m1ardhiz\\anaconda3\\lib\\site-packages (from tensorflow-intel==2.12.0->tensorflow) (16.0.0)\n",
      "Requirement already satisfied: typing-extensions>=3.6.6 in c:\\users\\m1ardhiz\\anaconda3\\lib\\site-packages (from tensorflow-intel==2.12.0->tensorflow) (4.3.0)\n",
      "Requirement already satisfied: grpcio<2.0,>=1.24.3 in c:\\users\\m1ardhiz\\anaconda3\\lib\\site-packages (from tensorflow-intel==2.12.0->tensorflow) (1.54.0)\n",
      "Requirement already satisfied: packaging in c:\\users\\m1ardhiz\\anaconda3\\lib\\site-packages (from tensorflow-intel==2.12.0->tensorflow) (21.3)\n",
      "Requirement already satisfied: wrapt<1.15,>=1.11.0 in c:\\users\\m1ardhiz\\anaconda3\\lib\\site-packages (from tensorflow-intel==2.12.0->tensorflow) (1.14.1)\n",
      "Requirement already satisfied: termcolor>=1.1.0 in c:\\users\\m1ardhiz\\anaconda3\\lib\\site-packages (from tensorflow-intel==2.12.0->tensorflow) (2.3.0)\n",
      "Requirement already satisfied: wheel<1.0,>=0.23.0 in c:\\users\\m1ardhiz\\anaconda3\\lib\\site-packages (from astunparse>=1.6.0->tensorflow-intel==2.12.0->tensorflow) (0.37.1)\n",
      "Requirement already satisfied: ml-dtypes>=0.0.3 in c:\\users\\m1ardhiz\\anaconda3\\lib\\site-packages (from jax>=0.3.15->tensorflow-intel==2.12.0->tensorflow) (0.1.0)\n",
      "Requirement already satisfied: scipy>=1.7 in c:\\users\\m1ardhiz\\anaconda3\\lib\\site-packages (from jax>=0.3.15->tensorflow-intel==2.12.0->tensorflow) (1.9.1)\n",
      "Requirement already satisfied: google-auth-oauthlib<1.1,>=0.5 in c:\\users\\m1ardhiz\\anaconda3\\lib\\site-packages (from tensorboard<2.13,>=2.12->tensorflow-intel==2.12.0->tensorflow) (1.0.0)\n",
      "Requirement already satisfied: tensorboard-data-server<0.8.0,>=0.7.0 in c:\\users\\m1ardhiz\\anaconda3\\lib\\site-packages (from tensorboard<2.13,>=2.12->tensorflow-intel==2.12.0->tensorflow) (0.7.0)\n",
      "Requirement already satisfied: markdown>=2.6.8 in c:\\users\\m1ardhiz\\anaconda3\\lib\\site-packages (from tensorboard<2.13,>=2.12->tensorflow-intel==2.12.0->tensorflow) (3.3.4)\n",
      "Requirement already satisfied: werkzeug>=1.0.1 in c:\\users\\m1ardhiz\\anaconda3\\lib\\site-packages (from tensorboard<2.13,>=2.12->tensorflow-intel==2.12.0->tensorflow) (2.0.3)\n",
      "Requirement already satisfied: requests<3,>=2.21.0 in c:\\users\\m1ardhiz\\anaconda3\\lib\\site-packages (from tensorboard<2.13,>=2.12->tensorflow-intel==2.12.0->tensorflow) (2.28.1)\n",
      "Requirement already satisfied: google-auth<3,>=1.6.3 in c:\\users\\m1ardhiz\\anaconda3\\lib\\site-packages (from tensorboard<2.13,>=2.12->tensorflow-intel==2.12.0->tensorflow) (2.17.3)\n",
      "Requirement already satisfied: pyparsing!=3.0.5,>=2.0.2 in c:\\users\\m1ardhiz\\anaconda3\\lib\\site-packages (from packaging->tensorflow-intel==2.12.0->tensorflow) (3.0.9)\n",
      "Requirement already satisfied: pyasn1-modules>=0.2.1 in c:\\users\\m1ardhiz\\anaconda3\\lib\\site-packages (from google-auth<3,>=1.6.3->tensorboard<2.13,>=2.12->tensorflow-intel==2.12.0->tensorflow) (0.2.8)\n",
      "Requirement already satisfied: rsa<5,>=3.1.4 in c:\\users\\m1ardhiz\\anaconda3\\lib\\site-packages (from google-auth<3,>=1.6.3->tensorboard<2.13,>=2.12->tensorflow-intel==2.12.0->tensorflow) (4.9)\n",
      "Requirement already satisfied: cachetools<6.0,>=2.0.0 in c:\\users\\m1ardhiz\\anaconda3\\lib\\site-packages (from google-auth<3,>=1.6.3->tensorboard<2.13,>=2.12->tensorflow-intel==2.12.0->tensorflow) (5.3.0)\n",
      "Requirement already satisfied: requests-oauthlib>=0.7.0 in c:\\users\\m1ardhiz\\anaconda3\\lib\\site-packages (from google-auth-oauthlib<1.1,>=0.5->tensorboard<2.13,>=2.12->tensorflow-intel==2.12.0->tensorflow) (1.3.1)\n",
      "Requirement already satisfied: certifi>=2017.4.17 in c:\\users\\m1ardhiz\\anaconda3\\lib\\site-packages (from requests<3,>=2.21.0->tensorboard<2.13,>=2.12->tensorflow-intel==2.12.0->tensorflow) (2022.9.14)\n",
      "Requirement already satisfied: charset-normalizer<3,>=2 in c:\\users\\m1ardhiz\\anaconda3\\lib\\site-packages (from requests<3,>=2.21.0->tensorboard<2.13,>=2.12->tensorflow-intel==2.12.0->tensorflow) (2.0.4)\n",
      "Requirement already satisfied: urllib3<1.27,>=1.21.1 in c:\\users\\m1ardhiz\\anaconda3\\lib\\site-packages (from requests<3,>=2.21.0->tensorboard<2.13,>=2.12->tensorflow-intel==2.12.0->tensorflow) (1.26.11)\n",
      "Requirement already satisfied: idna<4,>=2.5 in c:\\users\\m1ardhiz\\anaconda3\\lib\\site-packages (from requests<3,>=2.21.0->tensorboard<2.13,>=2.12->tensorflow-intel==2.12.0->tensorflow) (3.3)\n",
      "Requirement already satisfied: pyasn1<0.5.0,>=0.4.6 in c:\\users\\m1ardhiz\\anaconda3\\lib\\site-packages (from pyasn1-modules>=0.2.1->google-auth<3,>=1.6.3->tensorboard<2.13,>=2.12->tensorflow-intel==2.12.0->tensorflow) (0.4.8)\n",
      "Requirement already satisfied: oauthlib>=3.0.0 in c:\\users\\m1ardhiz\\anaconda3\\lib\\site-packages (from requests-oauthlib>=0.7.0->google-auth-oauthlib<1.1,>=0.5->tensorboard<2.13,>=2.12->tensorflow-intel==2.12.0->tensorflow) (3.2.2)\n",
      "Note: you may need to restart the kernel to use updated packages.\n"
     ]
    }
   ],
   "source": [
    "pip install tensorflow"
   ]
  },
  {
   "cell_type": "code",
   "execution_count": 6,
   "metadata": {
    "colab": {
     "base_uri": "https://localhost:8080/"
    },
    "id": "BlCgo2fJNgfX",
    "outputId": "d3e64dd0-9997-444b-ee33-681aa274fb84"
   },
   "outputs": [
    {
     "name": "stdout",
     "output_type": "stream",
     "text": [
      "Requirement already satisfied: scikit-learn in c:\\users\\m1ardhiz\\anaconda3\\lib\\site-packages (1.0.2)\n",
      "Requirement already satisfied: threadpoolctl>=2.0.0 in c:\\users\\m1ardhiz\\anaconda3\\lib\\site-packages (from scikit-learn) (2.2.0)\n",
      "Requirement already satisfied: numpy>=1.14.6 in c:\\users\\m1ardhiz\\anaconda3\\lib\\site-packages (from scikit-learn) (1.23.5)\n",
      "Requirement already satisfied: scipy>=1.1.0 in c:\\users\\m1ardhiz\\anaconda3\\lib\\site-packages (from scikit-learn) (1.9.1)\n",
      "Requirement already satisfied: joblib>=0.11 in c:\\users\\m1ardhiz\\anaconda3\\lib\\site-packages (from scikit-learn) (1.2.0)\n"
     ]
    }
   ],
   "source": [
    "!pip install scikit-learn"
   ]
  },
  {
   "cell_type": "code",
   "execution_count": 7,
   "metadata": {
    "colab": {
     "base_uri": "https://localhost:8080/"
    },
    "id": "fofjmaHAyMT1",
    "outputId": "ba5bff39-36bb-4aab-e945-630a427815cd"
   },
   "outputs": [
    {
     "name": "stdout",
     "output_type": "stream",
     "text": [
      "Requirement already satisfied: emoji in c:\\users\\m1ardhiz\\anaconda3\\lib\\site-packages (2.5.0)\n",
      "Collecting emoji\n",
      "  Downloading emoji-2.6.0.tar.gz (356 kB)\n",
      "     -------------------------------------- 356.6/356.6 kB 4.4 MB/s eta 0:00:00\n",
      "  Preparing metadata (setup.py): started\n",
      "  Preparing metadata (setup.py): finished with status 'done'\n",
      "Building wheels for collected packages: emoji\n",
      "  Building wheel for emoji (setup.py): started\n",
      "  Building wheel for emoji (setup.py): finished with status 'done'\n",
      "  Created wheel for emoji: filename=emoji-2.6.0-py2.py3-none-any.whl size=351311 sha256=a4314d8f3c539069de496f50b847d80bde83970925ca659d2cefa408611b7f15\n",
      "  Stored in directory: c:\\users\\m1ardhiz\\appdata\\local\\pip\\cache\\wheels\\a9\\25\\66\\ae46b49b24c976a140abb666a8d84a74062c65cc4de5f78c57\n",
      "Successfully built emoji\n",
      "Installing collected packages: emoji\n",
      "  Attempting uninstall: emoji\n",
      "    Found existing installation: emoji 2.5.0\n",
      "    Uninstalling emoji-2.5.0:\n",
      "      Successfully uninstalled emoji-2.5.0\n",
      "Successfully installed emoji-2.6.0\n",
      "Note: you may need to restart the kernel to use updated packages.\n"
     ]
    }
   ],
   "source": [
    "pip install emoji --upgrade"
   ]
  },
  {
   "cell_type": "code",
   "execution_count": 8,
   "metadata": {
    "colab": {
     "base_uri": "https://localhost:8080/"
    },
    "id": "jb3Xl-dW7ofA",
    "outputId": "b6ef7f9c-5664-44e2-86b3-b3f6b3b9ac3a"
   },
   "outputs": [
    {
     "name": "stdout",
     "output_type": "stream",
     "text": [
      "Requirement already satisfied: contractions in c:\\users\\m1ardhiz\\anaconda3\\lib\\site-packages (0.1.73)\n",
      "Requirement already satisfied: textsearch>=0.0.21 in c:\\users\\m1ardhiz\\anaconda3\\lib\\site-packages (from contractions) (0.0.24)\n",
      "Requirement already satisfied: anyascii in c:\\users\\m1ardhiz\\anaconda3\\lib\\site-packages (from textsearch>=0.0.21->contractions) (0.3.2)\n",
      "Requirement already satisfied: pyahocorasick in c:\\users\\m1ardhiz\\anaconda3\\lib\\site-packages (from textsearch>=0.0.21->contractions) (2.0.0)\n",
      "Note: you may need to restart the kernel to use updated packages.\n"
     ]
    }
   ],
   "source": [
    "pip install contractions"
   ]
  },
  {
   "cell_type": "code",
   "execution_count": 9,
   "metadata": {
    "colab": {
     "base_uri": "https://localhost:8080/"
    },
    "id": "hH1cCRp1o2si",
    "outputId": "aeca709b-209e-4208-ec2b-1f673beb3924"
   },
   "outputs": [
    {
     "name": "stdout",
     "output_type": "stream",
     "text": [
      "Requirement already satisfied: transformers in c:\\users\\m1ardhiz\\anaconda3\\lib\\site-packages (4.28.1)\n",
      "Requirement already satisfied: numpy>=1.17 in c:\\users\\m1ardhiz\\anaconda3\\lib\\site-packages (from transformers) (1.23.5)\n",
      "Requirement already satisfied: requests in c:\\users\\m1ardhiz\\anaconda3\\lib\\site-packages (from transformers) (2.28.1)\n",
      "Requirement already satisfied: huggingface-hub<1.0,>=0.11.0 in c:\\users\\m1ardhiz\\anaconda3\\lib\\site-packages (from transformers) (0.14.1)\n",
      "Requirement already satisfied: tqdm>=4.27 in c:\\users\\m1ardhiz\\anaconda3\\lib\\site-packages (from transformers) (4.64.1)\n",
      "Requirement already satisfied: packaging>=20.0 in c:\\users\\m1ardhiz\\anaconda3\\lib\\site-packages (from transformers) (21.3)\n",
      "Requirement already satisfied: pyyaml>=5.1 in c:\\users\\m1ardhiz\\anaconda3\\lib\\site-packages (from transformers) (6.0)\n",
      "Requirement already satisfied: tokenizers!=0.11.3,<0.14,>=0.11.1 in c:\\users\\m1ardhiz\\anaconda3\\lib\\site-packages (from transformers) (0.13.3)\n",
      "Requirement already satisfied: filelock in c:\\users\\m1ardhiz\\appdata\\roaming\\python\\python39\\site-packages (from transformers) (3.12.0)\n",
      "Requirement already satisfied: regex!=2019.12.17 in c:\\users\\m1ardhiz\\anaconda3\\lib\\site-packages (from transformers) (2022.7.9)\n",
      "Requirement already satisfied: typing-extensions>=3.7.4.3 in c:\\users\\m1ardhiz\\anaconda3\\lib\\site-packages (from huggingface-hub<1.0,>=0.11.0->transformers) (4.3.0)\n",
      "Requirement already satisfied: fsspec in c:\\users\\m1ardhiz\\anaconda3\\lib\\site-packages (from huggingface-hub<1.0,>=0.11.0->transformers) (2022.7.1)\n",
      "Requirement already satisfied: pyparsing!=3.0.5,>=2.0.2 in c:\\users\\m1ardhiz\\anaconda3\\lib\\site-packages (from packaging>=20.0->transformers) (3.0.9)\n",
      "Requirement already satisfied: colorama in c:\\users\\m1ardhiz\\anaconda3\\lib\\site-packages (from tqdm>=4.27->transformers) (0.4.5)\n",
      "Requirement already satisfied: idna<4,>=2.5 in c:\\users\\m1ardhiz\\anaconda3\\lib\\site-packages (from requests->transformers) (3.3)\n",
      "Requirement already satisfied: certifi>=2017.4.17 in c:\\users\\m1ardhiz\\anaconda3\\lib\\site-packages (from requests->transformers) (2022.9.14)\n",
      "Requirement already satisfied: urllib3<1.27,>=1.21.1 in c:\\users\\m1ardhiz\\anaconda3\\lib\\site-packages (from requests->transformers) (1.26.11)\n",
      "Requirement already satisfied: charset-normalizer<3,>=2 in c:\\users\\m1ardhiz\\anaconda3\\lib\\site-packages (from requests->transformers) (2.0.4)\n"
     ]
    }
   ],
   "source": [
    "!pip install transformers"
   ]
  },
  {
   "cell_type": "code",
   "execution_count": 10,
   "metadata": {
    "id": "bHP1NQ-8FWFi"
   },
   "outputs": [
    {
     "name": "stdout",
     "output_type": "stream",
     "text": [
      "Note: you may need to restart the kernel to use updated packages.\n"
     ]
    }
   ],
   "source": [
    "pip install -q transformers"
   ]
  },
  {
   "cell_type": "code",
   "execution_count": 11,
   "metadata": {},
   "outputs": [
    {
     "name": "stdout",
     "output_type": "stream",
     "text": [
      "Requirement already satisfied: nltk in c:\\users\\m1ardhiz\\anaconda3\\lib\\site-packages (3.8.1)Note: you may need to restart the kernel to use updated packages.\n",
      "\n",
      "Requirement already satisfied: click in c:\\users\\m1ardhiz\\anaconda3\\lib\\site-packages (from nltk) (8.0.4)\n",
      "Requirement already satisfied: regex>=2021.8.3 in c:\\users\\m1ardhiz\\anaconda3\\lib\\site-packages (from nltk) (2022.7.9)\n",
      "Requirement already satisfied: tqdm in c:\\users\\m1ardhiz\\anaconda3\\lib\\site-packages (from nltk) (4.64.1)\n",
      "Requirement already satisfied: joblib in c:\\users\\m1ardhiz\\anaconda3\\lib\\site-packages (from nltk) (1.2.0)\n",
      "Requirement already satisfied: colorama in c:\\users\\m1ardhiz\\anaconda3\\lib\\site-packages (from click->nltk) (0.4.5)\n"
     ]
    }
   ],
   "source": [
    "pip install -U nltk"
   ]
  },
  {
   "cell_type": "code",
   "execution_count": 12,
   "metadata": {},
   "outputs": [
    {
     "name": "stdout",
     "output_type": "stream",
     "text": [
      "Requirement already satisfied: fuzzywuzzy in c:\\users\\m1ardhiz\\anaconda3\\lib\\site-packages (0.18.0)Note: you may need to restart the kernel to use updated packages.\n",
      "\n"
     ]
    }
   ],
   "source": [
    "pip install fuzzywuzzy"
   ]
  },
  {
   "cell_type": "code",
   "execution_count": 13,
   "metadata": {},
   "outputs": [
    {
     "name": "stdout",
     "output_type": "stream",
     "text": [
      "Requirement already satisfied: python-Levenshtein in c:\\users\\m1ardhiz\\anaconda3\\lib\\site-packages (0.21.0)\n",
      "Requirement already satisfied: Levenshtein==0.21.0 in c:\\users\\m1ardhiz\\anaconda3\\lib\\site-packages (from python-Levenshtein) (0.21.0)\n",
      "Requirement already satisfied: rapidfuzz<4.0.0,>=2.3.0 in c:\\users\\m1ardhiz\\anaconda3\\lib\\site-packages (from Levenshtein==0.21.0->python-Levenshtein) (3.0.0)\n"
     ]
    }
   ],
   "source": [
    "!pip install python-Levenshtein"
   ]
  },
  {
   "cell_type": "code",
   "execution_count": 14,
   "metadata": {},
   "outputs": [
    {
     "name": "stdout",
     "output_type": "stream",
     "text": [
      "Requirement already satisfied: thefuzz in c:\\users\\m1ardhiz\\anaconda3\\lib\\site-packages (0.19.0)\n",
      "Note: you may need to restart the kernel to use updated packages.\n"
     ]
    }
   ],
   "source": [
    "pip install thefuzz"
   ]
  },
  {
   "cell_type": "code",
   "execution_count": 15,
   "metadata": {
    "colab": {
     "base_uri": "https://localhost:8080/"
    },
    "id": "4oB1h09hsj4J",
    "outputId": "236c8e64-8f6b-40c2-9ec1-0fb6adb0a9e6"
   },
   "outputs": [
    {
     "name": "stderr",
     "output_type": "stream",
     "text": [
      "[nltk_data] Downloading package stopwords to\n",
      "[nltk_data]     C:\\Users\\M1ARDHIZ\\AppData\\Roaming\\nltk_data...\n",
      "[nltk_data]   Package stopwords is already up-to-date!\n",
      "[nltk_data] Downloading package punkt to\n",
      "[nltk_data]     C:\\Users\\M1ARDHIZ\\AppData\\Roaming\\nltk_data...\n",
      "[nltk_data]   Package punkt is already up-to-date!\n",
      "[nltk_data] Downloading package omw-1.4 to\n",
      "[nltk_data]     C:\\Users\\M1ARDHIZ\\AppData\\Roaming\\nltk_data...\n",
      "[nltk_data]   Package omw-1.4 is already up-to-date!\n",
      "[nltk_data] Downloading package averaged_perceptron_tagger to\n",
      "[nltk_data]     C:\\Users\\M1ARDHIZ\\AppData\\Roaming\\nltk_data...\n",
      "[nltk_data]   Package averaged_perceptron_tagger is already up-to-\n",
      "[nltk_data]       date!\n",
      "[nltk_data] Downloading package wordnet to\n",
      "[nltk_data]     C:\\Users\\M1ARDHIZ\\AppData\\Roaming\\nltk_data...\n",
      "[nltk_data]   Package wordnet is already up-to-date!\n"
     ]
    }
   ],
   "source": [
    "import numpy as np\n",
    "import pandas as pd\n",
    "import matplotlib.pyplot as plt\n",
    "\n",
    "import io\n",
    "from collections import Counter\n",
    "\n",
    "import re\n",
    "import contractions # Sentiment Analysis- making abbrevations longer\n",
    "import nltk\n",
    "nltk.download('stopwords') #Sentiment Analysis- to remove stopwords\n",
    "nltk.download('punkt')\n",
    "from nltk.corpus import stopwords \n",
    "from nltk.tokenize import word_tokenize\n",
    "import emoji #Sentiment Analysis- to remove emojis\n",
    "import string #Sentiment Analysis- removing punctiations\n",
    "import operator\n",
    "\n",
    "nltk.download('omw-1.4')\n",
    "nltk.download('averaged_perceptron_tagger') #Lemmatization\n",
    "nltk.download('wordnet') #Lemmatization\n",
    "from nltk.corpus import wordnet\n",
    "from nltk.stem import PorterStemmer\n",
    "from nltk.stem import WordNetLemmatizer\n",
    "from nltk import pos_tag \n",
    "from nltk.corpus import stopwords\n",
    "\n",
    "from transformers import pipeline\n",
    "from sklearn.metrics import precision_score\n",
    "from sklearn.metrics import recall_score\n",
    "from sklearn.metrics import f1_score\n",
    "\n",
    "#for a faster processing where all CPU cores are used\n",
    "from functools import partial\n",
    "from itertools import repeat\n",
    "from multiprocessing import Pool, freeze_support\n",
    "from sklearn.metrics import classification_report"
   ]
  },
  {
   "cell_type": "code",
   "execution_count": 16,
   "metadata": {
    "id": "aiE_w1SPsk_v"
   },
   "outputs": [],
   "source": [
    "pd.set_option('display.max_rows', 300)\n",
    "pd.set_option('max_colwidth', 100)"
   ]
  },
  {
   "cell_type": "code",
   "execution_count": 17,
   "metadata": {
    "colab": {
     "background_save": true
    },
    "id": "10rr5kQQxGAf",
    "outputId": "4d583f39-e0c0-4a1e-a4dd-06060a03f622"
   },
   "outputs": [
    {
     "name": "stderr",
     "output_type": "stream",
     "text": [
      "C:\\Users\\M1ARDHIZ\\AppData\\Local\\Temp\\ipykernel_17764\\194549199.py:1: DtypeWarning: Columns (0) have mixed types. Specify dtype option on import or set low_memory=False.\n",
      "  ent_original=pd.read_csv('ent.csv')\n"
     ]
    }
   ],
   "source": [
    "ent_original=pd.read_csv('ent.csv')\n",
    "ent=ent_original.copy()\n",
    "df=ent_original.copy()\n",
    "df=df.drop(columns=[\"Unnamed: 0\"])\n",
    "df.columns = ['user','date','content',\"follow\",\"friend\",\"link\",\"reply\",\"quote\",\"lan\",\"rttw\",\"quotw\",\"mention\",\"rt\",\"like\",\"tzone\"]"
   ]
  },
  {
   "cell_type": "markdown",
   "metadata": {
    "id": "YDNEK2dCESMC",
    "tags": []
   },
   "source": [
    "# Data Understanding"
   ]
  },
  {
   "cell_type": "markdown",
   "metadata": {
    "id": "aT_V9Bd9nW1v",
    "tags": []
   },
   "source": [
    "## Peak Quarters\n",
    "Some companies such as FOXTV, LiveNation, EA,Disney have a high fluctations. Is it normal? Maybe something was wrong on scrapping phase. To check, make a comparison\n",
    "\n",
    "1)From df dataframe, get one company's tweets for fluctuated years (EA1 and FOXTV1 are retrieved)\n",
    "\n",
    "2)Make another scrap only for this company, where no other company's tweets were scrapped (EA2 and FOXTV2 are retrieved)"
   ]
  },
  {
   "cell_type": "code",
   "execution_count": null,
   "metadata": {
    "id": "5MotlxQD2cw6"
   },
   "outputs": [],
   "source": [
    "# Plot data on yearly basis\n",
    "fig, ax = plt.subplots(figsize=(12,4))\n",
    "df.groupby(['year','user']).count()['date'].unstack().plot(ax=ax)\n",
    "plt.legend(loc=2, prop={'size': 8})\n",
    "plt.show()"
   ]
  },
  {
   "cell_type": "code",
   "execution_count": null,
   "metadata": {
    "id": "9EKeRWER2-2u"
   },
   "outputs": [],
   "source": [
    "# Plot data on Quarterly basis\n",
    "fig, ax = plt.subplots(figsize=(12,4))\n",
    "df.groupby(['quarter','user']).count()['date'].unstack().plot(ax=ax)\n",
    "plt.legend(loc=2, prop={'size': 8})\n",
    "plt.show()"
   ]
  },
  {
   "cell_type": "code",
   "execution_count": null,
   "metadata": {
    "id": "lOP6ce5BszsF"
   },
   "outputs": [],
   "source": [
    "# 1- From df dataframe, get one company's tweets for fluctuated years.\n",
    "#From df, get FOXTV tweets and assign to FOXTV1 dataframe\n",
    "FOXTV1=df[df[\"user\"]==\"FOXTV\"]\n",
    "\n",
    "#Filter the tweets in 2017, 2018 and 2019\n",
    "FOXTV1=FOXTV1[(FOXTV1['date'] >= '2017-01-01') & (FOXTV1['date'] <= '2019-12-31')]\n",
    "\n",
    "#Change the user from FOXTV to FOXTV1\n",
    "FOXTV1.user=\"FOXTV1\""
   ]
  },
  {
   "cell_type": "code",
   "execution_count": null,
   "metadata": {
    "id": "s_MDM8d2O8Ta"
   },
   "outputs": [],
   "source": [
    "# 1- From df dataframe, get one company's tweets for fluctuated years.\n",
    "#From df, get EA tweets and assign to EA1 dataframe\n",
    "EA1=df[df[\"user\"]==\"EA\"]\n",
    "\n",
    "#Filter the tweets in 2017, 2018 and 2019\n",
    "EA1=EA1[(EA1['date'] >= '2015-01-01') & (EA1['date'] <= '2017-12-31')]\n",
    "\n",
    "#Change the user from FOXTV to EA1\n",
    "EA1.user=\"EA1\""
   ]
  },
  {
   "cell_type": "code",
   "execution_count": null,
   "metadata": {
    "id": "rHmScD-J3Au7"
   },
   "outputs": [],
   "source": [
    "# 2- Make another scrap and get the same company's tweets for the same dates.\n",
    "#FOXTV2\n",
    "tweets = []\n",
    "\n",
    "for i,tweet in tqdm(enumerate(sntwitter.TwitterSearchScraper('from:FOXTV since:2017-01-01 until:2019-12-31').get_items())):\n",
    "  tweets.append([tweet.user.username,    tweet.date,   tweet.rawContent,  tweet.user.followersCount, tweet.links,  tweet.replyCount,     tweet.quoteCount,     tweet.lang,\n",
    "                 tweet.retweetedTweet,    tweet.quotedTweet,      tweet.mentionedUsers,        tweet.retweetCount,       tweet.likeCount              ])\n",
    "  \n",
    "\n",
    "\n",
    "FOXTV2 = pd.DataFrame(tweets)\n",
    "\n",
    "# FOXTV2= FOXTV2.set_axis( ['user','date','content',\"follow\",\"friend\",\"link\",\"reply\",\"quote\",\"lan\",\"rttw\",\"quotw\",\"mention\",\"rt\",\"like\",\"tzone\"], axis=1)\n",
    "# FOXTV2.user=\"FOXTV2\""
   ]
  },
  {
   "cell_type": "code",
   "execution_count": null,
   "metadata": {
    "id": "J2OsQKCoOyFO"
   },
   "outputs": [],
   "source": [
    "# 2- Make another scrap and get the same company's tweets for the same dates.\n",
    "#EA2\n",
    "tweets = []\n",
    "\n",
    "for i,tweet in tqdm(enumerate(sntwitter.TwitterSearchScraper('from:EA since:2015-01-01 until:2017-12-31').get_items())):\n",
    "  tweets.append([tweet.user.username,    tweet.date,   tweet.rawContent,  tweet.user.followersCount, tweet.links,  tweet.replyCount,     tweet.quoteCount,     tweet.lang,\n",
    "                 tweet.retweetedTweet,    tweet.quotedTweet,      tweet.mentionedUsers,        tweet.retweetCount,       tweet.likeCount              ])\n",
    "  \n",
    "\n",
    "\n",
    "EA2 = pd.DataFrame(tweets)\n",
    "\n",
    "# EA2= EA2.set_axis( ['user','date','content',\"follow\",\"link\",\"reply\",\"quote\",\"lan\",\"rttw\",\"quotw\",\"mention\",\"rt\",\"like\"], axis=1)\n",
    "# EA2.user=\"EA2\""
   ]
  },
  {
   "cell_type": "code",
   "execution_count": null,
   "metadata": {
    "id": "qVCvHLrTrsYc"
   },
   "outputs": [],
   "source": [
    "#Assign Columns for new scrapped EA2 and FOXTV2. (We will use EA2 and FOXTV2 for comparison\n",
    "columns2=['user','date','content',\"follow\",\"link\",\"reply\",\"quote\",\"lan\",\"rttw\",\"quotw\",\"mention\",\"rt\",\"like\"]\n",
    "EA2.columns=columns2\n",
    "FOXTV2.columns=columns2"
   ]
  },
  {
   "cell_type": "code",
   "execution_count": null,
   "metadata": {
    "id": "FPMei3bqvcMU"
   },
   "outputs": [],
   "source": [
    "#RUN ONLY ONCE\n",
    "#Convert EA2.date into string\n",
    "EA2.date=EA2.date.astype(str)\n",
    "\n",
    "# Remove the last 14 digit (+00:00 and time) from date column\n",
    "EA2.date= EA2.date.str[:-14]\n",
    "\n",
    "#Convert date columnn into type:datetime\n",
    "EA2.date=pd.to_datetime(EA2.date)\n",
    "\n",
    "#Create year, half, and quarter column \n",
    "EA2[\"year\"]=EA2.date.dt.to_period('Y')     \n",
    "EA2[\"quarter\"]=EA2.date.dt.to_period('Q')   "
   ]
  },
  {
   "cell_type": "code",
   "execution_count": null,
   "metadata": {
    "id": "uVpFRrq9uyF1"
   },
   "outputs": [],
   "source": [
    "#RUN ONLY ONCE\n",
    "#Convert FOXTV2.date into string\n",
    "FOXTV2.date=FOXTV2.date.astype(str)\n",
    "\n",
    "# Remove the last 14 digit (+00:00 and time) from date column\n",
    "FOXTV2.date= FOXTV2.date.str[:-14]\n",
    "\n",
    "#Convert date columnn into type:datetime\n",
    "FOXTV2.date=pd.to_datetime(FOXTV2.date)\n",
    "\n",
    "#Create year, half, and quarter column \n",
    "FOXTV2[\"year\"]=FOXTV2.date.dt.to_period('Y')     \n",
    "FOXTV2[\"quarter\"]=FOXTV2.date.dt.to_period('Q')   "
   ]
  },
  {
   "cell_type": "code",
   "execution_count": null,
   "metadata": {
    "id": "PzDv8wQme1RR"
   },
   "outputs": [],
   "source": [
    "#Compare FOXTV1 and FOXTV2\n",
    "fig, (ax1,ax2)=plt.subplots(1,2,figsize=(8,2))\n",
    "\n",
    "FOXTV1.groupby(\"quarter\").size().plot(kind='line',ax=ax1)\n",
    "ax1.set_title(\"FOXTV1\")\n",
    "\n",
    "FOXTV2.groupby(\"quarter\").size().plot(kind='line',ax=ax2)\n",
    "ax2.set_title(\"FOXTV2\")\n",
    "plt.show()"
   ]
  },
  {
   "cell_type": "code",
   "execution_count": null,
   "metadata": {
    "id": "SjT31o3PRZJn"
   },
   "outputs": [],
   "source": [
    "#Compare EA1 and EA2\n",
    "fig, (ax1,ax2)=plt.subplots(1,2,figsize=(8,2))\n",
    "\n",
    "EA1.groupby(\"quarter\").size().plot(kind='line',ax=ax1)\n",
    "ax1.set_title(\"EA1\")\n",
    "\n",
    "EA2.groupby(\"quarter\").size().plot(kind='line',ax=ax2)\n",
    "ax2.set_title(\"EA2\")\n",
    "plt.show()"
   ]
  },
  {
   "cell_type": "markdown",
   "metadata": {
    "id": "iJnukESK7sdA",
    "tags": []
   },
   "source": [
    "## Peak Quarters 2\n",
    "The significant variations in tweet amounts between the various quarters might be a sign that something special or important occurred during those intervals, prompting the businesses to tweet more frequently. Check the most common words"
   ]
  },
  {
   "cell_type": "code",
   "execution_count": null,
   "metadata": {
    "id": "WyMSoJbN-fXI"
   },
   "outputs": [],
   "source": [
    "import nltk\n",
    "nltk.download('stopwords')"
   ]
  },
  {
   "cell_type": "code",
   "execution_count": null,
   "metadata": {
    "id": "cSKXqOVsLsl7"
   },
   "outputs": [],
   "source": [
    "# Create a set of stopwords to exclude from the analysis\n",
    "from gensim.parsing.preprocessing import STOPWORDS as gensim_stopwords\n",
    "from nltk.tokenize import word_tokenize\n",
    "from collections import Counter\n",
    "\n",
    "nltk_stopwords = set(nltk.corpus.stopwords.words('english'))\n",
    "gensim_stopwords = set(gensim_stopwords)\n",
    "\n",
    "all_stopwords = set()\n",
    "all_stopwords.update(nltk_stopwords, gensim_stopwords)"
   ]
  },
  {
   "cell_type": "code",
   "execution_count": null,
   "metadata": {
    "id": "HMjhRm7Byec0"
   },
   "outputs": [],
   "source": [
    "# Define a function to lowercase and tokenize the text\n",
    "def tokenize(text):\n",
    "    return [word.lower() for word in word_tokenize(text) if word.lower() not in all_stopwords and word.isalpha()]\n",
    "\n",
    "# Tokenize the content column and create a list of all words\n",
    "tokens = [tokenize(content) for content in EA1['content']]\n",
    "all_words = [word for content_words in tokens for word in content_words]\n",
    "\n",
    "# Get the 200 most frequent words\n",
    "word_freq = Counter(all_words)\n",
    "top_words = word_freq.most_common(200)\n",
    "\n",
    "pd.DataFrame(top_words)"
   ]
  },
  {
   "cell_type": "code",
   "execution_count": null,
   "metadata": {
    "id": "lwlUxk-h_JVr"
   },
   "outputs": [],
   "source": [
    "#Define a function to check if a string in content column contains the word \"battlefield\"\n",
    "def contains_battlefield(s):\n",
    "    if 'battlefield' in s.lower():\n",
    "        return 1\n",
    "    else:\n",
    "        return 0\n",
    "\n",
    "# Apply the function to the 'tweet content' column of your dataframe\n",
    "EA1['has_battlefield'] = EA1['content'].apply(contains_battlefield)"
   ]
  },
  {
   "cell_type": "code",
   "execution_count": null,
   "metadata": {
    "id": "NhKGn9KOKL_2"
   },
   "outputs": [],
   "source": [
    "# calculate total tweet count and has_battlefield count for each quarter\n",
    "EA1_counts = EA1.groupby('quarter').agg(total_tweets=('user', 'count'),\n",
    "                                        has_battlefield=('has_battlefield', 'sum'))\n",
    "\n",
    "# plot total tweet count and has_battlefield count on the same y-axis\n",
    "EA1_counts.plot(kind='line', y=['total_tweets', 'has_battlefield'], color=['blue', 'red'], figsize=(8,3))\n",
    "\n",
    "# add labels and title\n",
    "plt.xlabel('Quarter')\n",
    "plt.ylabel('Tweet Count')\n",
    "plt.title('Battefield Mentions vs Total Tweets')\n",
    "\n",
    "plt.show()\n"
   ]
  },
  {
   "cell_type": "code",
   "execution_count": null,
   "metadata": {
    "id": "OXn5GlcyYf_c"
   },
   "outputs": [],
   "source": [
    "df.head()"
   ]
  },
  {
   "cell_type": "markdown",
   "metadata": {
    "id": "05Hgl0hEMUE9",
    "tags": []
   },
   "source": [
    "## Correlation Matrix with Followers and Friends"
   ]
  },
  {
   "cell_type": "code",
   "execution_count": null,
   "metadata": {
    "colab": {
     "background_save": true
    },
    "id": "3xcBTUe09IPo",
    "outputId": "8b387a60-19d3-40cb-c02b-daabdb615e25"
   },
   "outputs": [],
   "source": [
    "df.groupby(\"user\").mean(\"rt\")[[\"friend\",\"rt\"]].plot.scatter(x=\"friend\",y=\"rt\",figsize=(5,3))\n",
    "plt.xlabel(\"Friends Count\",fontsize=10)\n",
    "plt.ylabel(\"Average Retweets Count\",fontsize=10)"
   ]
  },
  {
   "cell_type": "markdown",
   "metadata": {
    "tags": []
   },
   "source": [
    "## Daily & Monthly Fluctuations"
   ]
  },
  {
   "cell_type": "code",
   "execution_count": 18,
   "metadata": {},
   "outputs": [
    {
     "name": "stdout",
     "output_type": "stream",
     "text": [
      "Number of columns that do NOT contain +00:00 in date column:  1\n",
      "All rows in date column contains +00:00\n"
     ]
    }
   ],
   "source": [
    "# RUN ONLY ONCE\n",
    "print(\"Number of columns that do NOT contain +00:00 in date column: \",len(df[~df[\"date\"].str.contains(\"+00:00\",regex=False)]))\n",
    "print(\"All rows in date column contains +00:00\")\n",
    "\n",
    "# Remove the last 6 digit (+00:00) from date column\n",
    "df.date= df.date.str[:-6]\n",
    "\n",
    "#Split date column into 2 columns: dates and time\n",
    "df['dates'] = pd.to_datetime(df['date']).dt.date\n",
    "df['time'] = pd.to_datetime(df['date']).dt.time\n",
    "\n",
    "#Drop initial date column\n",
    "df=df.drop([\"date\"],axis=1)\n",
    "\n",
    "#Rename dates column as \"date\"\n",
    "df=df.rename(columns={\"dates\": \"date\"})\n",
    "\n",
    "#Drop tzone column, as it only contains +00:00.\n",
    "df=df.drop([\"tzone\"],axis=1)\n",
    "\n",
    "#Get the hours from time\n",
    "df[\"time\"]=df[\"time\"].astype(\"str\").str[0:2]\n",
    "\n",
    "#Clean NaN values in df.time (only 1 row)\n",
    "df=df[df[\"time\"]!='Na']\n",
    "\n",
    "#Convert time to integer\n",
    "df.time=df.time.astype(int)\n",
    "\n",
    "#Convert to NY time (UTC-4)\n",
    "df.time=df.time-4\n",
    "\n",
    "#Convert the negative times\n",
    "df.loc[df.time==-4,\"time\"]=20\n",
    "df.loc[df.time==-3,\"time\"]=21\n",
    "df.loc[df.time==-2,\"time\"]=22\n",
    "df.loc[df.time==-1,\"time\"]=23   "
   ]
  },
  {
   "cell_type": "code",
   "execution_count": 19,
   "metadata": {},
   "outputs": [],
   "source": [
    "#Create bins for partofday\n",
    "bins={0:\"latenight\",6:\"morning\",12:\"afternoon\",18:\"evening\"}\n",
    "df[\"daytime\"]=df.time.astype(str)\n",
    "df[\"daytime\"]=df[\"daytime\"].str[0:2].astype('int')\n",
    "df[\"partofday\"]=df[\"daytime\"]\n",
    "df[\"partofday\"]=pd.cut(df[\"partofday\"],bins=[0,6,12,18,23],labels=['latenight','morning','afternoon','evening'],include_lowest=True)\n",
    "\n",
    "df.drop(columns=[\"time\"],inplace=True)\n",
    "df.rename(columns={\"daytime\":\"time\"},inplace=True)"
   ]
  },
  {
   "cell_type": "code",
   "execution_count": 20,
   "metadata": {},
   "outputs": [
    {
     "data": {
      "image/png": "[encoded data removed]",
      "text/plain": [
       "<Figure size 640x480 with 1 Axes>"
      ]
     },
     "metadata": {},
     "output_type": "display_data"
    }
   ],
   "source": [
    "#Visualize number of tweets by time\n",
    "df.time=df.time.astype('str')\n",
    "df[\"times\"]=df.time.copy()\n",
    "df.times=df.time + ':00'\n",
    "df.loc[df.times=='0:00',\"times\"]='00:00'\n",
    "df['times'] = pd.to_datetime(df['times']).dt.time\n",
    "df_times=pd.DataFrame(df.groupby(\"times\").count()[\"user\"])\n",
    "df_times[\"times\"]=df_times.index\n",
    "\n",
    "ax=df_times.plot(legend=False)\n",
    "ax.set_xticks([df_times.times[0],df_times.times[6],df_times.times[12],df_times.times[18]])\n",
    "plt.xlabel(\"Time\")\n",
    "plt.ylabel(\"Number of tweets\")\n",
    "plt.show()"
   ]
  },
  {
   "cell_type": "code",
   "execution_count": 21,
   "metadata": {},
   "outputs": [
    {
     "data": {
      "image/png": "[encoded data removed]",
      "text/plain": [
       "<Figure size 640x480 with 1 Axes>"
      ]
     },
     "metadata": {},
     "output_type": "display_data"
    }
   ],
   "source": [
    "df_times_rt=pd.DataFrame(df.groupby(\"times\").mean()[\"rt\"])\n",
    "df_times_rt[\"times\"]=df_times_rt.index\n",
    "\n",
    "ax=df_times_rt.plot(legend=False)\n",
    "ax.set_xticks([df_times_rt.times[0],df_times_rt.times[6],df_times_rt.times[12],df_times_rt.times[18]])\n",
    "plt.xlabel(\"Time\")\n",
    "plt.ylabel(\"Average retweet\")\n",
    "plt.show()"
   ]
  },
  {
   "cell_type": "code",
   "execution_count": 22,
   "metadata": {},
   "outputs": [
    {
     "data": {
      "text/html": [
       "<div>\n",
       "<style scoped>\n",
       "    .dataframe tbody tr th:only-of-type {\n",
       "        vertical-align: middle;\n",
       "    }\n",
       "\n",
       "    .dataframe tbody tr th {\n",
       "        vertical-align: top;\n",
       "    }\n",
       "\n",
       "    .dataframe thead th {\n",
       "        text-align: right;\n",
       "    }\n",
       "</style>\n",
       "<table border=\"1\" class=\"dataframe\">\n",
       "  <thead>\n",
       "    <tr style=\"text-align: right;\">\n",
       "      <th></th>\n",
       "      <th>user</th>\n",
       "      <th>content</th>\n",
       "      <th>follow</th>\n",
       "      <th>friend</th>\n",
       "      <th>link</th>\n",
       "      <th>reply</th>\n",
       "      <th>quote</th>\n",
       "      <th>lan</th>\n",
       "      <th>rttw</th>\n",
       "      <th>quotw</th>\n",
       "      <th>mention</th>\n",
       "      <th>rt</th>\n",
       "      <th>like</th>\n",
       "      <th>date</th>\n",
       "      <th>time</th>\n",
       "      <th>partofday</th>\n",
       "      <th>times</th>\n",
       "    </tr>\n",
       "  </thead>\n",
       "  <tbody>\n",
       "    <tr>\n",
       "      <th>18317</th>\n",
       "      <td>netflix</td>\n",
       "      <td>Hold on tight! \\n\\nAlice in Borderland Season 2 is now on Netflix! https://t.co/1dB2K4HXzl</td>\n",
       "      <td>21437908.0</td>\n",
       "      <td>2252.0</td>\n",
       "      <td>NaN</td>\n",
       "      <td>777.0</td>\n",
       "      <td>6226.0</td>\n",
       "      <td>en</td>\n",
       "      <td>NaN</td>\n",
       "      <td>NaN</td>\n",
       "      <td>NaN</td>\n",
       "      <td>10819.0</td>\n",
       "      <td>39240.0</td>\n",
       "      <td>2022-12-22</td>\n",
       "      <td>4</td>\n",
       "      <td>latenight</td>\n",
       "      <td>04:00:00</td>\n",
       "    </tr>\n",
       "    <tr>\n",
       "      <th>33163</th>\n",
       "      <td>netflix</td>\n",
       "      <td>name a more iconic duo. i will NOT wait. https://t.co/8Iz0sPGWmH</td>\n",
       "      <td>21437946.0</td>\n",
       "      <td>2252.0</td>\n",
       "      <td>NaN</td>\n",
       "      <td>348.0</td>\n",
       "      <td>415.0</td>\n",
       "      <td>en</td>\n",
       "      <td>NaN</td>\n",
       "      <td>NaN</td>\n",
       "      <td>NaN</td>\n",
       "      <td>11843.0</td>\n",
       "      <td>33053.0</td>\n",
       "      <td>2017-10-27</td>\n",
       "      <td>4</td>\n",
       "      <td>latenight</td>\n",
       "      <td>04:00:00</td>\n",
       "    </tr>\n",
       "  </tbody>\n",
       "</table>\n",
       "</div>"
      ],
      "text/plain": [
       "          user  \\\n",
       "18317  netflix   \n",
       "33163  netflix   \n",
       "\n",
       "                                                                                          content  \\\n",
       "18317  Hold on tight! \\n\\nAlice in Borderland Season 2 is now on Netflix! https://t.co/1dB2K4HXzl   \n",
       "33163                            name a more iconic duo. i will NOT wait. https://t.co/8Iz0sPGWmH   \n",
       "\n",
       "           follow  friend link  reply   quote lan  rttw quotw mention  \\\n",
       "18317  21437908.0  2252.0  NaN  777.0  6226.0  en   NaN   NaN     NaN   \n",
       "33163  21437946.0  2252.0  NaN  348.0   415.0  en   NaN   NaN     NaN   \n",
       "\n",
       "            rt     like        date time  partofday     times  \n",
       "18317  10819.0  39240.0  2022-12-22    4  latenight  04:00:00  \n",
       "33163  11843.0  33053.0  2017-10-27    4  latenight  04:00:00  "
      ]
     },
     "execution_count": 22,
     "metadata": {},
     "output_type": "execute_result"
    }
   ],
   "source": [
    "df[(df.rt>10000) & (df.time=='4')]"
   ]
  },
  {
   "cell_type": "code",
   "execution_count": 23,
   "metadata": {},
   "outputs": [
    {
     "data": {
      "image/png": "[encoded data removed]",
      "text/plain": [
       "<Figure size 640x480 with 1 Axes>"
      ]
     },
     "metadata": {},
     "output_type": "display_data"
    }
   ],
   "source": [
    "#Create time-number of tweets graph\n",
    "df_grouped=pd.DataFrame(df.groupby([\"user\",\"times\"]).count())\n",
    "df_grouped=df_grouped.reset_index()\n",
    "\n",
    "df_pivot=df_grouped.set_index([\"times\",\"user\"])[\"content\"].unstack()\n",
    "ax=df_pivot.plot.line()\n",
    "\n",
    "plt.legend(loc='center left', bbox_to_anchor=(1.0, 0.5),prop={'size': 9})\n",
    "plt.ylabel(\"Number of tweets\")\n",
    "plt.xlabel(\"Time\")\n",
    "plt.show()"
   ]
  },
  {
   "cell_type": "code",
   "execution_count": 24,
   "metadata": {},
   "outputs": [
    {
     "data": {
      "image/png": "[encoded data removed]",
      "text/plain": [
       "<Figure size 640x480 with 1 Axes>"
      ]
     },
     "metadata": {},
     "output_type": "display_data"
    }
   ],
   "source": [
    "#Adjust time-number of tweets graph \n",
    "df_grouped=pd.DataFrame(df.groupby([\"user\",\"times\"]).mean(\"rt\"))\n",
    "df_grouped=df_grouped.reset_index()\n",
    "\n",
    "df_pivot=df_grouped.set_index([\"times\",\"user\"])[\"rt\"].unstack()\n",
    "ax=df_pivot.plot.line()\n",
    "ax.set_xticks([df_times_rt.times[0],df_times_rt.times[6],df_times_rt.times[12],df_times_rt.times[18]])\n",
    "plt.legend(loc='center left', bbox_to_anchor=(1.0, 0.5),prop={'size': 9})\n",
    "plt.ylabel(\"Average retweet\")\n",
    "plt.xlabel(\"Time\")\n",
    "plt.show()"
   ]
  },
  {
   "cell_type": "code",
   "execution_count": 25,
   "metadata": {},
   "outputs": [
    {
     "data": {
      "text/html": [
       "<div>\n",
       "<style scoped>\n",
       "    .dataframe tbody tr th:only-of-type {\n",
       "        vertical-align: middle;\n",
       "    }\n",
       "\n",
       "    .dataframe tbody tr th {\n",
       "        vertical-align: top;\n",
       "    }\n",
       "\n",
       "    .dataframe thead th {\n",
       "        text-align: right;\n",
       "    }\n",
       "</style>\n",
       "<table border=\"1\" class=\"dataframe\">\n",
       "  <thead>\n",
       "    <tr style=\"text-align: right;\">\n",
       "      <th></th>\n",
       "      <th>user</th>\n",
       "      <th>content</th>\n",
       "      <th>reply</th>\n",
       "      <th>date</th>\n",
       "      <th>times</th>\n",
       "      <th>like</th>\n",
       "      <th>rt</th>\n",
       "      <th>mention</th>\n",
       "    </tr>\n",
       "  </thead>\n",
       "  <tbody>\n",
       "    <tr>\n",
       "      <th>50299</th>\n",
       "      <td>ParamountPics</td>\n",
       "      <td>Sonic The Hedgehog is speeding to theatres for a big screen adventure for the whole family! Watch the new @SonicMovie trailer now, and #CatchSonic in theatres February 14! https://t.co/UUo9ctMbte</td>\n",
       "      <td>1520.0</td>\n",
       "      <td>2019-11-12</td>\n",
       "      <td>06:00:00</td>\n",
       "      <td>50510.0</td>\n",
       "      <td>13159.0</td>\n",
       "      <td>[User(username='SonicMovie', id=1011719605981593600, displayname='Sonic the Hedgehog', rawDescription=None, renderedDescription=None, descriptionLinks=None, verified=None, created=None, followersCount=None, friendsCount=None, statusesCount=None, favouritesCount=None, listedCount=None, mediaCount=None, location=None, protected=None, link=None, profileImageUrl=None, profileBannerUrl=None, label=None)]</td>\n",
       "    </tr>\n",
       "    <tr>\n",
       "      <th>54150</th>\n",
       "      <td>ParamountPics</td>\n",
       "      <td>#HeA10When he’s as funny as @nottjmiller in She’s Out of My League (@TweetYourRating)</td>\n",
       "      <td>0.0</td>\n",
       "      <td>2010-02-26</td>\n",
       "      <td>06:00:00</td>\n",
       "      <td>0.0</td>\n",
       "      <td>0.0</td>\n",
       "      <td>[User(username='nottjmiller', id=20035593, displayname='t.j. miller', rawDescription=None, renderedDescription=None, descriptionLinks=None, verified=None, created=None, followersCount=None, friendsCount=None, statusesCount=None, favouritesCount=None, listedCount=None, mediaCount=None, location=None, protected=None, link=None, profileImageUrl=None, profileBannerUrl=None, label=None), User(username='TweetYourRating', id=85391904, displayname=\"She'sOutOfMyLeague\", rawDescription=None, renderedDescription=None, descriptionLinks=None, verified=None, created=None, followersCount=None, friendsCount=None, statusesCount=None, favouritesCount=None, listedCount=None, mediaCount=None, location=None, protected=None, link=None, profileImageUrl=None, profileBannerUrl=None, label=None)]</td>\n",
       "    </tr>\n",
       "  </tbody>\n",
       "</table>\n",
       "</div>"
      ],
      "text/plain": [
       "                user  \\\n",
       "50299  ParamountPics   \n",
       "54150  ParamountPics   \n",
       "\n",
       "                                                                                                                                                                                                   content  \\\n",
       "50299  Sonic The Hedgehog is speeding to theatres for a big screen adventure for the whole family! Watch the new @SonicMovie trailer now, and #CatchSonic in theatres February 14! https://t.co/UUo9ctMbte   \n",
       "54150                                                                                                                #HeA10When he’s as funny as @nottjmiller in She’s Out of My League (@TweetYourRating)   \n",
       "\n",
       "        reply        date     times     like       rt  \\\n",
       "50299  1520.0  2019-11-12  06:00:00  50510.0  13159.0   \n",
       "54150     0.0  2010-02-26  06:00:00      0.0      0.0   \n",
       "\n",
       "                                                                                                                                                                                                                                                                                                                                                                                                                                                                                                                                                                                                                                                                                                                                                                                                             mention  \n",
       "50299                                                                                                                                                                                                                                                                                                                                                                                             [User(username='SonicMovie', id=1011719605981593600, displayname='Sonic the Hedgehog', rawDescription=None, renderedDescription=None, descriptionLinks=None, verified=None, created=None, followersCount=None, friendsCount=None, statusesCount=None, favouritesCount=None, listedCount=None, mediaCount=None, location=None, protected=None, link=None, profileImageUrl=None, profileBannerUrl=None, label=None)]  \n",
       "54150  [User(username='nottjmiller', id=20035593, displayname='t.j. miller', rawDescription=None, renderedDescription=None, descriptionLinks=None, verified=None, created=None, followersCount=None, friendsCount=None, statusesCount=None, favouritesCount=None, listedCount=None, mediaCount=None, location=None, protected=None, link=None, profileImageUrl=None, profileBannerUrl=None, label=None), User(username='TweetYourRating', id=85391904, displayname=\"She'sOutOfMyLeague\", rawDescription=None, renderedDescription=None, descriptionLinks=None, verified=None, created=None, followersCount=None, friendsCount=None, statusesCount=None, favouritesCount=None, listedCount=None, mediaCount=None, location=None, protected=None, link=None, profileImageUrl=None, profileBannerUrl=None, label=None)]  "
      ]
     },
     "execution_count": 25,
     "metadata": {},
     "output_type": "execute_result"
    }
   ],
   "source": [
    "#Explanation of Paramountpics peak\n",
    "pd.set_option('display.max_rows', 300)\n",
    "pd.set_option('max_colwidth', 1220)\n",
    "df[(df.user==\"ParamountPics\") & (df.time=='6')][[\"user\",\"content\",\"reply\",\"date\",\"times\",\"like\",\"rt\",\"mention\"]]"
   ]
  },
  {
   "cell_type": "code",
   "execution_count": 26,
   "metadata": {},
   "outputs": [],
   "source": [
    "#RUN ONLY ONCE\n",
    "df[\"month\"]=df.date.astype(\"str\").str[5:7]"
   ]
  },
  {
   "cell_type": "code",
   "execution_count": 27,
   "metadata": {},
   "outputs": [],
   "source": [
    "df_month=pd.DataFrame(df.groupby(\"month\").count()[\"user\"])\n",
    "df_month[\"month\"]=df_month.index"
   ]
  },
  {
   "cell_type": "code",
   "execution_count": 28,
   "metadata": {},
   "outputs": [
    {
     "data": {
      "image/png": "[encoded data removed]",
      "text/plain": [
       "<Figure size 640x480 with 1 Axes>"
      ]
     },
     "metadata": {},
     "output_type": "display_data"
    }
   ],
   "source": [
    "df_month=pd.DataFrame(df.groupby(\"month\").count()[\"user\"])\n",
    "df_month[\"month\"]=df_month.index\n",
    "\n",
    "ax=df_month.plot(legend=False)\n",
    "\n",
    "plt.xlabel(\"Month\")\n",
    "plt.ylabel(\"Number of tweets\")\n",
    "plt.show()"
   ]
  },
  {
   "cell_type": "code",
   "execution_count": 29,
   "metadata": {},
   "outputs": [
    {
     "data": {
      "image/png": "[encoded data removed]",
      "text/plain": [
       "<Figure size 640x480 with 1 Axes>"
      ]
     },
     "metadata": {},
     "output_type": "display_data"
    }
   ],
   "source": [
    "#Create graph for monthly fluctations of tweets\n",
    "df_grouped2=pd.DataFrame(df.groupby([\"user\",\"month\"]).count()[\"content\"])\n",
    "df_grouped2=df_grouped2.reset_index()\n",
    "\n",
    "df_pivot2=df_grouped2.set_index([\"month\",\"user\"])[\"content\"].unstack()\n",
    "ax=df_pivot2.plot.line()\n",
    "#ax.set_xticks([df_times_rt.times[0],df_times_rt.times[6],df_times_rt.times[12],df_times_rt.times[18]])\n",
    "plt.legend(loc='center left', bbox_to_anchor=(1.0, 0.5),prop={'size': 9})\n",
    "plt.ylabel(\"Number of tweets\")\n",
    "plt.xlabel(\"Month\")\n",
    "plt.show()"
   ]
  },
  {
   "cell_type": "code",
   "execution_count": 30,
   "metadata": {},
   "outputs": [
    {
     "data": {
      "image/png": "[encoded data removed]",
      "text/plain": [
       "<Figure size 640x480 with 1 Axes>"
      ]
     },
     "metadata": {},
     "output_type": "display_data"
    }
   ],
   "source": [
    "#Create graph for monthly fluctations of retweets\n",
    "df_month_rt=pd.DataFrame(df.groupby(\"month\").mean()[\"rt\"])\n",
    "df_month_rt[\"month\"]=df_month_rt.index\n",
    "\n",
    "ax=df_month_rt.plot(legend=False)\n",
    "\n",
    "plt.xlabel(\"Month\")\n",
    "plt.ylabel(\"Average retweet\")\n",
    "plt.show()"
   ]
  },
  {
   "cell_type": "code",
   "execution_count": 31,
   "metadata": {},
   "outputs": [
    {
     "data": {
      "image/png": "[encoded data removed]",
      "text/plain": [
       "<Figure size 640x480 with 1 Axes>"
      ]
     },
     "metadata": {},
     "output_type": "display_data"
    }
   ],
   "source": [
    "#Create graph for monthly fluctations of retweets for each company\n",
    "df_grouped2=pd.DataFrame(df.groupby([\"user\",\"month\"]).mean(\"rt\"))\n",
    "df_grouped2=df_grouped2.reset_index()\n",
    "\n",
    "df_pivot2=df_grouped2.set_index([\"month\",\"user\"])[\"rt\"].unstack()\n",
    "ax=df_pivot2.plot.line()\n",
    "#ax.set_xticks([df_times_rt.times[0],df_times_rt.times[6],df_times_rt.times[12],df_times_rt.times[18]])\n",
    "plt.legend(loc='center left', bbox_to_anchor=(1.0, 0.5),prop={'size': 9})\n",
    "plt.ylabel(\"Average retweet\")\n",
    "plt.xlabel(\"Month\")\n",
    "plt.show()"
   ]
  },
  {
   "cell_type": "markdown",
   "metadata": {
    "id": "H09xtZzwFU3P",
    "tags": []
   },
   "source": [
    "# Data Preparation"
   ]
  },
  {
   "cell_type": "markdown",
   "metadata": {
    "id": "CRhcvvI1M6cX",
    "tags": []
   },
   "source": [
    "## Context Based Columns"
   ]
  },
  {
   "cell_type": "code",
   "execution_count": 32,
   "metadata": {
    "colab": {
     "background_save": true
    },
    "id": "JFakeDxACsI6",
    "outputId": "02abb693-05b0-4539-ffff-8c47602ce7b7"
   },
   "outputs": [
    {
     "data": {
      "text/plain": [
       "user           0.000000\n",
       "content        0.000000\n",
       "follow         0.000394\n",
       "friend         0.000394\n",
       "link          64.892574\n",
       "reply          0.000394\n",
       "quote          0.000394\n",
       "lan            0.000394\n",
       "rttw         100.000000\n",
       "quotw         98.415881\n",
       "mention       37.676205\n",
       "rt             0.000394\n",
       "like           0.000394\n",
       "date           0.000000\n",
       "time           0.000000\n",
       "partofday      0.000000\n",
       "times          0.000000\n",
       "month          0.000000\n",
       "dtype: float64"
      ]
     },
     "execution_count": 32,
     "metadata": {},
     "output_type": "execute_result"
    }
   ],
   "source": [
    "#NaN value count\n",
    "df.isna().sum() / len(df) * 100"
   ]
  },
  {
   "cell_type": "code",
   "execution_count": 33,
   "metadata": {
    "colab": {
     "background_save": true
    },
    "id": "HOUh61OCCyiQ"
   },
   "outputs": [],
   "source": [
    "#Drop quoted and retweeted tweets. We are looking for original tweets\n",
    "df=df[df.quotw.isna()]\n",
    "df=df[df.rttw.isna()]"
   ]
  },
  {
   "cell_type": "code",
   "execution_count": 34,
   "metadata": {
    "colab": {
     "background_save": true
    },
    "id": "Du6Xl6SRz9iq"
   },
   "outputs": [],
   "source": [
    "#Drop duplicates\n",
    "df.drop_duplicates(inplace=True)"
   ]
  },
  {
   "cell_type": "code",
   "execution_count": 35,
   "metadata": {
    "colab": {
     "background_save": true
    },
    "id": "P77HtriiXLCS",
    "outputId": "0515616a-d082-4c10-a4c9-a86f5702369a"
   },
   "outputs": [
    {
     "data": {
      "text/plain": [
       "user           0.000000\n",
       "content        0.000000\n",
       "follow         0.000400\n",
       "friend         0.000400\n",
       "link          65.214172\n",
       "reply          0.000400\n",
       "quote          0.000400\n",
       "lan            0.000400\n",
       "rttw         100.000000\n",
       "quotw        100.000000\n",
       "mention       37.253576\n",
       "rt             0.000400\n",
       "like           0.000400\n",
       "date           0.000000\n",
       "time           0.000000\n",
       "partofday      0.000000\n",
       "times          0.000000\n",
       "month          0.000000\n",
       "dtype: float64"
      ]
     },
     "execution_count": 35,
     "metadata": {},
     "output_type": "execute_result"
    }
   ],
   "source": [
    "#NaN value count\n",
    "df.isna().sum() / len(df) * 100"
   ]
  },
  {
   "cell_type": "code",
   "execution_count": 36,
   "metadata": {
    "colab": {
     "background_save": true
    },
    "id": "h8wWXSn5EKxS"
   },
   "outputs": [],
   "source": [
    "#Drop rttw and quotw columns\n",
    "df.drop(columns=[\"rttw\",\"quotw\"],inplace=True)"
   ]
  },
  {
   "cell_type": "code",
   "execution_count": 37,
   "metadata": {
    "colab": {
     "background_save": true
    },
    "id": "yq-EaCd5I8SO",
    "outputId": "71068fa4-b4f2-4d61-bbda-09ea732eea16"
   },
   "outputs": [
    {
     "name": "stdout",
     "output_type": "stream",
     "text": [
      "Number of leftover RT tweets: 8269\n"
     ]
    }
   ],
   "source": [
    "#Although retweets are dropped, there are 8269 rows that were not original tweets but rather RT. Their quottw and rttw columns were NaN.\n",
    "#But the original context contained RT @. The latest date is 2016. Drop them.\n",
    "print(\"Number of leftover RT tweets:\",len(df[df.content.str.contains(\"RT@\")])+len(df[df.content.str.contains(\"RT @\")])+len(df[df.content.str.contains(\"RT  @\")]))\n",
    "df=df[~df.content.str.contains(\"RT@\")]\n",
    "df=df[~df.content.str.contains(\"RT @\")]\n",
    "df=df[~df.content.str.contains(\"RT  @\")]"
   ]
  },
  {
   "cell_type": "code",
   "execution_count": 38,
   "metadata": {
    "colab": {
     "background_save": true
    },
    "id": "7tMAot59GpN-"
   },
   "outputs": [],
   "source": [
    "##Drop NaN values in follow column\n",
    "df=df[~df.follow.isna()]"
   ]
  },
  {
   "cell_type": "code",
   "execution_count": 39,
   "metadata": {
    "colab": {
     "background_save": true
    },
    "id": "SFjB3J_KhEwy",
    "outputId": "df792455-1331-4bc5-b6b8-940cd65cefcf"
   },
   "outputs": [
    {
     "name": "stdout",
     "output_type": "stream",
     "text": [
      "Unique decimals of column follow : ['0']\n",
      "Unique decimals of column friend : ['0']\n",
      "Unique decimals of column reply : ['0']\n",
      "Unique decimals of column quote : ['0']\n",
      "Unique decimals of column rt : ['0']\n",
      "Unique decimals of column like : ['0']\n"
     ]
    }
   ],
   "source": [
    "# RUN ONLY ONCE\n",
    "#Check whether the float columns have decimals other than 0. (There shouldn't be any)\n",
    "floatcolumns= [\"follow\",\"friend\",\"reply\",\"quote\",\"rt\",\"like\"]\n",
    "for i in floatcolumns: \n",
    "  print(\"Unique decimals of column\",i,\":\",df[i].astype(str).str[-1].unique())\n",
    "\n",
    "#Convert float columns into integer for faster processing\n",
    "for i in floatcolumns:\n",
    " df[i]=df[i].astype(float)"
   ]
  },
  {
   "cell_type": "code",
   "execution_count": 40,
   "metadata": {
    "colab": {
     "background_save": true
    },
    "id": "z2tNVTl2wlkg"
   },
   "outputs": [],
   "source": [
    "#Clean mention column\n",
    "import re\n",
    "\n",
    "# Define a regular expression to match the text after 'username=' and between single quotes\n",
    "pattern = r\"username='(.*?)'\"\n",
    "\n",
    "# Define a function to extract the name from each row of the 'mention' column, only for non-missing values\n",
    "def extract_name(row):\n",
    "    if isinstance(row, str):\n",
    "        match = re.search(pattern, row)\n",
    "        if match:\n",
    "            return match.group(1)\n",
    "    return row\n",
    "\n",
    "# Apply the function to the 'mention' column to create a new column with the extracted names, while keeping missing values\n",
    "df['mentioneduser'] = df['mention'].apply(extract_name)\n",
    "\n",
    "#Drop mention column\n",
    "df=df.drop([\"mention\"],axis=1)\n",
    "\n",
    "#Change mentioneduser to mention\n",
    "df=df.rename(columns={\"mentioneduser\": \"mention\"})"
   ]
  },
  {
   "cell_type": "code",
   "execution_count": 41,
   "metadata": {
    "colab": {
     "background_save": true
    },
    "id": "Qw53Eue2m2DW"
   },
   "outputs": [],
   "source": [
    "#Link column does not keep a meaningful value for analysis. Drop it\n",
    "df.drop(columns=[\"link\"],inplace=True)"
   ]
  },
  {
   "cell_type": "code",
   "execution_count": 42,
   "metadata": {
    "colab": {
     "background_save": true
    },
    "id": "g0uq2EdlzZrY"
   },
   "outputs": [],
   "source": [
    "#Create Part of day column\n",
    "bins={0:\"latenight\",6:\"morning\",12:\"afternoon\",18:\"evening\"}\n",
    "df[\"daytime\"]=df.time.astype(str)\n",
    "df[\"daytime\"]=df[\"daytime\"].str[0:2]\n",
    "df[\"partofday\"]=df[\"daytime\"].astype('int')\n",
    "df[\"partofday\"]=pd.cut(df[\"partofday\"],bins=[0,6,12,18,23],labels=['latenight','morning','afternoon','evening'],include_lowest=True)\n",
    "\n",
    "df.drop(columns=[\"time\"],inplace=True)\n",
    "df.rename(columns={\"daytime\":\"time\"},inplace=True)"
   ]
  },
  {
   "cell_type": "markdown",
   "metadata": {},
   "source": [
    "### Reduce rows"
   ]
  },
  {
   "cell_type": "code",
   "execution_count": 47,
   "metadata": {},
   "outputs": [],
   "source": [
    "# Keep english tweets only\n",
    "df=df[df.lan=='en']"
   ]
  },
  {
   "cell_type": "code",
   "execution_count": 48,
   "metadata": {},
   "outputs": [],
   "source": [
    "a=df.groupby('user').agg({'date': ['min', 'max']})"
   ]
  },
  {
   "cell_type": "code",
   "execution_count": 49,
   "metadata": {},
   "outputs": [
    {
     "name": "stderr",
     "output_type": "stream",
     "text": [
      "C:\\Users\\M1ARDHIZ\\AppData\\Local\\Temp\\ipykernel_17764\\1355415041.py:1: FutureWarning: Dropping invalid columns in DataFrameGroupBy.min is deprecated. In a future version, a TypeError will be raised. Before calling .min, select only columns which should be valid for the function.\n",
      "  a=df.groupby(['user']).min()['date']\n",
      "C:\\Users\\M1ARDHIZ\\AppData\\Local\\Temp\\ipykernel_17764\\1355415041.py:2: FutureWarning: Dropping invalid columns in DataFrameGroupBy.max is deprecated. In a future version, a TypeError will be raised. Before calling .max, select only columns which should be valid for the function.\n",
      "  b=df.groupby(['user']).max()['date']\n"
     ]
    },
    {
     "data": {
      "image/png": "[encoded data removed]",
      "text/plain": [
       "<Figure size 1000x600 with 1 Axes>"
      ]
     },
     "metadata": {},
     "output_type": "display_data"
    }
   ],
   "source": [
    "a=df.groupby(['user']).min()['date']\n",
    "b=df.groupby(['user']).max()['date']\n",
    "ab=pd.merge(a, b, left_on='user', right_on='user')\n",
    "ab.columns=[\"earliest_tweet\",\"latest_tweet\"]\n",
    "ab.earliest_tweet=ab.earliest_tweet.astype(str)\n",
    "ab.latest_tweet=ab.latest_tweet.astype(str)\n",
    "ab.earliest_tweet=ab.earliest_tweet.str[:4]\n",
    "ab.latest_tweet=ab.latest_tweet.str[:4]\n",
    "ab.earliest_tweet=ab.earliest_tweet.astype(int)\n",
    "ab.latest_tweet=ab.latest_tweet.astype(int)\n",
    "ab[\"user\"]=ab.index\n",
    "# Create a list of years from 2008 to 2023\n",
    "years = list(range(2008, 2024))\n",
    "\n",
    "# Set up the plot\n",
    "plt.figure(figsize=(10, 6))\n",
    "\n",
    "# Iterate over each row in the dataframe\n",
    "for index, row in ab.iterrows():\n",
    "    user = row['user']\n",
    "    earliest_tweet = row['earliest_tweet']\n",
    "    latest_tweet = row['latest_tweet']\n",
    "\n",
    "    # Create a line plot for each user\n",
    "    plt.plot([earliest_tweet, latest_tweet], [user, user], linewidth=2)\n",
    "\n",
    "# Customize the plot\n",
    "#plt.xlabel('Year')\n",
    "#plt.ylabel('User')\n",
    "plt.title('User Tweet Timeline')\n",
    "plt.yticks(ab['user'])\n",
    "plt.xticks(range(2008, 2024, 2))\n",
    "\n",
    "# Display the plot\n",
    "plt.show()"
   ]
  },
  {
   "cell_type": "code",
   "execution_count": 50,
   "metadata": {},
   "outputs": [],
   "source": [
    "# RUN ONLY ONCE\n",
    "df[\"year\"]=df.date.astype(str).str[:4].astype(int)\n",
    "df[\"month\"]=df.date.astype(str).str[5:7].astype(int)\n",
    "df=df[df.year>=2015]\n",
    "df=df[df.year<=2022]"
   ]
  },
  {
   "cell_type": "markdown",
   "metadata": {
    "id": "pQ9Gv1Yjkvvi",
    "tags": []
   },
   "source": [
    "## Content Columns"
   ]
  },
  {
   "cell_type": "markdown",
   "metadata": {},
   "source": [
    "### Preprocess"
   ]
  },
  {
   "cell_type": "markdown",
   "metadata": {
    "id": "TpXCiIrgtvz_",
    "tags": []
   },
   "source": [
    "#### Preprocess1 (Fundamental)"
   ]
  },
  {
   "cell_type": "code",
   "execution_count": 51,
   "metadata": {},
   "outputs": [],
   "source": [
    "df[\"content_sentiment\"]=df.content.copy()\n",
    "df1=df.copy() #Create copy of df (fundamental)"
   ]
  },
  {
   "cell_type": "code",
   "execution_count": 52,
   "metadata": {},
   "outputs": [],
   "source": [
    "def preprocess1(text):\n",
    "    # Lowercase\n",
    "    text = text.lower()\n",
    "    # Remove links, websites, mentions\n",
    "    text = re.sub(r\"http\\S+\", \"\", text)\n",
    "    text = re.sub(r\"www.\\S+\", \"\", text)\n",
    "    text = re.sub(r'@\\w+', '', text)\n",
    "\n",
    "    # Remove emojis\n",
    "    emojis = re.compile(\"[\"\n",
    "        u\"\\U0001F600-\\U0001F64F\"  # emoticons\n",
    "        u\"\\U0001F300-\\U0001F5FF\"  # symbols & pictographs\n",
    "        u\"\\U0001F680-\\U0001F6FF\"  # transport & map symbols\n",
    "        u\"\\U0001F1E0-\\U0001F1FF\"  # flags (iOS)\n",
    "        u\"\\U00002702-\\U000027B0\"\n",
    "        u\"\\U000024C2-\\U0001F251\"\n",
    "        \"]+\", flags=re.UNICODE)\n",
    "    text = emojis.sub(r'', text)\n",
    "\n",
    "    # Replace 2+ dots with space\n",
    "    text = re.sub(r'\\.{2,}', ' ', text)\n",
    "\n",
    "    # Replace multiple spaces with a single space\n",
    "    text = re.sub(r'\\s+', ' ', text)\n",
    "\n",
    "    # Expand the contractions\n",
    "    text = contractions.fix(text)\n",
    "\n",
    "    # Remove punctuations\n",
    "    text = text.translate(str.maketrans('', '', string.punctuation))\n",
    "    \n",
    "    # remove special characters\n",
    "    text = re.sub(r'[^\\w\\s]', '', text)\n",
    "\n",
    "    # Word tokenization\n",
    "    tokens = word_tokenize(text)\n",
    "\n",
    "    # Remove single characters\n",
    "    tokens = [token for token in tokens if len(token) > 1]\n",
    "\n",
    "    # Convert more than 2 letter repetitions to 2 letters e.g., \"funnnnny\" --> \"funny\"\n",
    "    tokens = [re.sub(r'(.)\\1+', r'\\1\\1', token) for token in tokens]\n",
    "\n",
    "    # Remove numbers\n",
    "    tokens = [token for token in tokens if not token.isdigit()]\n",
    "    \n",
    "    # Remove stopwords\n",
    "    stop_words = set(stopwords.words('english'))\n",
    "    tokens = [token for token in tokens if token not in stop_words]\n",
    "\n",
    "    return tokens"
   ]
  },
  {
   "cell_type": "code",
   "execution_count": 53,
   "metadata": {},
   "outputs": [],
   "source": [
    "df1['content_sentiment'] = df1['content_sentiment'].apply(preprocess1)"
   ]
  },
  {
   "cell_type": "markdown",
   "metadata": {
    "tags": []
   },
   "source": [
    "#### Preprocess2 (remove hashtaged words)"
   ]
  },
  {
   "cell_type": "code",
   "execution_count": 54,
   "metadata": {},
   "outputs": [],
   "source": [
    "df2=df.copy() #Create copy of df (fundamental)"
   ]
  },
  {
   "cell_type": "code",
   "execution_count": 55,
   "metadata": {},
   "outputs": [],
   "source": [
    "def preprocess2(text):\n",
    "    # Lowercase\n",
    "    text = text.lower()\n",
    "    # Remove links, websites, mentions\n",
    "    text = re.sub(r\"http\\S+\", \"\", text)\n",
    "    text = re.sub(r\"www.\\S+\", \"\", text)\n",
    "    text = re.sub(r'@\\w+', '', text)\n",
    "    \n",
    "    # Remove words starting with '#'\n",
    "    text = re.sub(r'\\#\\w+\\s*', '', text)\n",
    "\n",
    "    # Remove emojis\n",
    "    emojis = re.compile(\"[\"\n",
    "        u\"\\U0001F600-\\U0001F64F\"  # emoticons\n",
    "        u\"\\U0001F300-\\U0001F5FF\"  # symbols & pictographs\n",
    "        u\"\\U0001F680-\\U0001F6FF\"  # transport & map symbols\n",
    "        u\"\\U0001F1E0-\\U0001F1FF\"  # flags (iOS)\n",
    "        u\"\\U00002702-\\U000027B0\"\n",
    "        u\"\\U000024C2-\\U0001F251\"\n",
    "        \"]+\", flags=re.UNICODE)\n",
    "    text = emojis.sub(r'', text)\n",
    "\n",
    "    # Replace 2+ dots with space\n",
    "    text = re.sub(r'\\.{2,}', ' ', text)\n",
    "\n",
    "    # Replace multiple spaces with a single space\n",
    "    text = re.sub(r'\\s+', ' ', text)\n",
    "\n",
    "    # Expand the contractions\n",
    "    text = contractions.fix(text)\n",
    "\n",
    "    # Remove punctuations\n",
    "    text = text.translate(str.maketrans('', '', string.punctuation))\n",
    "    \n",
    "    # remove special characters\n",
    "    text = re.sub(r'[^\\w\\s]', '', text)\n",
    "\n",
    "    # Word tokenization\n",
    "    tokens = word_tokenize(text)\n",
    "\n",
    "    # Remove single characters\n",
    "    tokens = [token for token in tokens if len(token) > 1]\n",
    "\n",
    "    # Convert more than 2 letter repetitions to 2 letters e.g., \"funnnnny\" --> \"funny\"\n",
    "    tokens = [re.sub(r'(.)\\1+', r'\\1\\1', token) for token in tokens]\n",
    "\n",
    "    # Remove numbers\n",
    "    tokens = [token for token in tokens if not token.isdigit()]\n",
    "    \n",
    "    # Remove stopwords\n",
    "    stop_words = set(stopwords.words('english'))\n",
    "    tokens = [token for token in tokens if token not in stop_words]\n",
    "\n",
    "    return tokens"
   ]
  },
  {
   "cell_type": "code",
   "execution_count": 56,
   "metadata": {},
   "outputs": [],
   "source": [
    "df2['content_sentiment'] = df2['content_sentiment'].apply(preprocess2)"
   ]
  },
  {
   "cell_type": "markdown",
   "metadata": {
    "jp-MarkdownHeadingCollapsed": true,
    "tags": []
   },
   "source": [
    "#### Preprocess3 (remove rare & frequent words)"
   ]
  },
  {
   "cell_type": "code",
   "execution_count": 57,
   "metadata": {},
   "outputs": [],
   "source": [
    "df3=df1.copy() #Create copy of df (fundamental)"
   ]
  },
  {
   "cell_type": "code",
   "execution_count": 58,
   "metadata": {},
   "outputs": [
    {
     "data": {
      "text/html": [
       "<div>\n",
       "<style scoped>\n",
       "    .dataframe tbody tr th:only-of-type {\n",
       "        vertical-align: middle;\n",
       "    }\n",
       "\n",
       "    .dataframe tbody tr th {\n",
       "        vertical-align: top;\n",
       "    }\n",
       "\n",
       "    .dataframe thead th {\n",
       "        text-align: right;\n",
       "    }\n",
       "</style>\n",
       "<table border=\"1\" class=\"dataframe\">\n",
       "  <thead>\n",
       "    <tr style=\"text-align: right;\">\n",
       "      <th></th>\n",
       "      <th>word</th>\n",
       "      <th>occurrence</th>\n",
       "    </tr>\n",
       "  </thead>\n",
       "  <tbody>\n",
       "    <tr>\n",
       "      <th>0</th>\n",
       "      <td>us</td>\n",
       "      <td>11107</td>\n",
       "    </tr>\n",
       "    <tr>\n",
       "      <th>1</th>\n",
       "      <td>see</td>\n",
       "      <td>10166</td>\n",
       "    </tr>\n",
       "    <tr>\n",
       "      <th>2</th>\n",
       "      <td>get</td>\n",
       "      <td>9701</td>\n",
       "    </tr>\n",
       "    <tr>\n",
       "      <th>3</th>\n",
       "      <td>thanks</td>\n",
       "      <td>9208</td>\n",
       "    </tr>\n",
       "    <tr>\n",
       "      <th>4</th>\n",
       "      <td>live</td>\n",
       "      <td>8910</td>\n",
       "    </tr>\n",
       "    <tr>\n",
       "      <th>5</th>\n",
       "      <td>please</td>\n",
       "      <td>8295</td>\n",
       "    </tr>\n",
       "    <tr>\n",
       "      <th>6</th>\n",
       "      <td>presale</td>\n",
       "      <td>8221</td>\n",
       "    </tr>\n",
       "    <tr>\n",
       "      <th>7</th>\n",
       "      <td>new</td>\n",
       "      <td>7981</td>\n",
       "    </tr>\n",
       "    <tr>\n",
       "      <th>8</th>\n",
       "      <td>hi</td>\n",
       "      <td>7441</td>\n",
       "    </tr>\n",
       "    <tr>\n",
       "      <th>9</th>\n",
       "      <td>tickets</td>\n",
       "      <td>7207</td>\n",
       "    </tr>\n",
       "  </tbody>\n",
       "</table>\n",
       "</div>"
      ],
      "text/plain": [
       "      word  occurrence\n",
       "0       us       11107\n",
       "1      see       10166\n",
       "2      get        9701\n",
       "3   thanks        9208\n",
       "4     live        8910\n",
       "5   please        8295\n",
       "6  presale        8221\n",
       "7      new        7981\n",
       "8       hi        7441\n",
       "9  tickets        7207"
      ]
     },
     "execution_count": 58,
     "metadata": {},
     "output_type": "execute_result"
    }
   ],
   "source": [
    "#Most common irrelevant words\n",
    "from collections import Counter\n",
    "\n",
    "# Flatten the list of tokens\n",
    "all_tokens = [token for tokens in df3.content_sentiment for token in tokens]\n",
    "\n",
    "# Count the occurrence of each word\n",
    "word_counts = Counter(all_tokens)\n",
    "frequent_words = pd.DataFrame(word_counts.most_common(300), columns=['word', 'occurrence'])\n",
    "wordlist=[\"amp\", \"dm\",\"c\",\"tix\",\"rt\",\"th\",\"gt\",\"rsvp\",\"pt\",\"amex\",\"tv\"]\n",
    "#frequent_words[frequent_words.word.isin(wordlist)]\n",
    "frequent_words.head(10)\n",
    "#amp (&amp), dm(direct message) , c (8|7c (Central time in US), tix (tickets), rt (retweet), th (8th), \n",
    "#gt (&gt), rsvp (please reply), pt(pasific time), amex (american express), tv(television)"
   ]
  },
  {
   "cell_type": "code",
   "execution_count": 59,
   "metadata": {},
   "outputs": [
    {
     "data": {
      "text/html": [
       "<div>\n",
       "<style scoped>\n",
       "    .dataframe tbody tr th:only-of-type {\n",
       "        vertical-align: middle;\n",
       "    }\n",
       "\n",
       "    .dataframe tbody tr th {\n",
       "        vertical-align: top;\n",
       "    }\n",
       "\n",
       "    .dataframe thead th {\n",
       "        text-align: right;\n",
       "    }\n",
       "</style>\n",
       "<table border=\"1\" class=\"dataframe\">\n",
       "  <thead>\n",
       "    <tr style=\"text-align: right;\">\n",
       "      <th></th>\n",
       "      <th>occurrence</th>\n",
       "      <th>word_quantity</th>\n",
       "    </tr>\n",
       "  </thead>\n",
       "  <tbody>\n",
       "    <tr>\n",
       "      <th>49</th>\n",
       "      <td>1</td>\n",
       "      <td>20362</td>\n",
       "    </tr>\n",
       "    <tr>\n",
       "      <th>15</th>\n",
       "      <td>2</td>\n",
       "      <td>6249</td>\n",
       "    </tr>\n",
       "    <tr>\n",
       "      <th>46</th>\n",
       "      <td>3</td>\n",
       "      <td>3337</td>\n",
       "    </tr>\n",
       "    <tr>\n",
       "      <th>107</th>\n",
       "      <td>4</td>\n",
       "      <td>2108</td>\n",
       "    </tr>\n",
       "    <tr>\n",
       "      <th>101</th>\n",
       "      <td>5</td>\n",
       "      <td>1496</td>\n",
       "    </tr>\n",
       "    <tr>\n",
       "      <th>104</th>\n",
       "      <td>6</td>\n",
       "      <td>1145</td>\n",
       "    </tr>\n",
       "    <tr>\n",
       "      <th>18</th>\n",
       "      <td>7</td>\n",
       "      <td>833</td>\n",
       "    </tr>\n",
       "    <tr>\n",
       "      <th>3</th>\n",
       "      <td>8</td>\n",
       "      <td>741</td>\n",
       "    </tr>\n",
       "    <tr>\n",
       "      <th>14</th>\n",
       "      <td>9</td>\n",
       "      <td>612</td>\n",
       "    </tr>\n",
       "    <tr>\n",
       "      <th>183</th>\n",
       "      <td>10</td>\n",
       "      <td>514</td>\n",
       "    </tr>\n",
       "  </tbody>\n",
       "</table>\n",
       "</div>"
      ],
      "text/plain": [
       "     occurrence  word_quantity\n",
       "49            1          20362\n",
       "15            2           6249\n",
       "46            3           3337\n",
       "107           4           2108\n",
       "101           5           1496\n",
       "104           6           1145\n",
       "18            7            833\n",
       "3             8            741\n",
       "14            9            612\n",
       "183          10            514"
      ]
     },
     "execution_count": 59,
     "metadata": {},
     "output_type": "execute_result"
    }
   ],
   "source": [
    "word_counts = Counter([word for tokens in df3['content_sentiment'] for word in tokens])\n",
    "\n",
    "# Count the number of unique word occurrences\n",
    "occurrence_counts = Counter(word_counts.values())\n",
    "\n",
    "# Create a dataframe from the occurrence counts\n",
    "df3_occurrence = pd.DataFrame({'occurrence': list(occurrence_counts.keys()),\n",
    "                              'word_quantity': list(occurrence_counts.values())})\n",
    "\n",
    "# Sort the dataframe by occurrence in ascending order\n",
    "df3_occurrence = df3_occurrence.sort_values('occurrence')\n",
    "df3_occurrence.head(10)"
   ]
  },
  {
   "cell_type": "code",
   "execution_count": 60,
   "metadata": {
    "id": "TbHgyAV-Rn3I"
   },
   "outputs": [],
   "source": [
    "#Remove Words - Most Frequent\n",
    "\n",
    "remove_wordlist = [\"amp\",\"c\",\"th\",\"gt\",\"pt\"]\n",
    "\n",
    "# Define a function to remove words from the tokens\n",
    "def remove_words(tokens):\n",
    "    return [token for token in tokens if token not in remove_wordlist]\n",
    "\n",
    "# Apply the function to remove words from the tokenized column\n",
    "df3['content_sentiment'] = df3['content_sentiment'].apply(remove_words)"
   ]
  },
  {
   "cell_type": "code",
   "execution_count": 61,
   "metadata": {},
   "outputs": [],
   "source": [
    "#Replace common abbreviations\n",
    "replace_dict = {'dm': 'message', 'tix': 'ticket', 'rt': 'retweet', 'rsvp': 'please reply', 'amex': 'american express','tv':'television'}\n",
    "\n",
    "# Replace words in the tokenized column\n",
    "df3['content_sentiment'] = [[replace_dict.get(word, word) for word in tokens] for tokens in df3['content_sentiment']]"
   ]
  },
  {
   "cell_type": "code",
   "execution_count": 62,
   "metadata": {},
   "outputs": [],
   "source": [
    "#Remove the words occurred less than 10 times\n",
    "words_to_remove = set(word for word, count in word_counts.items() if count < 10)\n",
    "df3['content_sentiment'] = [[word for word in tokens if word not in words_to_remove] for tokens in df3['content_sentiment']]"
   ]
  },
  {
   "cell_type": "markdown",
   "metadata": {
    "id": "gxlbDctetreg",
    "tags": []
   },
   "source": [
    "#### Preprocess4 (replace slang)"
   ]
  },
  {
   "cell_type": "code",
   "execution_count": 63,
   "metadata": {},
   "outputs": [],
   "source": [
    "df4=df1.copy() #Create copy of df (fundamental)"
   ]
  },
  {
   "cell_type": "code",
   "execution_count": 64,
   "metadata": {},
   "outputs": [],
   "source": [
    "#Count Slangs for each user\n",
    "\n",
    "#Get slang df\n",
    "slang=pd.read_csv('cleaning_slang.csv',encoding='cp1252') \n",
    "slang_df=pd.DataFrame(slang)\n",
    "slang_df.Column1=slang_df.Column1.astype(str)\n",
    "slang_df.Column2=slang_df.Column2.astype(str)"
   ]
  },
  {
   "cell_type": "code",
   "execution_count": 65,
   "metadata": {},
   "outputs": [],
   "source": [
    "# create a regex pattern that matches any of the slangs\n",
    "pattern = '|'.join(r'\\b{}\\b'.format(slang) for slang in slang_df['Column1'])\n",
    "\n",
    "#Convert content column into str\n",
    "df4[\"content\"]=df4[\"content\"].astype(str)\n",
    "\n",
    "# count the number of slangs in content using regex\n",
    "df4['num_slangs'] = df4['content'].apply(lambda x: len(re.findall(pattern, x)))\n",
    "# calculate the ratio of rows that have at least one slang/total rows for each user\n",
    "ratio = df4.groupby('user',group_keys=True)['num_slangs'].apply(lambda x: (x > 0).sum() / len(x)).reset_index(name='ratio')"
   ]
  },
  {
   "cell_type": "code",
   "execution_count": 66,
   "metadata": {},
   "outputs": [
    {
     "data": {
      "text/html": [
       "<div>\n",
       "<style scoped>\n",
       "    .dataframe tbody tr th:only-of-type {\n",
       "        vertical-align: middle;\n",
       "    }\n",
       "\n",
       "    .dataframe tbody tr th {\n",
       "        vertical-align: top;\n",
       "    }\n",
       "\n",
       "    .dataframe thead th {\n",
       "        text-align: right;\n",
       "    }\n",
       "</style>\n",
       "<table border=\"1\" class=\"dataframe\">\n",
       "  <thead>\n",
       "    <tr style=\"text-align: right;\">\n",
       "      <th></th>\n",
       "      <th>user</th>\n",
       "      <th>ratio</th>\n",
       "    </tr>\n",
       "  </thead>\n",
       "  <tbody>\n",
       "    <tr>\n",
       "      <th>10</th>\n",
       "      <td>netflix</td>\n",
       "      <td>0.027343</td>\n",
       "    </tr>\n",
       "    <tr>\n",
       "      <th>11</th>\n",
       "      <td>warnermusic</td>\n",
       "      <td>0.026837</td>\n",
       "    </tr>\n",
       "    <tr>\n",
       "      <th>7</th>\n",
       "      <td>Roku</td>\n",
       "      <td>0.026732</td>\n",
       "    </tr>\n",
       "    <tr>\n",
       "      <th>6</th>\n",
       "      <td>ParamountPics</td>\n",
       "      <td>0.020449</td>\n",
       "    </tr>\n",
       "    <tr>\n",
       "      <th>4</th>\n",
       "      <td>FOXTV</td>\n",
       "      <td>0.019027</td>\n",
       "    </tr>\n",
       "    <tr>\n",
       "      <th>5</th>\n",
       "      <td>LiveNation</td>\n",
       "      <td>0.017814</td>\n",
       "    </tr>\n",
       "    <tr>\n",
       "      <th>9</th>\n",
       "      <td>iHeartMedia</td>\n",
       "      <td>0.012238</td>\n",
       "    </tr>\n",
       "    <tr>\n",
       "      <th>0</th>\n",
       "      <td>AMC_TV</td>\n",
       "      <td>0.009893</td>\n",
       "    </tr>\n",
       "    <tr>\n",
       "      <th>1</th>\n",
       "      <td>Activision</td>\n",
       "      <td>0.008804</td>\n",
       "    </tr>\n",
       "    <tr>\n",
       "      <th>12</th>\n",
       "      <td>wbpictures</td>\n",
       "      <td>0.008054</td>\n",
       "    </tr>\n",
       "    <tr>\n",
       "      <th>3</th>\n",
       "      <td>EA</td>\n",
       "      <td>0.007015</td>\n",
       "    </tr>\n",
       "    <tr>\n",
       "      <th>13</th>\n",
       "      <td>zynga</td>\n",
       "      <td>0.005887</td>\n",
       "    </tr>\n",
       "    <tr>\n",
       "      <th>2</th>\n",
       "      <td>Disney</td>\n",
       "      <td>0.005745</td>\n",
       "    </tr>\n",
       "    <tr>\n",
       "      <th>8</th>\n",
       "      <td>TEGNA</td>\n",
       "      <td>0.005064</td>\n",
       "    </tr>\n",
       "  </tbody>\n",
       "</table>\n",
       "</div>"
      ],
      "text/plain": [
       "             user     ratio\n",
       "10        netflix  0.027343\n",
       "11    warnermusic  0.026837\n",
       "7            Roku  0.026732\n",
       "6   ParamountPics  0.020449\n",
       "4           FOXTV  0.019027\n",
       "5      LiveNation  0.017814\n",
       "9     iHeartMedia  0.012238\n",
       "0          AMC_TV  0.009893\n",
       "1      Activision  0.008804\n",
       "12     wbpictures  0.008054\n",
       "3              EA  0.007015\n",
       "13          zynga  0.005887\n",
       "2          Disney  0.005745\n",
       "8           TEGNA  0.005064"
      ]
     },
     "execution_count": 66,
     "metadata": {},
     "output_type": "execute_result"
    }
   ],
   "source": [
    "ratio.sort_values(by=[\"ratio\"],ascending=False)"
   ]
  },
  {
   "cell_type": "code",
   "execution_count": 67,
   "metadata": {},
   "outputs": [
    {
     "name": "stdout",
     "output_type": "stream",
     "text": [
      "Total number of slangs:  1655\n"
     ]
    },
    {
     "data": {
      "text/html": [
       "<div>\n",
       "<style scoped>\n",
       "    .dataframe tbody tr th:only-of-type {\n",
       "        vertical-align: middle;\n",
       "    }\n",
       "\n",
       "    .dataframe tbody tr th {\n",
       "        vertical-align: top;\n",
       "    }\n",
       "\n",
       "    .dataframe thead th {\n",
       "        text-align: right;\n",
       "    }\n",
       "</style>\n",
       "<table border=\"1\" class=\"dataframe\">\n",
       "  <thead>\n",
       "    <tr style=\"text-align: right;\">\n",
       "      <th></th>\n",
       "      <th>Slang</th>\n",
       "      <th>Expanded</th>\n",
       "      <th>occurance</th>\n",
       "    </tr>\n",
       "  </thead>\n",
       "  <tbody>\n",
       "    <tr>\n",
       "      <th>3</th>\n",
       "      <td>app</td>\n",
       "      <td>application</td>\n",
       "      <td>601</td>\n",
       "    </tr>\n",
       "    <tr>\n",
       "      <th>70</th>\n",
       "      <td>wanna</td>\n",
       "      <td>want to</td>\n",
       "      <td>104</td>\n",
       "    </tr>\n",
       "    <tr>\n",
       "      <th>65</th>\n",
       "      <td>u</td>\n",
       "      <td>you</td>\n",
       "      <td>91</td>\n",
       "    </tr>\n",
       "    <tr>\n",
       "      <th>69</th>\n",
       "      <td>vs</td>\n",
       "      <td>versus</td>\n",
       "      <td>78</td>\n",
       "    </tr>\n",
       "    <tr>\n",
       "      <th>10</th>\n",
       "      <td>bestie</td>\n",
       "      <td>best friend</td>\n",
       "      <td>72</td>\n",
       "    </tr>\n",
       "    <tr>\n",
       "      <th>74</th>\n",
       "      <td>x</td>\n",
       "      <td>kiss</td>\n",
       "      <td>71</td>\n",
       "    </tr>\n",
       "    <tr>\n",
       "      <th>60</th>\n",
       "      <td>thx</td>\n",
       "      <td>thanks</td>\n",
       "      <td>54</td>\n",
       "    </tr>\n",
       "    <tr>\n",
       "      <th>61</th>\n",
       "      <td>thx</td>\n",
       "      <td>thanks</td>\n",
       "      <td>54</td>\n",
       "    </tr>\n",
       "    <tr>\n",
       "      <th>51</th>\n",
       "      <td>pro</td>\n",
       "      <td>professional</td>\n",
       "      <td>49</td>\n",
       "    </tr>\n",
       "    <tr>\n",
       "      <th>68</th>\n",
       "      <td>ur</td>\n",
       "      <td>you are</td>\n",
       "      <td>47</td>\n",
       "    </tr>\n",
       "  </tbody>\n",
       "</table>\n",
       "</div>"
      ],
      "text/plain": [
       "     Slang      Expanded  occurance\n",
       "3      app   application        601\n",
       "70   wanna       want to        104\n",
       "65       u           you         91\n",
       "69      vs        versus         78\n",
       "10  bestie   best friend         72\n",
       "74       x          kiss         71\n",
       "60     thx        thanks         54\n",
       "61     thx        thanks         54\n",
       "51     pro  professional         49\n",
       "68      ur       you are         47"
      ]
     },
     "execution_count": 67,
     "metadata": {},
     "output_type": "execute_result"
    }
   ],
   "source": [
    "#Frequency of Slangs\n",
    "slangs_dict = {}\n",
    "\n",
    "for row in df4.itertuples(index=False):\n",
    "    content = row.content\n",
    "    for slang in slang_df.Column1:\n",
    "        if f\" {slang} \" in f\" {content} \": \n",
    "            if slang in slangs_dict:\n",
    "                slangs_dict[slang] += 1\n",
    "            else:\n",
    "                slangs_dict[slang] = 1\n",
    "\n",
    "slang_sorted_d = dict( sorted(slangs_dict.items(), key=operator.itemgetter(1),reverse=True)) #Create a dictionary by sorting slangs_dict items\n",
    "slang_df_sorted=pd.DataFrame(slang_sorted_d,index=[0]).T #Transpose the df\n",
    "slang_df_sorted.rename(columns={0:\"occurance\"},inplace=True) #Change the column name\n",
    "slang_df_sorted[\"Slang\"]=slang_df_sorted.index # Create a column named Slang by taking indexes as basis\n",
    "slang_df_merged=slang_df.merge(slang_df_sorted, left_on='Column1', right_on='Slang')[[\"Column1\",\"Column2\",\"occurance\"]] #Merge two dfs to pull the occurances values \n",
    "slang_df_merged_sorted=slang_df_merged.sort_values(by=[\"occurance\"],ascending=False) \n",
    "slang_df_merged_sorted.rename(columns={\"Column1\":\"Slang\",\"Column2\":\"Expanded\"},inplace=True)\n",
    "print(\"Total number of slangs: \",slang_df_sorted.occurance.sum())\n",
    "slang_df_merged_sorted.head(10)"
   ]
  },
  {
   "cell_type": "code",
   "execution_count": 68,
   "metadata": {},
   "outputs": [],
   "source": [
    "#Convert slang columns into string\n",
    "slang_df.Column1=slang_df.Column1.astype(str)\n",
    "slang_df.Column2=slang_df.Column2.astype(str)"
   ]
  },
  {
   "cell_type": "code",
   "execution_count": 69,
   "metadata": {},
   "outputs": [],
   "source": [
    "#Remove goof and goofy from the slang list because they are mentioned as cartoon chracters, not a slang\n",
    "slang_df=slang_df[~slang_df.Column1.str.contains(\"goof\")]\n",
    "slang_dict = dict(zip(slang_df['Column1'], slang_df['Column2']))"
   ]
  },
  {
   "cell_type": "code",
   "execution_count": 70,
   "metadata": {},
   "outputs": [],
   "source": [
    "def preprocess4(text):\n",
    "    words = re.findall('\\w+', text)\n",
    "    for i in range(len(words)):\n",
    "        if words[i] in slang_dict:\n",
    "            words[i] = slang_dict[words[i]]\n",
    "    text = ' '.join(words)\n",
    "    return text"
   ]
  },
  {
   "cell_type": "code",
   "execution_count": 71,
   "metadata": {},
   "outputs": [],
   "source": [
    "#Convert content_sentiment into str for preprocessing\n",
    "df4[\"content_sentiment\"]=df4[\"content_sentiment\"].astype(str)\n",
    "#Apply preprocess4\n",
    "df4['content_sentiment'] = df4['content_sentiment'].apply(preprocess4)\n",
    "#Tokenize str content_sentiment column\n",
    "df4['content_sentiment'] = df4['content_sentiment'].apply(lambda x: word_tokenize(x))\n",
    "#Drop num_slangs column\n",
    "df4.drop(columns=[\"num_slangs\"],inplace=True)"
   ]
  },
  {
   "cell_type": "markdown",
   "metadata": {
    "tags": []
   },
   "source": [
    "#### Preprocess5 (stemming)"
   ]
  },
  {
   "cell_type": "code",
   "execution_count": 70,
   "metadata": {},
   "outputs": [],
   "source": [
    "df5=df1.copy()"
   ]
  },
  {
   "cell_type": "code",
   "execution_count": 71,
   "metadata": {},
   "outputs": [],
   "source": [
    "stemmer = PorterStemmer()\n",
    "\n",
    "# Apply stemming to the 'content_sentiment' column\n",
    "df5['content_sentiment'] = df5['content_sentiment'].apply(lambda x: [stemmer.stem(word) for word in x])"
   ]
  },
  {
   "cell_type": "markdown",
   "metadata": {
    "tags": []
   },
   "source": [
    "#### Preprocess6 (Lemmatization)"
   ]
  },
  {
   "cell_type": "code",
   "execution_count": 72,
   "metadata": {},
   "outputs": [
    {
     "ename": "NameError",
     "evalue": "name 'df6' is not defined",
     "output_type": "error",
     "traceback": [
      "\u001b[1;31m---------------------------------------------------------------------------\u001b[0m",
      "\u001b[1;31mNameError\u001b[0m                                 Traceback (most recent call last)",
      "\u001b[1;32m~\\AppData\\Local\\Temp\\ipykernel_17764\\2030569557.py\u001b[0m in \u001b[0;36m<module>\u001b[1;34m\u001b[0m\n\u001b[0;32m      7\u001b[0m \u001b[1;33m\u001b[0m\u001b[0m\n\u001b[0;32m      8\u001b[0m \u001b[1;31m# Apply lemmatization and POS tagging to the 'content_sentiment' column\u001b[0m\u001b[1;33m\u001b[0m\u001b[1;33m\u001b[0m\u001b[0m\n\u001b[1;32m----> 9\u001b[1;33m \u001b[0mdf6\u001b[0m\u001b[1;33m[\u001b[0m\u001b[1;34m'content_sentiment'\u001b[0m\u001b[1;33m]\u001b[0m \u001b[1;33m=\u001b[0m \u001b[0mdf6\u001b[0m\u001b[1;33m[\u001b[0m\u001b[1;34m'content_sentiment'\u001b[0m\u001b[1;33m]\u001b[0m\u001b[1;33m.\u001b[0m\u001b[0mapply\u001b[0m\u001b[1;33m(\u001b[0m\u001b[1;32mlambda\u001b[0m \u001b[0mx\u001b[0m\u001b[1;33m:\u001b[0m \u001b[1;33m[\u001b[0m\u001b[0mlemmatizer\u001b[0m\u001b[1;33m.\u001b[0m\u001b[0mlemmatize\u001b[0m\u001b[1;33m(\u001b[0m\u001b[0mword\u001b[0m\u001b[1;33m,\u001b[0m \u001b[0mget_wordnet_pos\u001b[0m\u001b[1;33m(\u001b[0m\u001b[0mpos_tag\u001b[0m\u001b[1;33m(\u001b[0m\u001b[1;33m[\u001b[0m\u001b[0mword\u001b[0m\u001b[1;33m]\u001b[0m\u001b[1;33m)\u001b[0m\u001b[1;33m[\u001b[0m\u001b[1;36m0\u001b[0m\u001b[1;33m]\u001b[0m\u001b[1;33m[\u001b[0m\u001b[1;36m1\u001b[0m\u001b[1;33m]\u001b[0m\u001b[1;33m)\u001b[0m\u001b[1;33m)\u001b[0m \u001b[1;32mfor\u001b[0m \u001b[0mword\u001b[0m \u001b[1;32min\u001b[0m \u001b[0mx\u001b[0m\u001b[1;33m]\u001b[0m\u001b[1;33m)\u001b[0m\u001b[1;33m\u001b[0m\u001b[1;33m\u001b[0m\u001b[0m\n\u001b[0m",
      "\u001b[1;31mNameError\u001b[0m: name 'df6' is not defined"
     ]
    }
   ],
   "source": [
    "df6=df1.copy()\n",
    "from nltk.stem import WordNetLemmatizer\n",
    "from nltk import pos_tag\n",
    "from nltk.corpus import wordnet\n",
    "lemmatizer = WordNetLemmatizer()\n",
    "    \n",
    "#DID NOT CREATE A POS TAG FOR BERT\n",
    "\n",
    "# Apply lemmatization and POS tagging to the 'content_sentiment' column\n",
    "df6['content_sentiment'] = df6['content_sentiment'].apply(lambda x: [lemmatizer.lemmatize(word, get_wordnet_pos(pos_tag([word])[0][1])) for word in x])"
   ]
  },
  {
   "cell_type": "markdown",
   "metadata": {},
   "source": [
    "### Model Selection"
   ]
  },
  {
   "cell_type": "code",
   "execution_count": null,
   "metadata": {},
   "outputs": [],
   "source": [
    "#Read Ground truth dataset: SemEval\n",
    "#Read Tweets\n",
    "devCE_t=pd.read_csv(\"C:/Users\\M1ARDHIZ/Desktop/Thesis/2017_English_final/tweet/Subtasks_CE/devCE.txt\",sep=\"\\\\t\",header=None)\n",
    "devtestCE_t=pd.read_csv(\"C:/Users\\M1ARDHIZ/Desktop/Thesis/2017_English_final/tweet/Subtasks_CE/devtestCE.txt\",sep=\"\\\\t\",header=None)\n",
    "testCE_t=pd.read_csv(\"C:/Users\\M1ARDHIZ/Desktop/Thesis/2017_English_final/tweet/Subtasks_CE/testCE.txt\",sep=\"\\\\t\",header=None)\n",
    "trainCE_t=pd.read_csv(\"C:/Users\\M1ARDHIZ/Desktop/Thesis/2017_English_final/tweet/Subtasks_CE/trainCE.txt\",sep=\"\\\\t\",header=None)\n",
    "\n",
    "#Concat \n",
    "semeval=pd.concat([devCE_t,devtestCE_t,testCE_t,trainCE_t])\n",
    "semeval.set_axis([\"id\",\"username\",\"label\",\"content\"],axis=1,inplace=True)\n",
    "semeval.drop(columns=[\"id\",\"username\"],inplace=True)\n",
    "semeval.label.unique()\n",
    "\n",
    "#Drop duplicates\n",
    "semeval.drop_duplicates(inplace=True)\n",
    "\n",
    "#Replace labels to be in line with df_sent\n",
    "semeval.label=semeval.label.replace([-2,-1,0,1,2],[3,3,1,2,2]) #1 neutral, 2positive, 3negative\n",
    "\n",
    "#Reset Semeval index\n",
    "semeval=semeval.reset_index(drop=True)"
   ]
  },
  {
   "cell_type": "code",
   "execution_count": null,
   "metadata": {},
   "outputs": [],
   "source": [
    "# Split the data into semeval_big and semeval_small\n",
    "# We want to compare the models, #No training is done on SemEval data. It was seen that 100% and 20% of the semeval data yield almost identical results.\n",
    "#Therefore for the sake of faster processing, get 20% of the semeval data (semeval_small)\n",
    "from sklearn.model_selection import train_test_split\n",
    "semeval_big, semeval_small = train_test_split(semeval, test_size=0.2, random_state=42)\n",
    "print(\"length of semeval_small:\",len(semeval_small))"
   ]
  },
  {
   "cell_type": "code",
   "execution_count": null,
   "metadata": {},
   "outputs": [],
   "source": [
    "# We evaluate the models on preprocessed data. Selected preprocess is preprocess1\n",
    "semeval_small['content_sentiment'] = semeval_small['content'].apply(preprocess1)\n",
    "\n",
    "#Create 5 identical semeval_small for applying 5 different pretrained models\n",
    "semeval_small1=semeval_small.copy()\n",
    "semeval_small2=semeval_small.copy()\n",
    "semeval_small3=semeval_small.copy()\n",
    "semeval_small4=semeval_small.copy()\n",
    "semeval_small5=semeval_small.copy()"
   ]
  },
  {
   "cell_type": "code",
   "execution_count": null,
   "metadata": {},
   "outputs": [],
   "source": [
    "# Load the sentiment analysis pipelines\n",
    "\n",
    "MODEL1 = f\"cardiffnlp/twitter-roberta-base-sentiment-latest\"\n",
    "sentiment_pipeline2 = pipeline('sentiment-analysis', model=MODEL1)\n",
    "\n",
    "MODEL2 = \"cardiffnlp/twitter-roberta-base-sentiment\"\n",
    "sentiment_pipeline1 = pipeline('sentiment-analysis', model=MODEL2)\n",
    "\n",
    "MODEL3 = \"btjiong/robbert-twitter-sentiment\"\n",
    "sentiment_pipeline3 = pipeline('sentiment-analysis', model=MODEL3)\n",
    "\n",
    "MODEL4 = \"cardiffnlp/xlm-twitter-politics-sentiment\"\n",
    "sentiment_pipeline4 = pipeline('sentiment-analysis', model=MODEL4)\n",
    "\n",
    "MODEL5 = \"citizenlab/twitter-xlm-roberta-base-sentiment-finetunned\"\n",
    "sentiment_pipeline5 = pipeline('sentiment-analysis', model=MODEL5)"
   ]
  },
  {
   "cell_type": "code",
   "execution_count": null,
   "metadata": {},
   "outputs": [],
   "source": [
    "#Predict the sentiments based on content_sentiment column of each semeval_small\n",
    "#1\n",
    "with Pool(8) as p:\n",
    "    semeval_small1['sentiment'] = [sentiment_pipeline1(text)[0]['label'] for text in semeval_small1['content_sentiment']]\n",
    "#2\n",
    "with Pool(8) as p:\n",
    "    semeval_small2['sentiment'] = [sentiment_pipeline2(text)[0]['label'] for text in semeval_small2['content_sentiment']]\n",
    "#3\n",
    "with Pool(8) as p:\n",
    "    semeval_small3['sentiment'] = [sentiment_pipeline3(text)[0]['label'] for text in semeval_small3['content_sentiment']]\n",
    "#4\n",
    "with Pool(8) as p:\n",
    "    semeval_small4['sentiment'] = [sentiment_pipeline4(text)[0]['label'] for text in semeval_small4['content_sentiment']]\n",
    "#5\n",
    "with Pool(8) as p:\n",
    "    semeval_small5['sentiment'] = [sentiment_pipeline5(text)[0]['label'] for text in semeval_small5['content_sentiment']]"
   ]
  },
  {
   "cell_type": "code",
   "execution_count": null,
   "metadata": {},
   "outputs": [],
   "source": [
    "# Predicted sentiment labels are created differently in each Model. Map the names of predicted labels with that of actual labels\n",
    "# In label column, the labels are: 1neutral, 2positive, 3negative\n",
    "sentdict1={\"LABEL_1\":1,\"LABEL_2\":2,\"LABEL_0\":3} \n",
    "sentdict2={'neutral':1,\"negative\":3,\"positive\":2} \n",
    "sentdict3={\"NEUTRAAL\":1,\"POSITIEF\":2}\n",
    "sentdict4={'Neutral':1,\"Negative\":3,\"Positive\":2} \n",
    "sentdict5={'Neutral':1,\"Negative\":3,\"Positive\":2} \n",
    "\n",
    "semeval_small1[\"sentiment_dum\"]=semeval_small1.sentiment.map(sentdict1)\n",
    "semeval_small2[\"sentiment_dum\"]=semeval_small2.sentiment.map(sentdict2)\n",
    "semeval_small3[\"sentiment_dum\"]=semeval_small3.sentiment.map(sentdict3)\n",
    "semeval_small4[\"sentiment_dum\"]=semeval_small4.sentiment.map(sentdict4)\n",
    "semeval_small5[\"sentiment_dum\"]=semeval_small5.sentiment.map(sentdict5)"
   ]
  },
  {
   "cell_type": "code",
   "execution_count": null,
   "metadata": {},
   "outputs": [],
   "source": [
    "# Predicted labels: sentiment_dum column\n",
    "# Actual labels: label column\n",
    "#Calculate classification report\n",
    "report1 = classification_report(semeval_small1[\"label\"], semeval_small1['sentiment_dum'])\n",
    "report2 = classification_report(semeval_small2[\"label\"], semeval_small2['sentiment_dum'])\n",
    "report3 = classification_report(semeval_small3[\"label\"], semeval_small3['sentiment_dum'])\n",
    "report4 = classification_report(semeval_small4[\"label\"], semeval_small4['sentiment_dum'])\n",
    "report5 = classification_report(semeval_small5[\"label\"], semeval_small5['sentiment_dum'])"
   ]
  },
  {
   "cell_type": "code",
   "execution_count": null,
   "metadata": {},
   "outputs": [],
   "source": [
    "#print(report1) precision weighed average 56%\n",
    "#print(report2) precision weighed average 53%\n",
    "#print(report3) precision weighed average 40%\n",
    "#print(report4) precision weighed average 46%\n",
    "#print(report5) precision weighed average 34%\n",
    "\n",
    "#best report is report1. Therefore Model1 is selected"
   ]
  },
  {
   "cell_type": "markdown",
   "metadata": {
    "id": "kpKAObkIt046"
   },
   "source": [
    "### Apply Sentiment Model to DFs"
   ]
  },
  {
   "cell_type": "raw",
   "metadata": {},
   "source": [
    "# Filter out rows with empty lists in the 'content_sentiment' column\n",
    "df1 = df1[df1['content_sentiment'].map(len) > 0]\n",
    "df2 = df2[df2['content_sentiment'].map(len) > 0]\n",
    "df3 = df3[df3['content_sentiment'].map(len) > 0]\n",
    "df4 = df4[df4['content_sentiment'].map(len) > 0]\n",
    "df5 = df5[df5['content_sentiment'].map(len) > 0]\n",
    "df6 = df6[df6['content_sentiment'].map(len) > 0]"
   ]
  },
  {
   "cell_type": "code",
   "execution_count": null,
   "metadata": {
    "colab": {
     "base_uri": "https://localhost:8080/",
     "height": 177,
     "referenced_widgets": [
      "a627ba76f2d14508a7166c7d309bff6e",
      "dcf46beb630a42628e39aa67ecc42d4e",
      "182dafc0193340d2ac8bd1891c78b33e",
      "39f104e2540f4ba5a04465c1b1bd8f62",
      "2281e60b0b114808942ab8163ad2abab",
      "60c5c38124a444508c512b9ee846e76b",
      "dbb8ef7ea8d24ab396521bbf44511f32",
      "2fee6ae8d87a48e99a244cb4efb4c978",
      "5f27138f8c0a4f5eb92519f4ef8b0fd9",
      "0b404fa9b8f9488bb452a7b3dd68450b",
      "b15e2e9512424341ad2f139fedb54ad7",
      "7ccd64de0016479aa0414fd63aa308d3",
      "314ecfc2f8484635a96d897fca0c88de",
      "d0aa1e6bb98543418be75e5d2d795761",
      "81a601fcf1c44870b5ade2dfab33e5df",
      "c027d08c0ffd4c2191c721f6a2698d78",
      "433ad2d3819d464a8774b3bace9b4e0a",
      "313ad5beae324128b287d65048214a0c",
      "4a8c78f89d5947529faad5165eb2df63",
      "23825672a83340539525ad889b81c8d2",
      "11f0680716f344a1b8df63812e23d2b5",
      "d46415153ae443cb9524ca8a4b2ff246",
      "56f5c0543c474364b39852ac5399a5bc",
      "b790c297da0843228d488d8eb73e96e3",
      "e0d9087b1de248f48893bdad33031b3c",
      "ab09db2a09c941fdbdf2934996aef361",
      "cce35323eeec41c5a4281d33d98c2ff6",
      "7e6674949a444c988fb14519f57c9c43",
      "93acb8ead6d4436a87c2ef77fc555428",
      "603cbe3838ca45179ab06e63cf30bc55",
      "5d1053cb79a449e1879e6a45304b5afb",
      "e98086027dd14a3fbc038b3b91a321f6",
      "9887bbd10f2c4ff6b1a96dd6ad741f3d",
      "bfe7866fbc244eeeac5ad5c50879a44b",
      "285115be95e5461ab6fd5ec716aca712",
      "bfdfd4724a184e69b63e5ba548b85e7e",
      "f83b7ba2c46242afbb9723043f3221a0",
      "3d8c5ecdffff40a7928bbf35761da75f",
      "4430b8f0ef9c4b78873dbff504aea11e",
      "75fb323a6d904a1796ce82347b5bcdc5",
      "99630a8f23464c96b9782c5620340dee",
      "8a30016219414f5dbf10f9cab27f18bc",
      "2df1454025654a0380f6be57b4cafc74",
      "75e94f79fbba4c04b967599c2b1065ba",
      "6bed3d6016e54078bdd53b8cdfcb4824",
      "674e10f9d5d642f5b3b1a8686af67623",
      "e12b70c835c24a5e9e4215b3e57384f9",
      "8f63ae2fbea44ec3ab87bc394a1b496f",
      "404ddfee5e5c4338ab882b007f41a46a",
      "bb5af525d0aa49ee841e3f68ca1bbee0",
      "6d26295a70e2418b9ba46c7f3b9114d0",
      "14143836cf4647349e1dd9999725dc4d",
      "4c384e0344364b64b367eb30e65da40c",
      "385b01eb74af44409486be0654231006",
      "f6c266feacef4c5fa27b9a5ef3fad7f0"
     ]
    },
    "id": "Woecs9mYpU21",
    "outputId": "c2d2cd9f-6648-4090-9a8c-6b514cbcadb7",
    "tags": []
   },
   "outputs": [],
   "source": [
    "#DF1\n",
    "# Load the sentiment analysis pipeline\n",
    "MODEL = \"cardiffnlp/twitter-roberta-base-sentiment\"\n",
    "sentiment_pipeline = pipeline('sentiment-analysis', model=MODEL)\n",
    "# Apply sentiment analysis to the training set and create a new column called sentiment\n",
    "df1['sentiment'] = [sentiment_pipeline(text)[0]['label'] for text in df1['content_sentiment']]"
   ]
  },
  {
   "cell_type": "code",
   "execution_count": null,
   "metadata": {},
   "outputs": [],
   "source": [
    "df1.to_csv(\"df1_sent.csv\")"
   ]
  },
  {
   "cell_type": "code",
   "execution_count": null,
   "metadata": {},
   "outputs": [],
   "source": [
    "#DF2\n",
    "# Load the sentiment analysis pipeline\n",
    "MODEL = \"cardiffnlp/twitter-roberta-base-sentiment\"\n",
    "sentiment_pipeline = pipeline('sentiment-analysis', model=MODEL)\n",
    "# Apply sentiment analysis to the training set and create a new column called sentiment\n",
    "df2['sentiment'] = [sentiment_pipeline(text)[0]['label'] for text in df2['content_sentiment']]"
   ]
  },
  {
   "cell_type": "code",
   "execution_count": null,
   "metadata": {},
   "outputs": [],
   "source": [
    "df2.to_csv(\"df2_sent.csv\")"
   ]
  },
  {
   "cell_type": "code",
   "execution_count": null,
   "metadata": {},
   "outputs": [],
   "source": [
    "#DF3\n",
    "# Load the sentiment analysis pipeline\n",
    "MODEL = \"cardiffnlp/twitter-roberta-base-sentiment\"\n",
    "sentiment_pipeline = pipeline('sentiment-analysis', model=MODEL)\n",
    "# Apply sentiment analysis to the training set and create a new column called sentiment\n",
    "df3['sentiment'] = [sentiment_pipeline(text)[0]['label'] for text in df3['content_sentiment']]"
   ]
  },
  {
   "cell_type": "code",
   "execution_count": null,
   "metadata": {},
   "outputs": [],
   "source": [
    "df3.to_csv(\"df3_sent.csv\")"
   ]
  },
  {
   "cell_type": "code",
   "execution_count": null,
   "metadata": {},
   "outputs": [],
   "source": [
    "#DF4\n",
    "# Load the sentiment analysis pipeline\n",
    "MODEL = \"cardiffnlp/twitter-roberta-base-sentiment\"\n",
    "sentiment_pipeline = pipeline('sentiment-analysis', model=MODEL)\n",
    "# Apply sentiment analysis to the training set and create a new column called sentiment\n",
    "df4['sentiment'] = [sentiment_pipeline(text)[0]['label'] for text in df4['content_sentiment']]"
   ]
  },
  {
   "cell_type": "code",
   "execution_count": null,
   "metadata": {
    "id": "fEl-qkPX4-Pc"
   },
   "outputs": [],
   "source": [
    "df4.to_csv('df4_sent.csv')"
   ]
  },
  {
   "cell_type": "code",
   "execution_count": null,
   "metadata": {},
   "outputs": [],
   "source": [
    "#DF5\n",
    "# Load the sentiment analysis pipeline\n",
    "MODEL = \"cardiffnlp/twitter-roberta-base-sentiment\"\n",
    "sentiment_pipeline = pipeline('sentiment-analysis', model=MODEL)\n",
    "# Apply sentiment analysis to the training set and create a new column called sentiment\n",
    "df5['sentiment'] = [sentiment_pipeline(text)[0]['label'] for text in df5['content_sentiment']]"
   ]
  },
  {
   "cell_type": "code",
   "execution_count": null,
   "metadata": {},
   "outputs": [],
   "source": [
    "df5.to_csv('df5_sent.csv')"
   ]
  },
  {
   "cell_type": "code",
   "execution_count": null,
   "metadata": {},
   "outputs": [],
   "source": [
    "#DF6\n",
    "# Load the sentiment analysis pipeline\n",
    "MODEL = \"cardiffnlp/twitter-roberta-base-sentiment\"\n",
    "sentiment_pipeline = pipeline('sentiment-analysis', model=MODEL)\n",
    "# Apply sentiment analysis to the training set and create a new column called sentiment\n",
    "df6['sentiment'] = [sentiment_pipeline(text)[0]['label'] for text in df6['content_sentiment']]"
   ]
  },
  {
   "cell_type": "code",
   "execution_count": null,
   "metadata": {},
   "outputs": [],
   "source": [
    "df6.to_csv('df6_sent.csv')"
   ]
  },
  {
   "cell_type": "markdown",
   "metadata": {
    "tags": []
   },
   "source": [
    "### Unsupervised Evaluation"
   ]
  },
  {
   "cell_type": "code",
   "execution_count": null,
   "metadata": {},
   "outputs": [],
   "source": [
    "df1_sent=pd.read_csv(\"df1_sent.csv\")"
   ]
  },
  {
   "cell_type": "code",
   "execution_count": null,
   "metadata": {},
   "outputs": [],
   "source": [
    "# Silhouette Score (Unsupervised Evaluation)\n",
    "from sklearn.feature_extraction.text import TfidfVectorizer\n",
    "\n",
    "#Vectorize\n",
    "vectorizer = TfidfVectorizer()\n",
    "X = vectorizer.fit_transform(df1_sent['content'])\n",
    "\n",
    "from sklearn.metrics import silhouette_score\n",
    "#Convert LABEL_1, LABEL_2 and LABEL_3 into 1,2 and 3.\n",
    "df1_sent[\"sentiment\"]=pd.factorize(df1_sent[\"sentiment\"])[0]+1                                                    \n",
    "\n",
    "silhouette=silhouette_score(X,df1_sent[\"sentiment\"])\n",
    "silhouette\n",
    "# 3.2302944941785596e-05\n",
    "#It is very low, no significance."
   ]
  },
  {
   "cell_type": "markdown",
   "metadata": {},
   "source": [
    "### Supervised Evaluation with Fuzzy String Match"
   ]
  },
  {
   "cell_type": "raw",
   "metadata": {},
   "source": [
    "Same preprocessing step is applied to both corresponding df_sent and semeval. \n",
    "For example, preprocess1 is applied to df1_sent and semeval1 preprocess2 is to df2_sent and semeval2...\n",
    "The reason is we make fuzzy string match between semeval and df_sent \n",
    "These two datasets need to have the same preprocess steps"
   ]
  },
  {
   "cell_type": "code",
   "execution_count": null,
   "metadata": {},
   "outputs": [],
   "source": [
    "df1_sent=pd.read_csv(\"df1_sent.csv\")\n",
    "df2_sent=pd.read_csv(\"df2_sent.csv\")\n",
    "df3_sent=pd.read_csv(\"df3_sent.csv\")\n",
    "df4_sent=pd.read_csv(\"df4_sent.csv\")\n",
    "df5_sent=pd.read_csv(\"df5_sent.csv\")\n",
    "df6_sent=pd.read_csv(\"df6_sent.csv\")\n",
    "df7_sent=pd.read_csv(\"df7_sent.csv\")\n",
    "semeval1=pd.read_csv(\"semeval1.csv\")"
   ]
  },
  {
   "cell_type": "markdown",
   "metadata": {},
   "source": [
    "#### DF1"
   ]
  },
  {
   "cell_type": "code",
   "execution_count": null,
   "metadata": {},
   "outputs": [],
   "source": [
    "#Apply Preprocess to Semeval1\n",
    "semeval1=semeval.copy()\n",
    "semeval1['content_sent'] = semeval['content'].apply(preprocess1)"
   ]
  },
  {
   "cell_type": "code",
   "execution_count": null,
   "metadata": {},
   "outputs": [],
   "source": [
    "#DF1 is splitted to df1_small and df1_big for first expriements for the sake of speed. However, then df1_small is chosen almost as the size of df1\n",
    "#Threfore this step is actually inomportant.\n",
    "#Bottomline: All dfx_smalls are 0.9999 of original df. So they are almost identical.\n",
    "#dfx_smalls can be considered as df. Nothing will change regarding the success metrics.\n",
    "\n",
    "from sklearn.model_selection import train_test_split\n",
    "df1_big,df1_small=train_test_split(df1_sent,test_size=0.9999,random_state=42)\n",
    "print(len(df1_small))"
   ]
  },
  {
   "cell_type": "code",
   "execution_count": null,
   "metadata": {},
   "outputs": [],
   "source": [
    "#Change df1_small Labels to 1,2,3\n",
    "sentdict={\"LABEL_1\":1,\"LABEL_2\":2,\"LABEL_0\":3} # 1neutral, 2positive, 3negative\n",
    "df1_small[\"sentiment_dum\"]=df1_small.sentiment.map(sentdict)"
   ]
  },
  {
   "cell_type": "code",
   "execution_count": null,
   "metadata": {},
   "outputs": [],
   "source": [
    "from fuzzywuzzy import fuzz\n",
    "\n",
    "# Function to find the best match from Semeval DataFrame based on fuzzy string matching\n",
    "def find_best_match(tweet, semeval1):\n",
    "    # Calculate the fuzzy string matching score for each tweet in df_gt\n",
    "    scores = semeval1['content_sent'].apply(lambda x: fuzz.ratio(tweet, x))\n",
    "    \n",
    "    # Find the index of the tweet with the highest fuzzy string matching score\n",
    "    best_match_index = scores.idxmax()\n",
    "    \n",
    "    # Return the sentiment label from the best matching tweet\n",
    "    return semeval1.loc[best_match_index, 'label']\n",
    "\n",
    "# Iterate through each tweet in df to assign ground truth sentiment labels\n",
    "df1_small['ground_truth_sentiment'] = df1_small['content_sentiment'].apply(lambda x: find_best_match(x, semeval1))\n",
    "\n",
    "# Assigned ground truth sentiment labels are assigned for each tweet in df\n",
    "# Next, compare the clustering labels with the ground truth labels and calculate evaluation metrics\n",
    "# Perform the evaluation and calculate metrics (accuracy, precision, recall, F1-score) based on sentiment clustering algorithm and the ground truth labels\n"
   ]
  },
  {
   "cell_type": "code",
   "execution_count": null,
   "metadata": {},
   "outputs": [],
   "source": [
    "#DF1\n",
    "df1_small[\"sentiment_dum\"]=df1_small[\"sentiment_dum\"].astype(\"int\")\n",
    "\n",
    "# Example evaluation code snippet\n",
    "# cluster_label column in  DataFrame represents the sentiment clustering output\n",
    "true_labels = df1_small['ground_truth_sentiment']\n",
    "predicted_labels = df1_small['sentiment_dum']\n",
    "\n",
    "# Calculate accuracy\n",
    "accuracy = (true_labels == predicted_labels).mean()\n",
    "\n",
    "# Calculate precision, recall, and F1-score\n",
    "precision = precision_score(true_labels, predicted_labels, average='weighted')\n",
    "recall = recall_score(true_labels, predicted_labels, average='weighted')\n",
    "f1 = f1_score(true_labels, predicted_labels, average='weighted')\n",
    "\n",
    "# Print the evaluation metrics\n",
    "print(\"Accuracy:\", accuracy)\n",
    "print(\"Precision:\", precision)\n",
    "print(\"Recall:\", recall)\n",
    "print(\"F1-score:\", f1)\n",
    "\n",
    "#Accuracy: 0.4006578947368421\n",
    "#Precision: 0.40536059569861166\n",
    "#Recall: 0.4006578947368421\n"
   ]
  },
  {
   "cell_type": "markdown",
   "metadata": {},
   "source": [
    "#### DF2"
   ]
  },
  {
   "cell_type": "code",
   "execution_count": null,
   "metadata": {},
   "outputs": [],
   "source": [
    "#Apply Preprocess to Semeval2\n",
    "semeval2=semeval.copy()\n",
    "semeval2['content_sent'] = semeval['content'].apply(preprocess2)"
   ]
  },
  {
   "cell_type": "code",
   "execution_count": null,
   "metadata": {},
   "outputs": [],
   "source": [
    "#Split DF2 for faster train\n",
    "from sklearn.model_selection import train_test_split\n",
    "df2_big,df2_small=train_test_split(df2_sent,test_size=0.9999,random_state=42)\n",
    "print(len(df2_small))"
   ]
  },
  {
   "cell_type": "code",
   "execution_count": null,
   "metadata": {},
   "outputs": [],
   "source": [
    "#Change df2_small Labels to 1,2,3\n",
    "sentdict={\"LABEL_1\":1,\"LABEL_2\":2,\"LABEL_0\":3} # 1neutral, 2positive, 3negative\n",
    "df2_small[\"sentiment_dum\"]=df2_small.sentiment.map(sentdict)"
   ]
  },
  {
   "cell_type": "code",
   "execution_count": null,
   "metadata": {},
   "outputs": [],
   "source": [
    "from fuzzywuzzy import fuzz\n",
    "# Function to find the best match from Semeval DataFrame based on fuzzy string matching\n",
    "def find_best_match(tweet, semeval2):\n",
    "    # Calculate the fuzzy string matching score for each tweet in df_gt\n",
    "    scores = semeval2['content_sent'].apply(lambda x: fuzz.ratio(tweet, x))\n",
    "    \n",
    "    # Find the index of the tweet with the highest fuzzy string matching score\n",
    "    best_match_index = scores.idxmax()\n",
    "    \n",
    "    # Return the sentiment label from the best matching tweet\n",
    "    return semeval2.loc[best_match_index, 'label']\n",
    "\n",
    "# Iterate through each tweet in df to assign ground truth sentiment labels\n",
    "df2_small['ground_truth_sentiment'] = df2_small['content_sentiment'].apply(lambda x: find_best_match(x, semeval2))\n"
   ]
  },
  {
   "cell_type": "code",
   "execution_count": null,
   "metadata": {},
   "outputs": [],
   "source": [
    "#DF2\n",
    "# Example evaluation code snippet\n",
    "# cluster_label column in  DataFrame represents the sentiment clustering output\n",
    "true_labels = df2_small['ground_truth_sentiment']\n",
    "predicted_labels = df2_small['sentiment_dum']\n",
    "\n",
    "# Calculate accuracy\n",
    "accuracy = (true_labels == predicted_labels).mean()\n",
    "\n",
    "# Calculate precision, recall, and F1-score\n",
    "precision = precision_score(true_labels, predicted_labels, average='weighted')\n",
    "recall = recall_score(true_labels, predicted_labels, average='weighted')\n",
    "f1 = f1_score(true_labels, predicted_labels, average='weighted')\n",
    "\n",
    "# Print the evaluation metrics\n",
    "print(\"Accuracy:\", accuracy)\n",
    "print(\"Precision:\", precision)\n",
    "print(\"Recall:\", recall)\n",
    "print(\"F1-score:\", f1)\n",
    "#Accuracy: 0.43460293817184814\n",
    "#Precision: 0.4609086276213032\n",
    "#Recall: 0.43460293817184814"
   ]
  },
  {
   "cell_type": "markdown",
   "metadata": {},
   "source": [
    "#### DF3"
   ]
  },
  {
   "cell_type": "code",
   "execution_count": null,
   "metadata": {},
   "outputs": [],
   "source": [
    "#Apply Preprocess to Semeval3\n",
    "semeval3=semeval1.copy() #DF3 is on top of DF1, semeval3 is on top of semeval1\n",
    "\n",
    "#Most common irrelevant words\n",
    "from collections import Counter\n",
    "# Flatten the list of tokens\n",
    "all_tokens = [token for tokens in semeval3.content_sent for token in tokens]\n",
    "\n",
    "# Count the occurrence of each word\n",
    "word_counts = Counter(all_tokens)\n",
    "frequent_words = pd.DataFrame(word_counts.most_common(300), columns=['word', 'occurrence'])\n",
    "wordlist=[\"amp\", \"dm\",\"c\",\"tix\",\"rt\",\"th\",\"gt\",\"rsvp\",\"pt\",\"amex\",\"tv\"]\n",
    "print(frequent_words[frequent_words.word.isin(wordlist)])\n",
    "\n",
    "word_counts = Counter([word for tokens in semeval3['content_sent'] for word in tokens])\n",
    "\n",
    "# Count the number of unique word occurrences\n",
    "occurrence_counts = Counter(word_counts.values())\n",
    "\n",
    "# Create a dataframe from the occurrence counts\n",
    "semeval3_occurrence = pd.DataFrame({'occurrence': list(occurrence_counts.keys()),\n",
    "                              'word_quantity': list(occurrence_counts.values())})\n",
    "\n",
    "# Sort the dataframe by occurrence in ascending order\n",
    "semeval3_occurrence = semeval3_occurrence.sort_values('occurrence')\n",
    "\n",
    "#Remove Words - Most Frequent\n",
    "\n",
    "remove_wordlist = [\"amp\",\"c\",\"th\",\"gt\",\"pt\"]\n",
    "\n",
    "# Define a function to remove words from the tokens\n",
    "def remove_words(tokens):\n",
    "    return [token for token in tokens if token not in remove_wordlist]\n",
    "\n",
    "# Apply the function to remove words from the tokenized column\n",
    "semeval3['content_sent'] = semeval3['content_sent'].apply(remove_words)\n",
    "\n",
    "#Replace common abbreviations\n",
    "replace_dict = {'dm': 'message', 'tix': 'ticket', 'rt': 'retweet', 'rsvp': 'please reply', 'amex': 'american express','tv':'television'}\n",
    "\n",
    "# Replace words in the tokenized column\n",
    "semeval3['content_sent'] = [[replace_dict.get(word, word) for word in tokens] for tokens in semeval3['content_sent']]\n",
    "\n",
    "#Remove the words occurred less than 10 times\n",
    "words_to_remove = set(word for word, count in word_counts.items() if count < 10)\n",
    "semeval3['content_sent'] = [[word for word in tokens if word not in words_to_remove] for tokens in semeval3['content_sent']]"
   ]
  },
  {
   "cell_type": "code",
   "execution_count": null,
   "metadata": {},
   "outputs": [],
   "source": [
    "#Split DF3 for faster train\n",
    "from sklearn.model_selection import train_test_split\n",
    "df3_big,df3_small=train_test_split(df3_sent,test_size=0.09999,random_state=42)\n",
    "print(len(df3_small))"
   ]
  },
  {
   "cell_type": "code",
   "execution_count": null,
   "metadata": {},
   "outputs": [],
   "source": [
    "#Change df3_small Labels to 1,2,3\n",
    "sentdict={\"LABEL_1\":1,\"LABEL_2\":2,\"LABEL_0\":3} # 1neutral, 2positive, 3negative\n",
    "df3_small[\"sentiment_dum\"]=df3_small.sentiment.map(sentdict)"
   ]
  },
  {
   "cell_type": "code",
   "execution_count": null,
   "metadata": {},
   "outputs": [],
   "source": [
    "from fuzzywuzzy import fuzz\n",
    "# Function to find the best match from Semeval DataFrame based on fuzzy string matching\n",
    "def find_best_match(tweet, semeval3):\n",
    "    # Calculate the fuzzy string matching score for each tweet in df_gt\n",
    "    scores = semeval3['content_sent'].apply(lambda x: fuzz.ratio(tweet, x))\n",
    "    \n",
    "    # Find the index of the tweet with the highest fuzzy string matching score\n",
    "    best_match_index = scores.idxmax()\n",
    "    \n",
    "    # Return the sentiment label from the best matching tweet\n",
    "    return semeval3.loc[best_match_index, 'label']\n",
    "\n",
    "# Iterate through each tweet in df to assign ground truth sentiment labels\n",
    "df3_small['ground_truth_sentiment'] = df3_small['content_sentiment'].apply(lambda x: find_best_match(x, semeval3))"
   ]
  },
  {
   "cell_type": "code",
   "execution_count": null,
   "metadata": {},
   "outputs": [],
   "source": [
    "#DF3\n",
    "# cluster_label column in  DataFrame represents the sentiment clustering output\n",
    "true_labels = df3_small['ground_truth_sentiment']\n",
    "predicted_labels = df3_small['sentiment_dum']\n",
    "\n",
    "# Calculate accuracy\n",
    "accuracy = (true_labels == predicted_labels).mean()\n",
    "\n",
    "# Calculate precision, recall, and F1-score\n",
    "precision = precision_score(true_labels, predicted_labels, average='weighted')\n",
    "recall = recall_score(true_labels, predicted_labels, average='weighted')\n",
    "f1 = f1_score(true_labels, predicted_labels, average='weighted')\n",
    "\n",
    "# Print the evaluation metrics\n",
    "print(\"Accuracy:\", accuracy)\n",
    "print(\"Precision:\", precision)\n",
    "print(\"Recall:\", recall)\n",
    "print(\"F1-score:\", f1)\n",
    "\n",
    "#Accuracy: 0.4415759800\n",
    "#Precision: 0.415631691\n",
    "#Recall: 0.441575900"
   ]
  },
  {
   "cell_type": "markdown",
   "metadata": {},
   "source": [
    "#### DF4"
   ]
  },
  {
   "cell_type": "code",
   "execution_count": null,
   "metadata": {},
   "outputs": [],
   "source": [
    "semeval4=semeval1.copy()"
   ]
  },
  {
   "cell_type": "code",
   "execution_count": null,
   "metadata": {},
   "outputs": [],
   "source": [
    "# Apply Preprocess4 to semeval4\n",
    "\n",
    "#Convert content column into str\n",
    "semeval4[\"content\"]=semeval4[\"content\"].astype(str)\n",
    "\n",
    "# count the number of slangs in content using regex\n",
    "semeval4['num_slangs'] = semeval4['content'].apply(lambda x: len(re.findall(pattern, x)))"
   ]
  },
  {
   "cell_type": "code",
   "execution_count": null,
   "metadata": {},
   "outputs": [],
   "source": [
    "# create a regex pattern that matches any of the slangs\n",
    "pattern = '|'.join(r'\\b{}\\b'.format(slang) for slang in slang_df['Column1'])\n",
    "\n",
    "#Convert content column into str\n",
    "semeval4[\"content\"]=semeval4[\"content\"].astype(str)\n",
    "\n",
    "# count the number of slangs in content using regex\n",
    "semeval4['num_slangs'] = semeval4['content'].apply(lambda x: len(re.findall(pattern, x)))\n",
    "# calculate the ratio of rows that have at least one slang/total rows for each user\n",
    "#ratio = semeval4.groupby('user',group_keys=True)['num_slangs'].apply(lambda x: (x > 0).sum() / len(x)).reset_index(name='ratio')\n",
    "\n",
    "#Frequency of Slangs\n",
    "slangs_dict = {}\n",
    "\n",
    "for row in semeval4.itertuples(index=False):\n",
    "    content = row.content\n",
    "    for slang in slang_df.Column1:\n",
    "        if f\" {slang} \" in f\" {content} \": \n",
    "            if slang in slangs_dict:\n",
    "                slangs_dict[slang] += 1\n",
    "            else:\n",
    "                slangs_dict[slang] = 1\n",
    "\n",
    "slang_sorted_d = dict( sorted(slangs_dict.items(), key=operator.itemgetter(1),reverse=True)) #Create a dictionary by sorting slangs_dict items\n",
    "slang_df_sorted=pd.DataFrame(slang_sorted_d,index=[0]).T #Transpose the df\n",
    "slang_df_sorted.rename(columns={0:\"occurance\"},inplace=True) #Change the column name\n",
    "slang_df_sorted[\"Slang\"]=slang_df_sorted.index # Create a column named Slang by taking indexes as basis\n",
    "slang_df_merged=slang_df.merge(slang_df_sorted, left_on='Column1', right_on='Slang')[[\"Column1\",\"Column2\",\"occurance\"]] #Merge two dfs to pull the occurances values \n",
    "slang_df_merged_sorted=slang_df_merged.sort_values(by=[\"occurance\"],ascending=False) \n",
    "slang_df_merged_sorted.rename(columns={\"Column1\":\"Slang\",\"Column2\":\"Expanded\"},inplace=True)\n",
    "print(\"Total number of slangs: \",slang_df_sorted.occurance.sum())\n",
    "slang_df_merged_sorted.head(10)"
   ]
  },
  {
   "cell_type": "code",
   "execution_count": null,
   "metadata": {},
   "outputs": [],
   "source": [
    "#Convert slang columns into string\n",
    "slang_df.Column1=slang_df.Column1.astype(str)\n",
    "slang_df.Column2=slang_df.Column2.astype(str)\n",
    "def preprocess4(text):\n",
    "    words = re.findall('\\w+', text)\n",
    "    for i in range(len(words)):\n",
    "        if words[i] in slang_dict:\n",
    "            words[i] = slang_dict[words[i]]\n",
    "    text = ' '.join(words)\n",
    "    return text\n",
    "#Convert content_sentiment into str for preprocessing\n",
    "semeval4[\"content_sent\"]=semeval4[\"content_sent\"].astype(str)\n",
    "#Apply preprocess4\n",
    "semeval4['content_sent'] = semeval4['content_sent'].apply(preprocess4)\n",
    "#Tokenize str content_sentiment column\n",
    "semeval4['content_sent'] = semeval4['content_sent'].apply(lambda x: word_tokenize(x))\n",
    "#Drop num_slangs column\n",
    "#df4.drop(columns=[\"num_slangs\"],inplace=True)"
   ]
  },
  {
   "cell_type": "code",
   "execution_count": null,
   "metadata": {},
   "outputs": [],
   "source": [
    "#Split DF4 for faster train\n",
    "from sklearn.model_selection import train_test_split\n",
    "df4_big,df4_small=train_test_split(df4_sent,test_size=0.9999,random_state=42)\n",
    "print(len(df4_small))"
   ]
  },
  {
   "cell_type": "code",
   "execution_count": null,
   "metadata": {},
   "outputs": [],
   "source": [
    "#Change df4_small Labels to 1,2,3\n",
    "sentdict={\"LABEL_1\":1,\"LABEL_2\":2,\"LABEL_0\":3} # 1neutral, 2positive, 3negative\n",
    "df4_small[\"sentiment_dum\"]=df4_small.sentiment.map(sentdict)"
   ]
  },
  {
   "cell_type": "code",
   "execution_count": null,
   "metadata": {},
   "outputs": [],
   "source": [
    "from fuzzywuzzy import fuzz\n",
    "# Function to find the best match from Semeval DataFrame based on fuzzy string matching\n",
    "def find_best_match(tweet, semeval4):\n",
    "    # Calculate the fuzzy string matching score for each tweet in df_gt\n",
    "    scores = semeval4['content_sent'].apply(lambda x: fuzz.ratio(tweet, x))\n",
    "    \n",
    "    # Find the index of the tweet with the highest fuzzy string matching score\n",
    "    best_match_index = scores.idxmax()\n",
    "    \n",
    "    # Return the sentiment label from the best matching tweet\n",
    "    return semeval4.loc[best_match_index, 'label']\n",
    "\n",
    "# Iterate through each tweet in df to assign ground truth sentiment labels\n",
    "df4_small['ground_truth_sentiment'] = df4_small['content_sentiment'].apply(lambda x: find_best_match(x, semeval4))"
   ]
  },
  {
   "cell_type": "code",
   "execution_count": null,
   "metadata": {},
   "outputs": [],
   "source": [
    "#DF4\n",
    "# cluster_label column in  DataFrame represents the sentiment clustering output\n",
    "true_labels = df4_small['ground_truth_sentiment']\n",
    "predicted_labels = df4_small['sentiment_dum']\n",
    "\n",
    "# Calculate accuracy\n",
    "accuracy = (true_labels == predicted_labels).mean()\n",
    "\n",
    "# Calculate precision, recall, and F1-score\n",
    "precision = precision_score(true_labels, predicted_labels, average='weighted')\n",
    "recall = recall_score(true_labels, predicted_labels, average='weighted')\n",
    "f1 = f1_score(true_labels, predicted_labels, average='weighted')\n",
    "\n",
    "# Print the evaluation metrics\n",
    "print(\"Accuracy:\", accuracy)\n",
    "print(\"Precision:\", precision)\n",
    "print(\"Recall:\", recall)\n",
    "print(\"F1-score:\", f1)\n",
    "\n",
    "#Accuracy: 0.4288798778240034\n",
    "#Precision: 0.46168863255035786\n",
    "#Recall: 0.4288798778240034"
   ]
  },
  {
   "cell_type": "markdown",
   "metadata": {},
   "source": [
    "#### DF5"
   ]
  },
  {
   "cell_type": "code",
   "execution_count": null,
   "metadata": {},
   "outputs": [],
   "source": [
    "#Apply Preprocess to Semeval5\n",
    "semeval5=semeval1.copy()\n",
    "\n",
    "# Apply stemming to the 'content_sentiment' column\n",
    "semeval5['content_sent'] = semeval5['content_sent'].apply(lambda x: [stemmer.stem(word) for word in x])"
   ]
  },
  {
   "cell_type": "code",
   "execution_count": null,
   "metadata": {},
   "outputs": [],
   "source": [
    "#Split DF5 for faster train\n",
    "from sklearn.model_selection import train_test_split\n",
    "df5_big,df5_small=train_test_split(df5_sent,test_size=0.9999,random_state=42)\n",
    "print(len(df5_small))"
   ]
  },
  {
   "cell_type": "code",
   "execution_count": null,
   "metadata": {},
   "outputs": [],
   "source": [
    "#Change df5_small Labels to 1,2,3\n",
    "sentdict={\"LABEL_1\":1,\"LABEL_2\":2,\"LABEL_0\":3} # 1neutral, 2positive, 3negative\n",
    "df5_small[\"sentiment_dum\"]=df5_small.sentiment.map(sentdict)"
   ]
  },
  {
   "cell_type": "code",
   "execution_count": null,
   "metadata": {},
   "outputs": [],
   "source": [
    "from fuzzywuzzy import fuzz\n",
    "# Function to find the best match from Semeval DataFrame based on fuzzy string matching\n",
    "def find_best_match(tweet, semeval5):\n",
    "    # Calculate the fuzzy string matching score for each tweet in df_gt\n",
    "    scores = semeval5['content_sent'].apply(lambda x: fuzz.ratio(tweet, x))\n",
    "    \n",
    "    # Find the index of the tweet with the highest fuzzy string matching score\n",
    "    best_match_index = scores.idxmax()\n",
    "    \n",
    "    # Return the sentiment label from the best matching tweet\n",
    "    return semeval5.loc[best_match_index, 'label']\n",
    "\n",
    "# Iterate through each tweet in df to assign ground truth sentiment labels\n",
    "df5_small['ground_truth_sentiment'] = df5_small['content_sentiment'].apply(lambda x: find_best_match(x, semeval5))"
   ]
  },
  {
   "cell_type": "code",
   "execution_count": null,
   "metadata": {},
   "outputs": [],
   "source": [
    "#Change df5_small Labels to 1,2,3\n",
    "sentdict={\"LABEL_1\":1,\"LABEL_2\":2,\"LABEL_0\":3} # 1neutral, 2positive, 3negative\n",
    "df5_small[\"sentiment_dum\"]=df5_small.sentiment.map(sentdict)"
   ]
  },
  {
   "cell_type": "code",
   "execution_count": null,
   "metadata": {},
   "outputs": [],
   "source": [
    "#DF5 = 1\n",
    "# cluster_label column in  DataFrame represents the sentiment clustering output\n",
    "true_labels = df5_small['ground_truth_sentiment']\n",
    "predicted_labels = df5_small['sentiment_dum']\n",
    "\n",
    "# Calculate accuracy\n",
    "accuracy = (true_labels == predicted_labels).mean()\n",
    "\n",
    "# Calculate precision, recall, and F1-score\n",
    "precision = precision_score(true_labels, predicted_labels, average='weighted')\n",
    "recall = recall_score(true_labels, predicted_labels, average='weighted')\n",
    "f1 = f1_score(true_labels, predicted_labels, average='weighted')\n",
    "\n",
    "# Print the evaluation metrics\n",
    "print(\"Accuracy:\", accuracy)\n",
    "print(\"Precision:\", precision)\n",
    "print(\"Recall:\", recall)\n",
    "print(\"F1-score:\", f1)\n",
    "\n",
    "#Accuracy: 0.42174788086981035\n",
    "#Precision: 0.4478631359859964\n",
    "#Recall: 0.42174788086981035"
   ]
  },
  {
   "cell_type": "markdown",
   "metadata": {},
   "source": [
    "#### DF6"
   ]
  },
  {
   "cell_type": "code",
   "execution_count": null,
   "metadata": {},
   "outputs": [],
   "source": [
    "#Apply Preprocess to Semeval6\n",
    "semeval6=semeval1.copy()\n",
    "# Define a function to convert POS tags to WordNet POS tags\n",
    "def get_wordnet_pos(tag):\n",
    "    if tag.startswith('N'):\n",
    "        return wordnet.NOUN\n",
    "    elif tag.startswith('V'):\n",
    "        return wordnet.VERB\n",
    "    elif tag.startswith('R'):\n",
    "        return wordnet.ADV\n",
    "    elif tag.startswith('J'):\n",
    "        return wordnet.ADJ\n",
    "    else:\n",
    "        return wordnet.NOUN  # Default to noun if no specific POS tag is found\n",
    "\n",
    "# Apply lemmatization and POS tagging to the 'content_sentiment' column\n",
    "semeval6['content_sent'] = semeval6['content_sent'].apply(lambda x: [lemmatizer.lemmatize(word, get_wordnet_pos(pos_tag([word])[0][1])) for word in x])"
   ]
  },
  {
   "cell_type": "code",
   "execution_count": null,
   "metadata": {},
   "outputs": [],
   "source": [
    "#Split DF6 for faster train\n",
    "from sklearn.model_selection import train_test_split\n",
    "df6_big,df6_small=train_test_split(df6_sent,test_size=0.9999,random_state=42)\n",
    "print(len(df6_small))"
   ]
  },
  {
   "cell_type": "code",
   "execution_count": null,
   "metadata": {},
   "outputs": [],
   "source": [
    "#Change df6_small Labels to 1,2,3\n",
    "sentdict={\"LABEL_1\":1,\"LABEL_2\":2,\"LABEL_0\":3} # 1neutral, 2positive, 3negative\n",
    "df6_small[\"sentiment_dum\"]=df6_small.sentiment.map(sentdict)"
   ]
  },
  {
   "cell_type": "code",
   "execution_count": null,
   "metadata": {},
   "outputs": [],
   "source": [
    "# Function to find the best match from Semeval DataFrame based on fuzzy string matching\n",
    "def find_best_match(tweet, semeval6):\n",
    "    # Calculate the fuzzy string matching score for each tweet in df_gt\n",
    "    scores = semeval6['content_sent'].apply(lambda x: fuzz.ratio(tweet, x))\n",
    "    \n",
    "    # Find the index of the tweet with the highest fuzzy string matching score\n",
    "    best_match_index = scores.idxmax()\n",
    "    \n",
    "    # Return the sentiment label from the best matching tweet\n",
    "    return semeval6.loc[best_match_index, 'label']\n",
    "\n",
    "# Iterate through each tweet in df to assign ground truth sentiment labels\n",
    "df6_small['ground_truth_sentiment'] = df6_small['content_sentiment'].apply(lambda x: find_best_match(x, semeval6))"
   ]
  },
  {
   "cell_type": "code",
   "execution_count": null,
   "metadata": {},
   "outputs": [],
   "source": [
    "#DF6\n",
    "# Example evaluation code snippet\n",
    "# cluster_label column in  DataFrame represents the sentiment clustering output\n",
    "true_labels = df6_small['ground_truth_sentiment']\n",
    "predicted_labels = df6_small['sentiment_dum']\n",
    "\n",
    "# Calculate accuracy\n",
    "accuracy = (true_labels == predicted_labels).mean()\n",
    "\n",
    "# Calculate precision, recall, and F1-score\n",
    "precision = precision_score(true_labels, predicted_labels, average='weighted')\n",
    "recall = recall_score(true_labels, predicted_labels, average='weighted')\n",
    "f1 = f1_score(true_labels, predicted_labels, average='weighted')\n",
    "\n",
    "# Print the evaluation metrics\n",
    "print(\"Accuracy:\", accuracy)\n",
    "print(\"Precision:\", precision)\n",
    "print(\"Recall:\", recall)\n",
    "print(\"F1-score:\", f1)\n",
    "\n",
    "#Accuracy: 0.42421937996184583\n",
    "#Precision: 0.4642745087463766\n",
    "#Recall: 0.42421937996184583"
   ]
  },
  {
   "cell_type": "markdown",
   "metadata": {},
   "source": [
    "#### DF7"
   ]
  },
  {
   "cell_type": "code",
   "execution_count": 76,
   "metadata": {},
   "outputs": [],
   "source": [
    "#DF7\n",
    "#First, preprocess df7\n",
    "df7=df2.copy() #df7 contains preprocess2\n",
    "df7=df7[df7['content_sentiment'].map(len) > 0]\n",
    "\n",
    "#Preprocess3\n",
    "#Remove the words occurred less than 10 times\n",
    "words_to_remove = set(word for word, count in word_counts.items() if count < 10)\n",
    "df7['content_sentiment'] = [[word for word in tokens if word not in words_to_remove] for tokens in df7['content_sentiment']]\n",
    "\n",
    "#Preprocess4\n",
    "df7[\"content_sentiment\"]=df7[\"content_sentiment\"].astype(str)\n",
    "#Apply preprocess4\n",
    "df7['content_sentiment'] = df7['content_sentiment'].apply(preprocess4)\n",
    "#Tokenize str content_sentiment column\n",
    "df7['content_sentiment'] = df7['content_sentiment'].apply(lambda x: word_tokenize(x))\n",
    "\n",
    "#Skip preprocess 5 because lemmatization is chosen ovr stemming\n",
    "\n",
    "#Preprocess 6\n",
    "# Apply lemmatization and POS tagging to the 'content_sentiment' column\n",
    "def get_wordnet_pos(tag):\n",
    "    if tag.startswith('N'):\n",
    "        return wordnet.NOUN\n",
    "    elif tag.startswith('V'):\n",
    "        return wordnet.VERB\n",
    "    elif tag.startswith('R'):\n",
    "        return wordnet.ADV\n",
    "    elif tag.startswith('J'):\n",
    "        return wordnet.ADJ\n",
    "    else:\n",
    "        return wordnet.NOUN  # Default to noun if no specific POS tag is found\n",
    "df7['content_sentiment'] = df7['content_sentiment'].apply(lambda x: [lemmatizer.lemmatize(word, get_wordnet_pos(pos_tag([word])[0][1])) for word in x])"
   ]
  },
  {
   "cell_type": "code",
   "execution_count": 81,
   "metadata": {},
   "outputs": [
    {
     "ename": "KeyboardInterrupt",
     "evalue": "",
     "output_type": "error",
     "traceback": [
      "\u001b[1;31m---------------------------------------------------------------------------\u001b[0m",
      "\u001b[1;31mKeyboardInterrupt\u001b[0m                         Traceback (most recent call last)",
      "\u001b[1;32m~\\AppData\\Local\\Temp\\ipykernel_17764\\863628361.py\u001b[0m in \u001b[0;36m<module>\u001b[1;34m\u001b[0m\n\u001b[0;32m      4\u001b[0m     \u001b[0msentiment_pipeline\u001b[0m \u001b[1;33m=\u001b[0m \u001b[0mpipeline\u001b[0m\u001b[1;33m(\u001b[0m\u001b[1;34m'sentiment-analysis'\u001b[0m\u001b[1;33m,\u001b[0m \u001b[0mmodel\u001b[0m\u001b[1;33m=\u001b[0m\u001b[0mMODEL\u001b[0m\u001b[1;33m)\u001b[0m\u001b[1;33m\u001b[0m\u001b[1;33m\u001b[0m\u001b[0m\n\u001b[0;32m      5\u001b[0m \u001b[1;31m# Apply sentiment analysis to the training set and create a new column called sentiment\u001b[0m\u001b[1;33m\u001b[0m\u001b[1;33m\u001b[0m\u001b[0m\n\u001b[1;32m----> 6\u001b[1;33m     \u001b[0mdf7\u001b[0m\u001b[1;33m[\u001b[0m\u001b[1;34m'sentiment'\u001b[0m\u001b[1;33m]\u001b[0m \u001b[1;33m=\u001b[0m \u001b[1;33m[\u001b[0m\u001b[0msentiment_pipeline\u001b[0m\u001b[1;33m(\u001b[0m\u001b[0mtext\u001b[0m\u001b[1;33m)\u001b[0m\u001b[1;33m[\u001b[0m\u001b[1;36m0\u001b[0m\u001b[1;33m]\u001b[0m\u001b[1;33m[\u001b[0m\u001b[1;34m'label'\u001b[0m\u001b[1;33m]\u001b[0m \u001b[1;32mfor\u001b[0m \u001b[0mtext\u001b[0m \u001b[1;32min\u001b[0m \u001b[0mdf7\u001b[0m\u001b[1;33m[\u001b[0m\u001b[1;34m'content_sentiment'\u001b[0m\u001b[1;33m]\u001b[0m\u001b[1;33m]\u001b[0m\u001b[1;33m\u001b[0m\u001b[1;33m\u001b[0m\u001b[0m\n\u001b[0m",
      "\u001b[1;32m~\\AppData\\Local\\Temp\\ipykernel_17764\\863628361.py\u001b[0m in \u001b[0;36m<listcomp>\u001b[1;34m(.0)\u001b[0m\n\u001b[0;32m      4\u001b[0m     \u001b[0msentiment_pipeline\u001b[0m \u001b[1;33m=\u001b[0m \u001b[0mpipeline\u001b[0m\u001b[1;33m(\u001b[0m\u001b[1;34m'sentiment-analysis'\u001b[0m\u001b[1;33m,\u001b[0m \u001b[0mmodel\u001b[0m\u001b[1;33m=\u001b[0m\u001b[0mMODEL\u001b[0m\u001b[1;33m)\u001b[0m\u001b[1;33m\u001b[0m\u001b[1;33m\u001b[0m\u001b[0m\n\u001b[0;32m      5\u001b[0m \u001b[1;31m# Apply sentiment analysis to the training set and create a new column called sentiment\u001b[0m\u001b[1;33m\u001b[0m\u001b[1;33m\u001b[0m\u001b[0m\n\u001b[1;32m----> 6\u001b[1;33m     \u001b[0mdf7\u001b[0m\u001b[1;33m[\u001b[0m\u001b[1;34m'sentiment'\u001b[0m\u001b[1;33m]\u001b[0m \u001b[1;33m=\u001b[0m \u001b[1;33m[\u001b[0m\u001b[0msentiment_pipeline\u001b[0m\u001b[1;33m(\u001b[0m\u001b[0mtext\u001b[0m\u001b[1;33m)\u001b[0m\u001b[1;33m[\u001b[0m\u001b[1;36m0\u001b[0m\u001b[1;33m]\u001b[0m\u001b[1;33m[\u001b[0m\u001b[1;34m'label'\u001b[0m\u001b[1;33m]\u001b[0m \u001b[1;32mfor\u001b[0m \u001b[0mtext\u001b[0m \u001b[1;32min\u001b[0m \u001b[0mdf7\u001b[0m\u001b[1;33m[\u001b[0m\u001b[1;34m'content_sentiment'\u001b[0m\u001b[1;33m]\u001b[0m\u001b[1;33m]\u001b[0m\u001b[1;33m\u001b[0m\u001b[1;33m\u001b[0m\u001b[0m\n\u001b[0m",
      "\u001b[1;32m~\\Anaconda3\\lib\\site-packages\\transformers\\pipelines\\text_classification.py\u001b[0m in \u001b[0;36m__call__\u001b[1;34m(self, *args, **kwargs)\u001b[0m\n\u001b[0;32m    153\u001b[0m             \u001b[0mIf\u001b[0m\u001b[0;31m \u001b[0m\u001b[0;31m`\u001b[0m\u001b[0mtop_k\u001b[0m\u001b[0;31m`\u001b[0m \u001b[1;32mis\u001b[0m \u001b[0mused\u001b[0m\u001b[1;33m,\u001b[0m \u001b[0mone\u001b[0m \u001b[0msuch\u001b[0m \u001b[0mdictionary\u001b[0m \u001b[1;32mis\u001b[0m \u001b[0mreturned\u001b[0m \u001b[0mper\u001b[0m \u001b[0mlabel\u001b[0m\u001b[1;33m.\u001b[0m\u001b[1;33m\u001b[0m\u001b[1;33m\u001b[0m\u001b[0m\n\u001b[0;32m    154\u001b[0m         \"\"\"\n\u001b[1;32m--> 155\u001b[1;33m         \u001b[0mresult\u001b[0m \u001b[1;33m=\u001b[0m \u001b[0msuper\u001b[0m\u001b[1;33m(\u001b[0m\u001b[1;33m)\u001b[0m\u001b[1;33m.\u001b[0m\u001b[0m__call__\u001b[0m\u001b[1;33m(\u001b[0m\u001b[1;33m*\u001b[0m\u001b[0margs\u001b[0m\u001b[1;33m,\u001b[0m \u001b[1;33m**\u001b[0m\u001b[0mkwargs\u001b[0m\u001b[1;33m)\u001b[0m\u001b[1;33m\u001b[0m\u001b[1;33m\u001b[0m\u001b[0m\n\u001b[0m\u001b[0;32m    156\u001b[0m         \u001b[1;31m# TODO try and retrieve it in a nicer way from _sanitize_parameters.\u001b[0m\u001b[1;33m\u001b[0m\u001b[1;33m\u001b[0m\u001b[0m\n\u001b[0;32m    157\u001b[0m         \u001b[0m_legacy\u001b[0m \u001b[1;33m=\u001b[0m \u001b[1;34m\"top_k\"\u001b[0m \u001b[1;32mnot\u001b[0m \u001b[1;32min\u001b[0m \u001b[0mkwargs\u001b[0m\u001b[1;33m\u001b[0m\u001b[1;33m\u001b[0m\u001b[0m\n",
      "\u001b[1;32m~\\Anaconda3\\lib\\site-packages\\transformers\\pipelines\\base.py\u001b[0m in \u001b[0;36m__call__\u001b[1;34m(self, inputs, num_workers, batch_size, *args, **kwargs)\u001b[0m\n\u001b[0;32m   1088\u001b[0m                     \u001b[0minputs\u001b[0m\u001b[1;33m,\u001b[0m \u001b[0mnum_workers\u001b[0m\u001b[1;33m,\u001b[0m \u001b[0mbatch_size\u001b[0m\u001b[1;33m,\u001b[0m \u001b[0mpreprocess_params\u001b[0m\u001b[1;33m,\u001b[0m \u001b[0mforward_params\u001b[0m\u001b[1;33m,\u001b[0m \u001b[0mpostprocess_params\u001b[0m\u001b[1;33m\u001b[0m\u001b[1;33m\u001b[0m\u001b[0m\n\u001b[0;32m   1089\u001b[0m                 )\n\u001b[1;32m-> 1090\u001b[1;33m                 \u001b[0moutputs\u001b[0m \u001b[1;33m=\u001b[0m \u001b[0mlist\u001b[0m\u001b[1;33m(\u001b[0m\u001b[0mfinal_iterator\u001b[0m\u001b[1;33m)\u001b[0m\u001b[1;33m\u001b[0m\u001b[1;33m\u001b[0m\u001b[0m\n\u001b[0m\u001b[0;32m   1091\u001b[0m                 \u001b[1;32mreturn\u001b[0m \u001b[0moutputs\u001b[0m\u001b[1;33m\u001b[0m\u001b[1;33m\u001b[0m\u001b[0m\n\u001b[0;32m   1092\u001b[0m             \u001b[1;32melse\u001b[0m\u001b[1;33m:\u001b[0m\u001b[1;33m\u001b[0m\u001b[1;33m\u001b[0m\u001b[0m\n",
      "\u001b[1;32m~\\Anaconda3\\lib\\site-packages\\transformers\\pipelines\\pt_utils.py\u001b[0m in \u001b[0;36m__next__\u001b[1;34m(self)\u001b[0m\n\u001b[0;32m    122\u001b[0m \u001b[1;33m\u001b[0m\u001b[0m\n\u001b[0;32m    123\u001b[0m         \u001b[1;31m# We're out of items within a batch\u001b[0m\u001b[1;33m\u001b[0m\u001b[1;33m\u001b[0m\u001b[0m\n\u001b[1;32m--> 124\u001b[1;33m         \u001b[0mitem\u001b[0m \u001b[1;33m=\u001b[0m \u001b[0mnext\u001b[0m\u001b[1;33m(\u001b[0m\u001b[0mself\u001b[0m\u001b[1;33m.\u001b[0m\u001b[0miterator\u001b[0m\u001b[1;33m)\u001b[0m\u001b[1;33m\u001b[0m\u001b[1;33m\u001b[0m\u001b[0m\n\u001b[0m\u001b[0;32m    125\u001b[0m         \u001b[0mprocessed\u001b[0m \u001b[1;33m=\u001b[0m \u001b[0mself\u001b[0m\u001b[1;33m.\u001b[0m\u001b[0minfer\u001b[0m\u001b[1;33m(\u001b[0m\u001b[0mitem\u001b[0m\u001b[1;33m,\u001b[0m \u001b[1;33m**\u001b[0m\u001b[0mself\u001b[0m\u001b[1;33m.\u001b[0m\u001b[0mparams\u001b[0m\u001b[1;33m)\u001b[0m\u001b[1;33m\u001b[0m\u001b[1;33m\u001b[0m\u001b[0m\n\u001b[0;32m    126\u001b[0m         \u001b[1;31m# We now have a batch of \"inferred things\".\u001b[0m\u001b[1;33m\u001b[0m\u001b[1;33m\u001b[0m\u001b[0m\n",
      "\u001b[1;32m~\\Anaconda3\\lib\\site-packages\\transformers\\pipelines\\pt_utils.py\u001b[0m in \u001b[0;36m__next__\u001b[1;34m(self)\u001b[0m\n\u001b[0;32m    123\u001b[0m         \u001b[1;31m# We're out of items within a batch\u001b[0m\u001b[1;33m\u001b[0m\u001b[1;33m\u001b[0m\u001b[0m\n\u001b[0;32m    124\u001b[0m         \u001b[0mitem\u001b[0m \u001b[1;33m=\u001b[0m \u001b[0mnext\u001b[0m\u001b[1;33m(\u001b[0m\u001b[0mself\u001b[0m\u001b[1;33m.\u001b[0m\u001b[0miterator\u001b[0m\u001b[1;33m)\u001b[0m\u001b[1;33m\u001b[0m\u001b[1;33m\u001b[0m\u001b[0m\n\u001b[1;32m--> 125\u001b[1;33m         \u001b[0mprocessed\u001b[0m \u001b[1;33m=\u001b[0m \u001b[0mself\u001b[0m\u001b[1;33m.\u001b[0m\u001b[0minfer\u001b[0m\u001b[1;33m(\u001b[0m\u001b[0mitem\u001b[0m\u001b[1;33m,\u001b[0m \u001b[1;33m**\u001b[0m\u001b[0mself\u001b[0m\u001b[1;33m.\u001b[0m\u001b[0mparams\u001b[0m\u001b[1;33m)\u001b[0m\u001b[1;33m\u001b[0m\u001b[1;33m\u001b[0m\u001b[0m\n\u001b[0m\u001b[0;32m    126\u001b[0m         \u001b[1;31m# We now have a batch of \"inferred things\".\u001b[0m\u001b[1;33m\u001b[0m\u001b[1;33m\u001b[0m\u001b[0m\n\u001b[0;32m    127\u001b[0m         \u001b[1;32mif\u001b[0m \u001b[0mself\u001b[0m\u001b[1;33m.\u001b[0m\u001b[0mloader_batch_size\u001b[0m \u001b[1;32mis\u001b[0m \u001b[1;32mnot\u001b[0m \u001b[1;32mNone\u001b[0m\u001b[1;33m:\u001b[0m\u001b[1;33m\u001b[0m\u001b[1;33m\u001b[0m\u001b[0m\n",
      "\u001b[1;32m~\\Anaconda3\\lib\\site-packages\\transformers\\pipelines\\base.py\u001b[0m in \u001b[0;36mforward\u001b[1;34m(self, model_inputs, **forward_params)\u001b[0m\n\u001b[0;32m   1013\u001b[0m                 \u001b[1;32mwith\u001b[0m \u001b[0minference_context\u001b[0m\u001b[1;33m(\u001b[0m\u001b[1;33m)\u001b[0m\u001b[1;33m:\u001b[0m\u001b[1;33m\u001b[0m\u001b[1;33m\u001b[0m\u001b[0m\n\u001b[0;32m   1014\u001b[0m                     \u001b[0mmodel_inputs\u001b[0m \u001b[1;33m=\u001b[0m \u001b[0mself\u001b[0m\u001b[1;33m.\u001b[0m\u001b[0m_ensure_tensor_on_device\u001b[0m\u001b[1;33m(\u001b[0m\u001b[0mmodel_inputs\u001b[0m\u001b[1;33m,\u001b[0m \u001b[0mdevice\u001b[0m\u001b[1;33m=\u001b[0m\u001b[0mself\u001b[0m\u001b[1;33m.\u001b[0m\u001b[0mdevice\u001b[0m\u001b[1;33m)\u001b[0m\u001b[1;33m\u001b[0m\u001b[1;33m\u001b[0m\u001b[0m\n\u001b[1;32m-> 1015\u001b[1;33m                     \u001b[0mmodel_outputs\u001b[0m \u001b[1;33m=\u001b[0m \u001b[0mself\u001b[0m\u001b[1;33m.\u001b[0m\u001b[0m_forward\u001b[0m\u001b[1;33m(\u001b[0m\u001b[0mmodel_inputs\u001b[0m\u001b[1;33m,\u001b[0m \u001b[1;33m**\u001b[0m\u001b[0mforward_params\u001b[0m\u001b[1;33m)\u001b[0m\u001b[1;33m\u001b[0m\u001b[1;33m\u001b[0m\u001b[0m\n\u001b[0m\u001b[0;32m   1016\u001b[0m                     \u001b[0mmodel_outputs\u001b[0m \u001b[1;33m=\u001b[0m \u001b[0mself\u001b[0m\u001b[1;33m.\u001b[0m\u001b[0m_ensure_tensor_on_device\u001b[0m\u001b[1;33m(\u001b[0m\u001b[0mmodel_outputs\u001b[0m\u001b[1;33m,\u001b[0m \u001b[0mdevice\u001b[0m\u001b[1;33m=\u001b[0m\u001b[0mtorch\u001b[0m\u001b[1;33m.\u001b[0m\u001b[0mdevice\u001b[0m\u001b[1;33m(\u001b[0m\u001b[1;34m\"cpu\"\u001b[0m\u001b[1;33m)\u001b[0m\u001b[1;33m)\u001b[0m\u001b[1;33m\u001b[0m\u001b[1;33m\u001b[0m\u001b[0m\n\u001b[0;32m   1017\u001b[0m             \u001b[1;32melse\u001b[0m\u001b[1;33m:\u001b[0m\u001b[1;33m\u001b[0m\u001b[1;33m\u001b[0m\u001b[0m\n",
      "\u001b[1;32m~\\Anaconda3\\lib\\site-packages\\transformers\\pipelines\\text_classification.py\u001b[0m in \u001b[0;36m_forward\u001b[1;34m(self, model_inputs)\u001b[0m\n\u001b[0;32m    180\u001b[0m \u001b[1;33m\u001b[0m\u001b[0m\n\u001b[0;32m    181\u001b[0m     \u001b[1;32mdef\u001b[0m \u001b[0m_forward\u001b[0m\u001b[1;33m(\u001b[0m\u001b[0mself\u001b[0m\u001b[1;33m,\u001b[0m \u001b[0mmodel_inputs\u001b[0m\u001b[1;33m)\u001b[0m\u001b[1;33m:\u001b[0m\u001b[1;33m\u001b[0m\u001b[1;33m\u001b[0m\u001b[0m\n\u001b[1;32m--> 182\u001b[1;33m         \u001b[1;32mreturn\u001b[0m \u001b[0mself\u001b[0m\u001b[1;33m.\u001b[0m\u001b[0mmodel\u001b[0m\u001b[1;33m(\u001b[0m\u001b[1;33m**\u001b[0m\u001b[0mmodel_inputs\u001b[0m\u001b[1;33m)\u001b[0m\u001b[1;33m\u001b[0m\u001b[1;33m\u001b[0m\u001b[0m\n\u001b[0m\u001b[0;32m    183\u001b[0m \u001b[1;33m\u001b[0m\u001b[0m\n\u001b[0;32m    184\u001b[0m     \u001b[1;32mdef\u001b[0m \u001b[0mpostprocess\u001b[0m\u001b[1;33m(\u001b[0m\u001b[0mself\u001b[0m\u001b[1;33m,\u001b[0m \u001b[0mmodel_outputs\u001b[0m\u001b[1;33m,\u001b[0m \u001b[0mfunction_to_apply\u001b[0m\u001b[1;33m=\u001b[0m\u001b[1;32mNone\u001b[0m\u001b[1;33m,\u001b[0m \u001b[0mtop_k\u001b[0m\u001b[1;33m=\u001b[0m\u001b[1;36m1\u001b[0m\u001b[1;33m,\u001b[0m \u001b[0m_legacy\u001b[0m\u001b[1;33m=\u001b[0m\u001b[1;32mTrue\u001b[0m\u001b[1;33m)\u001b[0m\u001b[1;33m:\u001b[0m\u001b[1;33m\u001b[0m\u001b[1;33m\u001b[0m\u001b[0m\n",
      "\u001b[1;32m~\\Anaconda3\\lib\\site-packages\\torch\\nn\\modules\\module.py\u001b[0m in \u001b[0;36m_call_impl\u001b[1;34m(self, *args, **kwargs)\u001b[0m\n\u001b[0;32m   1499\u001b[0m                 \u001b[1;32mor\u001b[0m \u001b[0m_global_backward_pre_hooks\u001b[0m \u001b[1;32mor\u001b[0m \u001b[0m_global_backward_hooks\u001b[0m\u001b[1;33m\u001b[0m\u001b[1;33m\u001b[0m\u001b[0m\n\u001b[0;32m   1500\u001b[0m                 or _global_forward_hooks or _global_forward_pre_hooks):\n\u001b[1;32m-> 1501\u001b[1;33m             \u001b[1;32mreturn\u001b[0m \u001b[0mforward_call\u001b[0m\u001b[1;33m(\u001b[0m\u001b[1;33m*\u001b[0m\u001b[0margs\u001b[0m\u001b[1;33m,\u001b[0m \u001b[1;33m**\u001b[0m\u001b[0mkwargs\u001b[0m\u001b[1;33m)\u001b[0m\u001b[1;33m\u001b[0m\u001b[1;33m\u001b[0m\u001b[0m\n\u001b[0m\u001b[0;32m   1502\u001b[0m         \u001b[1;31m# Do not call functions when jit is used\u001b[0m\u001b[1;33m\u001b[0m\u001b[1;33m\u001b[0m\u001b[0m\n\u001b[0;32m   1503\u001b[0m         \u001b[0mfull_backward_hooks\u001b[0m\u001b[1;33m,\u001b[0m \u001b[0mnon_full_backward_hooks\u001b[0m \u001b[1;33m=\u001b[0m \u001b[1;33m[\u001b[0m\u001b[1;33m]\u001b[0m\u001b[1;33m,\u001b[0m \u001b[1;33m[\u001b[0m\u001b[1;33m]\u001b[0m\u001b[1;33m\u001b[0m\u001b[1;33m\u001b[0m\u001b[0m\n",
      "\u001b[1;32m~\\Anaconda3\\lib\\site-packages\\transformers\\models\\roberta\\modeling_roberta.py\u001b[0m in \u001b[0;36mforward\u001b[1;34m(self, input_ids, attention_mask, token_type_ids, position_ids, head_mask, inputs_embeds, labels, output_attentions, output_hidden_states, return_dict)\u001b[0m\n\u001b[0;32m   1214\u001b[0m         \u001b[0mreturn_dict\u001b[0m \u001b[1;33m=\u001b[0m \u001b[0mreturn_dict\u001b[0m \u001b[1;32mif\u001b[0m \u001b[0mreturn_dict\u001b[0m \u001b[1;32mis\u001b[0m \u001b[1;32mnot\u001b[0m \u001b[1;32mNone\u001b[0m \u001b[1;32melse\u001b[0m \u001b[0mself\u001b[0m\u001b[1;33m.\u001b[0m\u001b[0mconfig\u001b[0m\u001b[1;33m.\u001b[0m\u001b[0muse_return_dict\u001b[0m\u001b[1;33m\u001b[0m\u001b[1;33m\u001b[0m\u001b[0m\n\u001b[0;32m   1215\u001b[0m \u001b[1;33m\u001b[0m\u001b[0m\n\u001b[1;32m-> 1216\u001b[1;33m         outputs = self.roberta(\n\u001b[0m\u001b[0;32m   1217\u001b[0m             \u001b[0minput_ids\u001b[0m\u001b[1;33m,\u001b[0m\u001b[1;33m\u001b[0m\u001b[1;33m\u001b[0m\u001b[0m\n\u001b[0;32m   1218\u001b[0m             \u001b[0mattention_mask\u001b[0m\u001b[1;33m=\u001b[0m\u001b[0mattention_mask\u001b[0m\u001b[1;33m,\u001b[0m\u001b[1;33m\u001b[0m\u001b[1;33m\u001b[0m\u001b[0m\n",
      "\u001b[1;32m~\\Anaconda3\\lib\\site-packages\\torch\\nn\\modules\\module.py\u001b[0m in \u001b[0;36m_call_impl\u001b[1;34m(self, *args, **kwargs)\u001b[0m\n\u001b[0;32m   1499\u001b[0m                 \u001b[1;32mor\u001b[0m \u001b[0m_global_backward_pre_hooks\u001b[0m \u001b[1;32mor\u001b[0m \u001b[0m_global_backward_hooks\u001b[0m\u001b[1;33m\u001b[0m\u001b[1;33m\u001b[0m\u001b[0m\n\u001b[0;32m   1500\u001b[0m                 or _global_forward_hooks or _global_forward_pre_hooks):\n\u001b[1;32m-> 1501\u001b[1;33m             \u001b[1;32mreturn\u001b[0m \u001b[0mforward_call\u001b[0m\u001b[1;33m(\u001b[0m\u001b[1;33m*\u001b[0m\u001b[0margs\u001b[0m\u001b[1;33m,\u001b[0m \u001b[1;33m**\u001b[0m\u001b[0mkwargs\u001b[0m\u001b[1;33m)\u001b[0m\u001b[1;33m\u001b[0m\u001b[1;33m\u001b[0m\u001b[0m\n\u001b[0m\u001b[0;32m   1502\u001b[0m         \u001b[1;31m# Do not call functions when jit is used\u001b[0m\u001b[1;33m\u001b[0m\u001b[1;33m\u001b[0m\u001b[0m\n\u001b[0;32m   1503\u001b[0m         \u001b[0mfull_backward_hooks\u001b[0m\u001b[1;33m,\u001b[0m \u001b[0mnon_full_backward_hooks\u001b[0m \u001b[1;33m=\u001b[0m \u001b[1;33m[\u001b[0m\u001b[1;33m]\u001b[0m\u001b[1;33m,\u001b[0m \u001b[1;33m[\u001b[0m\u001b[1;33m]\u001b[0m\u001b[1;33m\u001b[0m\u001b[1;33m\u001b[0m\u001b[0m\n",
      "\u001b[1;32m~\\Anaconda3\\lib\\site-packages\\transformers\\models\\roberta\\modeling_roberta.py\u001b[0m in \u001b[0;36mforward\u001b[1;34m(self, input_ids, attention_mask, token_type_ids, position_ids, head_mask, inputs_embeds, encoder_hidden_states, encoder_attention_mask, past_key_values, use_cache, output_attentions, output_hidden_states, return_dict)\u001b[0m\n\u001b[0;32m    850\u001b[0m             \u001b[0mpast_key_values_length\u001b[0m\u001b[1;33m=\u001b[0m\u001b[0mpast_key_values_length\u001b[0m\u001b[1;33m,\u001b[0m\u001b[1;33m\u001b[0m\u001b[1;33m\u001b[0m\u001b[0m\n\u001b[0;32m    851\u001b[0m         )\n\u001b[1;32m--> 852\u001b[1;33m         encoder_outputs = self.encoder(\n\u001b[0m\u001b[0;32m    853\u001b[0m             \u001b[0membedding_output\u001b[0m\u001b[1;33m,\u001b[0m\u001b[1;33m\u001b[0m\u001b[1;33m\u001b[0m\u001b[0m\n\u001b[0;32m    854\u001b[0m             \u001b[0mattention_mask\u001b[0m\u001b[1;33m=\u001b[0m\u001b[0mextended_attention_mask\u001b[0m\u001b[1;33m,\u001b[0m\u001b[1;33m\u001b[0m\u001b[1;33m\u001b[0m\u001b[0m\n",
      "\u001b[1;32m~\\Anaconda3\\lib\\site-packages\\torch\\nn\\modules\\module.py\u001b[0m in \u001b[0;36m_call_impl\u001b[1;34m(self, *args, **kwargs)\u001b[0m\n\u001b[0;32m   1499\u001b[0m                 \u001b[1;32mor\u001b[0m \u001b[0m_global_backward_pre_hooks\u001b[0m \u001b[1;32mor\u001b[0m \u001b[0m_global_backward_hooks\u001b[0m\u001b[1;33m\u001b[0m\u001b[1;33m\u001b[0m\u001b[0m\n\u001b[0;32m   1500\u001b[0m                 or _global_forward_hooks or _global_forward_pre_hooks):\n\u001b[1;32m-> 1501\u001b[1;33m             \u001b[1;32mreturn\u001b[0m \u001b[0mforward_call\u001b[0m\u001b[1;33m(\u001b[0m\u001b[1;33m*\u001b[0m\u001b[0margs\u001b[0m\u001b[1;33m,\u001b[0m \u001b[1;33m**\u001b[0m\u001b[0mkwargs\u001b[0m\u001b[1;33m)\u001b[0m\u001b[1;33m\u001b[0m\u001b[1;33m\u001b[0m\u001b[0m\n\u001b[0m\u001b[0;32m   1502\u001b[0m         \u001b[1;31m# Do not call functions when jit is used\u001b[0m\u001b[1;33m\u001b[0m\u001b[1;33m\u001b[0m\u001b[0m\n\u001b[0;32m   1503\u001b[0m         \u001b[0mfull_backward_hooks\u001b[0m\u001b[1;33m,\u001b[0m \u001b[0mnon_full_backward_hooks\u001b[0m \u001b[1;33m=\u001b[0m \u001b[1;33m[\u001b[0m\u001b[1;33m]\u001b[0m\u001b[1;33m,\u001b[0m \u001b[1;33m[\u001b[0m\u001b[1;33m]\u001b[0m\u001b[1;33m\u001b[0m\u001b[1;33m\u001b[0m\u001b[0m\n",
      "\u001b[1;32m~\\Anaconda3\\lib\\site-packages\\transformers\\models\\roberta\\modeling_roberta.py\u001b[0m in \u001b[0;36mforward\u001b[1;34m(self, hidden_states, attention_mask, head_mask, encoder_hidden_states, encoder_attention_mask, past_key_values, use_cache, output_attentions, output_hidden_states, return_dict)\u001b[0m\n\u001b[0;32m    525\u001b[0m                 )\n\u001b[0;32m    526\u001b[0m             \u001b[1;32melse\u001b[0m\u001b[1;33m:\u001b[0m\u001b[1;33m\u001b[0m\u001b[1;33m\u001b[0m\u001b[0m\n\u001b[1;32m--> 527\u001b[1;33m                 layer_outputs = layer_module(\n\u001b[0m\u001b[0;32m    528\u001b[0m                     \u001b[0mhidden_states\u001b[0m\u001b[1;33m,\u001b[0m\u001b[1;33m\u001b[0m\u001b[1;33m\u001b[0m\u001b[0m\n\u001b[0;32m    529\u001b[0m                     \u001b[0mattention_mask\u001b[0m\u001b[1;33m,\u001b[0m\u001b[1;33m\u001b[0m\u001b[1;33m\u001b[0m\u001b[0m\n",
      "\u001b[1;32m~\\Anaconda3\\lib\\site-packages\\torch\\nn\\modules\\module.py\u001b[0m in \u001b[0;36m_call_impl\u001b[1;34m(self, *args, **kwargs)\u001b[0m\n\u001b[0;32m   1499\u001b[0m                 \u001b[1;32mor\u001b[0m \u001b[0m_global_backward_pre_hooks\u001b[0m \u001b[1;32mor\u001b[0m \u001b[0m_global_backward_hooks\u001b[0m\u001b[1;33m\u001b[0m\u001b[1;33m\u001b[0m\u001b[0m\n\u001b[0;32m   1500\u001b[0m                 or _global_forward_hooks or _global_forward_pre_hooks):\n\u001b[1;32m-> 1501\u001b[1;33m             \u001b[1;32mreturn\u001b[0m \u001b[0mforward_call\u001b[0m\u001b[1;33m(\u001b[0m\u001b[1;33m*\u001b[0m\u001b[0margs\u001b[0m\u001b[1;33m,\u001b[0m \u001b[1;33m**\u001b[0m\u001b[0mkwargs\u001b[0m\u001b[1;33m)\u001b[0m\u001b[1;33m\u001b[0m\u001b[1;33m\u001b[0m\u001b[0m\n\u001b[0m\u001b[0;32m   1502\u001b[0m         \u001b[1;31m# Do not call functions when jit is used\u001b[0m\u001b[1;33m\u001b[0m\u001b[1;33m\u001b[0m\u001b[0m\n\u001b[0;32m   1503\u001b[0m         \u001b[0mfull_backward_hooks\u001b[0m\u001b[1;33m,\u001b[0m \u001b[0mnon_full_backward_hooks\u001b[0m \u001b[1;33m=\u001b[0m \u001b[1;33m[\u001b[0m\u001b[1;33m]\u001b[0m\u001b[1;33m,\u001b[0m \u001b[1;33m[\u001b[0m\u001b[1;33m]\u001b[0m\u001b[1;33m\u001b[0m\u001b[1;33m\u001b[0m\u001b[0m\n",
      "\u001b[1;32m~\\Anaconda3\\lib\\site-packages\\transformers\\models\\roberta\\modeling_roberta.py\u001b[0m in \u001b[0;36mforward\u001b[1;34m(self, hidden_states, attention_mask, head_mask, encoder_hidden_states, encoder_attention_mask, past_key_value, output_attentions)\u001b[0m\n\u001b[0;32m    451\u001b[0m             \u001b[0mpresent_key_value\u001b[0m \u001b[1;33m=\u001b[0m \u001b[0mpresent_key_value\u001b[0m \u001b[1;33m+\u001b[0m \u001b[0mcross_attn_present_key_value\u001b[0m\u001b[1;33m\u001b[0m\u001b[1;33m\u001b[0m\u001b[0m\n\u001b[0;32m    452\u001b[0m \u001b[1;33m\u001b[0m\u001b[0m\n\u001b[1;32m--> 453\u001b[1;33m         layer_output = apply_chunking_to_forward(\n\u001b[0m\u001b[0;32m    454\u001b[0m             \u001b[0mself\u001b[0m\u001b[1;33m.\u001b[0m\u001b[0mfeed_forward_chunk\u001b[0m\u001b[1;33m,\u001b[0m \u001b[0mself\u001b[0m\u001b[1;33m.\u001b[0m\u001b[0mchunk_size_feed_forward\u001b[0m\u001b[1;33m,\u001b[0m \u001b[0mself\u001b[0m\u001b[1;33m.\u001b[0m\u001b[0mseq_len_dim\u001b[0m\u001b[1;33m,\u001b[0m \u001b[0mattention_output\u001b[0m\u001b[1;33m\u001b[0m\u001b[1;33m\u001b[0m\u001b[0m\n\u001b[0;32m    455\u001b[0m         )\n",
      "\u001b[1;32m~\\Anaconda3\\lib\\site-packages\\transformers\\pytorch_utils.py\u001b[0m in \u001b[0;36mapply_chunking_to_forward\u001b[1;34m(forward_fn, chunk_size, chunk_dim, *input_tensors)\u001b[0m\n\u001b[0;32m    234\u001b[0m         \u001b[1;32mreturn\u001b[0m \u001b[0mtorch\u001b[0m\u001b[1;33m.\u001b[0m\u001b[0mcat\u001b[0m\u001b[1;33m(\u001b[0m\u001b[0moutput_chunks\u001b[0m\u001b[1;33m,\u001b[0m \u001b[0mdim\u001b[0m\u001b[1;33m=\u001b[0m\u001b[0mchunk_dim\u001b[0m\u001b[1;33m)\u001b[0m\u001b[1;33m\u001b[0m\u001b[1;33m\u001b[0m\u001b[0m\n\u001b[0;32m    235\u001b[0m \u001b[1;33m\u001b[0m\u001b[0m\n\u001b[1;32m--> 236\u001b[1;33m     \u001b[1;32mreturn\u001b[0m \u001b[0mforward_fn\u001b[0m\u001b[1;33m(\u001b[0m\u001b[1;33m*\u001b[0m\u001b[0minput_tensors\u001b[0m\u001b[1;33m)\u001b[0m\u001b[1;33m\u001b[0m\u001b[1;33m\u001b[0m\u001b[0m\n\u001b[0m\u001b[0;32m    237\u001b[0m \u001b[1;33m\u001b[0m\u001b[0m\n\u001b[0;32m    238\u001b[0m \u001b[1;33m\u001b[0m\u001b[0m\n",
      "\u001b[1;32m~\\Anaconda3\\lib\\site-packages\\transformers\\models\\roberta\\modeling_roberta.py\u001b[0m in \u001b[0;36mfeed_forward_chunk\u001b[1;34m(self, attention_output)\u001b[0m\n\u001b[0;32m    463\u001b[0m \u001b[1;33m\u001b[0m\u001b[0m\n\u001b[0;32m    464\u001b[0m     \u001b[1;32mdef\u001b[0m \u001b[0mfeed_forward_chunk\u001b[0m\u001b[1;33m(\u001b[0m\u001b[0mself\u001b[0m\u001b[1;33m,\u001b[0m \u001b[0mattention_output\u001b[0m\u001b[1;33m)\u001b[0m\u001b[1;33m:\u001b[0m\u001b[1;33m\u001b[0m\u001b[1;33m\u001b[0m\u001b[0m\n\u001b[1;32m--> 465\u001b[1;33m         \u001b[0mintermediate_output\u001b[0m \u001b[1;33m=\u001b[0m \u001b[0mself\u001b[0m\u001b[1;33m.\u001b[0m\u001b[0mintermediate\u001b[0m\u001b[1;33m(\u001b[0m\u001b[0mattention_output\u001b[0m\u001b[1;33m)\u001b[0m\u001b[1;33m\u001b[0m\u001b[1;33m\u001b[0m\u001b[0m\n\u001b[0m\u001b[0;32m    466\u001b[0m         \u001b[0mlayer_output\u001b[0m \u001b[1;33m=\u001b[0m \u001b[0mself\u001b[0m\u001b[1;33m.\u001b[0m\u001b[0moutput\u001b[0m\u001b[1;33m(\u001b[0m\u001b[0mintermediate_output\u001b[0m\u001b[1;33m,\u001b[0m \u001b[0mattention_output\u001b[0m\u001b[1;33m)\u001b[0m\u001b[1;33m\u001b[0m\u001b[1;33m\u001b[0m\u001b[0m\n\u001b[0;32m    467\u001b[0m         \u001b[1;32mreturn\u001b[0m \u001b[0mlayer_output\u001b[0m\u001b[1;33m\u001b[0m\u001b[1;33m\u001b[0m\u001b[0m\n",
      "\u001b[1;32m~\\Anaconda3\\lib\\site-packages\\torch\\nn\\modules\\module.py\u001b[0m in \u001b[0;36m_call_impl\u001b[1;34m(self, *args, **kwargs)\u001b[0m\n\u001b[0;32m   1499\u001b[0m                 \u001b[1;32mor\u001b[0m \u001b[0m_global_backward_pre_hooks\u001b[0m \u001b[1;32mor\u001b[0m \u001b[0m_global_backward_hooks\u001b[0m\u001b[1;33m\u001b[0m\u001b[1;33m\u001b[0m\u001b[0m\n\u001b[0;32m   1500\u001b[0m                 or _global_forward_hooks or _global_forward_pre_hooks):\n\u001b[1;32m-> 1501\u001b[1;33m             \u001b[1;32mreturn\u001b[0m \u001b[0mforward_call\u001b[0m\u001b[1;33m(\u001b[0m\u001b[1;33m*\u001b[0m\u001b[0margs\u001b[0m\u001b[1;33m,\u001b[0m \u001b[1;33m**\u001b[0m\u001b[0mkwargs\u001b[0m\u001b[1;33m)\u001b[0m\u001b[1;33m\u001b[0m\u001b[1;33m\u001b[0m\u001b[0m\n\u001b[0m\u001b[0;32m   1502\u001b[0m         \u001b[1;31m# Do not call functions when jit is used\u001b[0m\u001b[1;33m\u001b[0m\u001b[1;33m\u001b[0m\u001b[0m\n\u001b[0;32m   1503\u001b[0m         \u001b[0mfull_backward_hooks\u001b[0m\u001b[1;33m,\u001b[0m \u001b[0mnon_full_backward_hooks\u001b[0m \u001b[1;33m=\u001b[0m \u001b[1;33m[\u001b[0m\u001b[1;33m]\u001b[0m\u001b[1;33m,\u001b[0m \u001b[1;33m[\u001b[0m\u001b[1;33m]\u001b[0m\u001b[1;33m\u001b[0m\u001b[1;33m\u001b[0m\u001b[0m\n",
      "\u001b[1;32m~\\Anaconda3\\lib\\site-packages\\transformers\\models\\roberta\\modeling_roberta.py\u001b[0m in \u001b[0;36mforward\u001b[1;34m(self, hidden_states)\u001b[0m\n\u001b[0;32m    361\u001b[0m \u001b[1;33m\u001b[0m\u001b[0m\n\u001b[0;32m    362\u001b[0m     \u001b[1;32mdef\u001b[0m \u001b[0mforward\u001b[0m\u001b[1;33m(\u001b[0m\u001b[0mself\u001b[0m\u001b[1;33m,\u001b[0m \u001b[0mhidden_states\u001b[0m\u001b[1;33m:\u001b[0m \u001b[0mtorch\u001b[0m\u001b[1;33m.\u001b[0m\u001b[0mTensor\u001b[0m\u001b[1;33m)\u001b[0m \u001b[1;33m->\u001b[0m \u001b[0mtorch\u001b[0m\u001b[1;33m.\u001b[0m\u001b[0mTensor\u001b[0m\u001b[1;33m:\u001b[0m\u001b[1;33m\u001b[0m\u001b[1;33m\u001b[0m\u001b[0m\n\u001b[1;32m--> 363\u001b[1;33m         \u001b[0mhidden_states\u001b[0m \u001b[1;33m=\u001b[0m \u001b[0mself\u001b[0m\u001b[1;33m.\u001b[0m\u001b[0mdense\u001b[0m\u001b[1;33m(\u001b[0m\u001b[0mhidden_states\u001b[0m\u001b[1;33m)\u001b[0m\u001b[1;33m\u001b[0m\u001b[1;33m\u001b[0m\u001b[0m\n\u001b[0m\u001b[0;32m    364\u001b[0m         \u001b[0mhidden_states\u001b[0m \u001b[1;33m=\u001b[0m \u001b[0mself\u001b[0m\u001b[1;33m.\u001b[0m\u001b[0mintermediate_act_fn\u001b[0m\u001b[1;33m(\u001b[0m\u001b[0mhidden_states\u001b[0m\u001b[1;33m)\u001b[0m\u001b[1;33m\u001b[0m\u001b[1;33m\u001b[0m\u001b[0m\n\u001b[0;32m    365\u001b[0m         \u001b[1;32mreturn\u001b[0m \u001b[0mhidden_states\u001b[0m\u001b[1;33m\u001b[0m\u001b[1;33m\u001b[0m\u001b[0m\n",
      "\u001b[1;32m~\\Anaconda3\\lib\\site-packages\\torch\\nn\\modules\\module.py\u001b[0m in \u001b[0;36m_call_impl\u001b[1;34m(self, *args, **kwargs)\u001b[0m\n\u001b[0;32m   1499\u001b[0m                 \u001b[1;32mor\u001b[0m \u001b[0m_global_backward_pre_hooks\u001b[0m \u001b[1;32mor\u001b[0m \u001b[0m_global_backward_hooks\u001b[0m\u001b[1;33m\u001b[0m\u001b[1;33m\u001b[0m\u001b[0m\n\u001b[0;32m   1500\u001b[0m                 or _global_forward_hooks or _global_forward_pre_hooks):\n\u001b[1;32m-> 1501\u001b[1;33m             \u001b[1;32mreturn\u001b[0m \u001b[0mforward_call\u001b[0m\u001b[1;33m(\u001b[0m\u001b[1;33m*\u001b[0m\u001b[0margs\u001b[0m\u001b[1;33m,\u001b[0m \u001b[1;33m**\u001b[0m\u001b[0mkwargs\u001b[0m\u001b[1;33m)\u001b[0m\u001b[1;33m\u001b[0m\u001b[1;33m\u001b[0m\u001b[0m\n\u001b[0m\u001b[0;32m   1502\u001b[0m         \u001b[1;31m# Do not call functions when jit is used\u001b[0m\u001b[1;33m\u001b[0m\u001b[1;33m\u001b[0m\u001b[0m\n\u001b[0;32m   1503\u001b[0m         \u001b[0mfull_backward_hooks\u001b[0m\u001b[1;33m,\u001b[0m \u001b[0mnon_full_backward_hooks\u001b[0m \u001b[1;33m=\u001b[0m \u001b[1;33m[\u001b[0m\u001b[1;33m]\u001b[0m\u001b[1;33m,\u001b[0m \u001b[1;33m[\u001b[0m\u001b[1;33m]\u001b[0m\u001b[1;33m\u001b[0m\u001b[1;33m\u001b[0m\u001b[0m\n",
      "\u001b[1;32m~\\Anaconda3\\lib\\site-packages\\torch\\nn\\modules\\linear.py\u001b[0m in \u001b[0;36mforward\u001b[1;34m(self, input)\u001b[0m\n\u001b[0;32m    112\u001b[0m \u001b[1;33m\u001b[0m\u001b[0m\n\u001b[0;32m    113\u001b[0m     \u001b[1;32mdef\u001b[0m \u001b[0mforward\u001b[0m\u001b[1;33m(\u001b[0m\u001b[0mself\u001b[0m\u001b[1;33m,\u001b[0m \u001b[0minput\u001b[0m\u001b[1;33m:\u001b[0m \u001b[0mTensor\u001b[0m\u001b[1;33m)\u001b[0m \u001b[1;33m->\u001b[0m \u001b[0mTensor\u001b[0m\u001b[1;33m:\u001b[0m\u001b[1;33m\u001b[0m\u001b[1;33m\u001b[0m\u001b[0m\n\u001b[1;32m--> 114\u001b[1;33m         \u001b[1;32mreturn\u001b[0m \u001b[0mF\u001b[0m\u001b[1;33m.\u001b[0m\u001b[0mlinear\u001b[0m\u001b[1;33m(\u001b[0m\u001b[0minput\u001b[0m\u001b[1;33m,\u001b[0m \u001b[0mself\u001b[0m\u001b[1;33m.\u001b[0m\u001b[0mweight\u001b[0m\u001b[1;33m,\u001b[0m \u001b[0mself\u001b[0m\u001b[1;33m.\u001b[0m\u001b[0mbias\u001b[0m\u001b[1;33m)\u001b[0m\u001b[1;33m\u001b[0m\u001b[1;33m\u001b[0m\u001b[0m\n\u001b[0m\u001b[0;32m    115\u001b[0m \u001b[1;33m\u001b[0m\u001b[0m\n\u001b[0;32m    116\u001b[0m     \u001b[1;32mdef\u001b[0m \u001b[0mextra_repr\u001b[0m\u001b[1;33m(\u001b[0m\u001b[0mself\u001b[0m\u001b[1;33m)\u001b[0m \u001b[1;33m->\u001b[0m \u001b[0mstr\u001b[0m\u001b[1;33m:\u001b[0m\u001b[1;33m\u001b[0m\u001b[1;33m\u001b[0m\u001b[0m\n",
      "\u001b[1;31mKeyboardInterrupt\u001b[0m: "
     ]
    }
   ],
   "source": [
    "# Load the sentiment analysis pipeline\n",
    "MODEL = \"cardiffnlp/twitter-roberta-base-sentiment\"\n",
    "with Pool(8) as p:\n",
    "    sentiment_pipeline = pipeline('sentiment-analysis', model=MODEL)\n",
    "# Apply sentiment analysis to the training set and create a new column called sentiment\n",
    "    df7['sentiment'] = [sentiment_pipeline(text)[0]['label'] for text in df7['content_sentiment']]"
   ]
  },
  {
   "cell_type": "code",
   "execution_count": null,
   "metadata": {},
   "outputs": [],
   "source": [
    "#Change df7 Labels to 1,2,3\n",
    "sentdict={\"LABEL_1\":1,\"LABEL_2\":2,\"LABEL_0\":3} # 1neutral, 2positive, 3negative\n",
    "df7_sent[\"sentiment_dum\"]=df7_sent.sentiment.map(sentdict)\n",
    "\n",
    "#Apply Preprocess to Semeval7\n",
    "semeval7=semeval1.copy()\n",
    "semeval7[\"content_sent\"]=semeval7[\"content_sent\"].astype(str)\n",
    "#Apply preprocess4\n",
    "semeval7['content_sent'] = semeval7['content_sent'].apply(preprocess4)\n",
    "#Tokenize str content_sentiment column\n",
    "semeval7['content_sent'] = semeval7['content_sent'].apply(lambda x: word_tokenize(x))\n",
    "\n",
    "\n",
    "#Apply Lemmatization to Semeval7\n",
    "semeval7['content_sent'] = semeval7['content_sent'].apply(lambda x: [lemmatizer.lemmatize(word, get_wordnet_pos(pos_tag([word])[0][1])) for word in x])"
   ]
  },
  {
   "cell_type": "code",
   "execution_count": null,
   "metadata": {},
   "outputs": [],
   "source": [
    "from thefuzz import fuzz\n",
    "# Function to find the best match from Semeval DataFrame based on fuzzy string matching\n",
    "def find_best_match(tweet, semeval7):\n",
    "    # Calculate the fuzzy string matching score for each tweet in df_gt\n",
    "    scores = semeval7['content_sent'].apply(lambda x: fuzz.ratio(tweet, x))\n",
    "    \n",
    "    # Find the index of the tweet with the highest fuzzy string matching score\n",
    "    best_match_index = scores.idxmax()\n",
    "    \n",
    "    # Return the sentiment label from the best matching tweet\n",
    "    return semeval7.loc[best_match_index, 'label']\n",
    "\n",
    "# Iterate through each tweet in df to assign ground truth sentiment labels\n",
    "df7_sent['ground_truth_sentiment'] = df7_sent['content_sentiment'].apply(lambda x: find_best_match(x, semeval7))"
   ]
  },
  {
   "cell_type": "code",
   "execution_count": null,
   "metadata": {},
   "outputs": [],
   "source": [
    "#DF7\n",
    "# Example evaluation code snippet\n",
    "# cluster_label column in  DataFrame represents the sentiment clustering output\n",
    "true_labels = df7['ground_truth_sentiment']\n",
    "predicted_labels = df7['sentiment_dum']\n",
    "\n",
    "# Calculate accuracy\n",
    "accuracy = (true_labels == predicted_labels).mean()\n",
    "\n",
    "# Calculate precision, recall, and F1-score\n",
    "precision = precision_score(true_labels, predicted_labels, average='weighted')\n",
    "recall = recall_score(true_labels, predicted_labels, average='weighted')\n",
    "f1 = f1_score(true_labels, predicted_labels, average='weighted')\n",
    "\n",
    "# Print the evaluation metrics\n",
    "print(\"Accuracy:\", accuracy)\n",
    "print(\"Precision:\", precision)\n",
    "print(\"Recall:\", recall)\n",
    "print(\"F1-score:\", f1)\n",
    "\n",
    "#Accuracy: 0.44555231906789156\n",
    "#Precision: 0.48672140916806694\n",
    "#Recall: 0.44555231906789156"
   ]
  },
  {
   "cell_type": "code",
   "execution_count": null,
   "metadata": {},
   "outputs": [],
   "source": [
    "report7 = classification_report(true_labels, predicted_labels)"
   ]
  },
  {
   "cell_type": "code",
   "execution_count": null,
   "metadata": {},
   "outputs": [],
   "source": [
    "report_df7 = classification_report(true_labels,predicted_labels)\n",
    "print(report_df7)"
   ]
  },
  {
   "cell_type": "code",
   "execution_count": null,
   "metadata": {},
   "outputs": [],
   "source": [
    "df7.to_csv(\"df7_sent.csv\")"
   ]
  },
  {
   "cell_type": "markdown",
   "metadata": {},
   "source": [
    "### New Features"
   ]
  },
  {
   "cell_type": "code",
   "execution_count": 83,
   "metadata": {},
   "outputs": [],
   "source": [
    "df7_sent=pd.read_csv(\"df7_sent.csv\")"
   ]
  },
  {
   "cell_type": "code",
   "execution_count": 100,
   "metadata": {},
   "outputs": [
    {
     "data": {
      "text/html": [
       "<div>\n",
       "<style scoped>\n",
       "    .dataframe tbody tr th:only-of-type {\n",
       "        vertical-align: middle;\n",
       "    }\n",
       "\n",
       "    .dataframe tbody tr th {\n",
       "        vertical-align: top;\n",
       "    }\n",
       "\n",
       "    .dataframe thead th {\n",
       "        text-align: right;\n",
       "    }\n",
       "</style>\n",
       "<table border=\"1\" class=\"dataframe\">\n",
       "  <thead>\n",
       "    <tr style=\"text-align: right;\">\n",
       "      <th></th>\n",
       "      <th>Unnamed: 0</th>\n",
       "      <th>user</th>\n",
       "      <th>content</th>\n",
       "      <th>follow</th>\n",
       "      <th>friend</th>\n",
       "      <th>reply</th>\n",
       "      <th>quote</th>\n",
       "      <th>lan</th>\n",
       "      <th>rt</th>\n",
       "      <th>like</th>\n",
       "      <th>date</th>\n",
       "      <th>partofday</th>\n",
       "      <th>times</th>\n",
       "      <th>month</th>\n",
       "      <th>mention</th>\n",
       "      <th>time</th>\n",
       "      <th>year</th>\n",
       "      <th>content_sentiment</th>\n",
       "      <th>sentiment</th>\n",
       "    </tr>\n",
       "  </thead>\n",
       "  <tbody>\n",
       "    <tr>\n",
       "      <th>0</th>\n",
       "      <td>87</td>\n",
       "      <td>Disney</td>\n",
       "      <td>May your magic never fade, even after the clock strikes midnight. ✨ Happy New Year! https://t.co/TFen027NXf</td>\n",
       "      <td>10012728.0</td>\n",
       "      <td>108.0</td>\n",
       "      <td>66.0</td>\n",
       "      <td>26.0</td>\n",
       "      <td>en</td>\n",
       "      <td>792.0</td>\n",
       "      <td>4255.0</td>\n",
       "      <td>2022-12-31</td>\n",
       "      <td>afternoon</td>\n",
       "      <td>14:00:00</td>\n",
       "      <td>12</td>\n",
       "      <td>NaN</td>\n",
       "      <td>14</td>\n",
       "      <td>2022</td>\n",
       "      <td>['may', 'magic', 'never', 'fade', 'even', 'clock', 'strike', 'midnight', 'happy', 'new', 'year']</td>\n",
       "      <td>LABEL_1</td>\n",
       "    </tr>\n",
       "    <tr>\n",
       "      <th>1</th>\n",
       "      <td>88</td>\n",
       "      <td>Disney</td>\n",
       "      <td>Remembering Disney Legend Barbara Walters: https://t.co/fBMScPht7v https://t.co/GOpO4ipdDd</td>\n",
       "      <td>10012728.0</td>\n",
       "      <td>108.0</td>\n",
       "      <td>37.0</td>\n",
       "      <td>8.0</td>\n",
       "      <td>en</td>\n",
       "      <td>187.0</td>\n",
       "      <td>1869.0</td>\n",
       "      <td>2022-12-31</td>\n",
       "      <td>evening</td>\n",
       "      <td>23:00:00</td>\n",
       "      <td>12</td>\n",
       "      <td>NaN</td>\n",
       "      <td>23</td>\n",
       "      <td>2022</td>\n",
       "      <td>['remember', 'disney', 'legend', 'barbara', 'walter']</td>\n",
       "      <td>LABEL_1</td>\n",
       "    </tr>\n",
       "    <tr>\n",
       "      <th>2</th>\n",
       "      <td>89</td>\n",
       "      <td>Disney</td>\n",
       "      <td>You can hear the mighty heartbeat. 💙\\n \\nWitness #AvatarTheWayOfWater in 3D, now playing only in theaters. Get tickets: https://t.co/w7kYsHS8Ln https://t.co/U6CthX9Xhk</td>\n",
       "      <td>10012728.0</td>\n",
       "      <td>108.0</td>\n",
       "      <td>29.0</td>\n",
       "      <td>8.0</td>\n",
       "      <td>en</td>\n",
       "      <td>78.0</td>\n",
       "      <td>857.0</td>\n",
       "      <td>2022-12-30</td>\n",
       "      <td>afternoon</td>\n",
       "      <td>18:00:00</td>\n",
       "      <td>12</td>\n",
       "      <td>NaN</td>\n",
       "      <td>18</td>\n",
       "      <td>2022</td>\n",
       "      <td>['hear', 'mighty', 'heartbeat', 'witness', '3d', 'play', 'theater', 'get', 'ticket']</td>\n",
       "      <td>LABEL_1</td>\n",
       "    </tr>\n",
       "    <tr>\n",
       "      <th>3</th>\n",
       "      <td>90</td>\n",
       "      <td>Disney</td>\n",
       "      <td>A new year is on the horizon and adventure and excitement are ahead! https://t.co/dND2nA3eIJ</td>\n",
       "      <td>10012728.0</td>\n",
       "      <td>108.0</td>\n",
       "      <td>21.0</td>\n",
       "      <td>10.0</td>\n",
       "      <td>en</td>\n",
       "      <td>258.0</td>\n",
       "      <td>1766.0</td>\n",
       "      <td>2022-12-30</td>\n",
       "      <td>afternoon</td>\n",
       "      <td>17:00:00</td>\n",
       "      <td>12</td>\n",
       "      <td>NaN</td>\n",
       "      <td>17</td>\n",
       "      <td>2022</td>\n",
       "      <td>['new', 'year', 'horizon', 'adventure', 'excitement', 'ahead']</td>\n",
       "      <td>LABEL_1</td>\n",
       "    </tr>\n",
       "    <tr>\n",
       "      <th>4</th>\n",
       "      <td>91</td>\n",
       "      <td>Disney</td>\n",
       "      <td>Take your next streaming adventure to a galaxy far, far away. 🌟 You can stream the entire first season of #Andor, only on @DisneyPlus. https://t.co/DXBwdPQWWf</td>\n",
       "      <td>10012728.0</td>\n",
       "      <td>108.0</td>\n",
       "      <td>9.0</td>\n",
       "      <td>3.0</td>\n",
       "      <td>en</td>\n",
       "      <td>30.0</td>\n",
       "      <td>311.0</td>\n",
       "      <td>2022-12-30</td>\n",
       "      <td>afternoon</td>\n",
       "      <td>16:00:00</td>\n",
       "      <td>12</td>\n",
       "      <td>DisneyPlus</td>\n",
       "      <td>16</td>\n",
       "      <td>2022</td>\n",
       "      <td>['take', 'next', 'stream', 'adventure', 'galaxy', 'far', 'far', 'away', 'stream', 'entire', 'first', 'season']</td>\n",
       "      <td>LABEL_1</td>\n",
       "    </tr>\n",
       "    <tr>\n",
       "      <th>...</th>\n",
       "      <td>...</td>\n",
       "      <td>...</td>\n",
       "      <td>...</td>\n",
       "      <td>...</td>\n",
       "      <td>...</td>\n",
       "      <td>...</td>\n",
       "      <td>...</td>\n",
       "      <td>...</td>\n",
       "      <td>...</td>\n",
       "      <td>...</td>\n",
       "      <td>...</td>\n",
       "      <td>...</td>\n",
       "      <td>...</td>\n",
       "      <td>...</td>\n",
       "      <td>...</td>\n",
       "      <td>...</td>\n",
       "      <td>...</td>\n",
       "      <td>...</td>\n",
       "      <td>...</td>\n",
       "    </tr>\n",
       "    <tr>\n",
       "      <th>151716</th>\n",
       "      <td>240811</td>\n",
       "      <td>Roku</td>\n",
       "      <td>@aPieceof_BDG So sorry to hear that! Anything we can do to help?</td>\n",
       "      <td>227234.0</td>\n",
       "      <td>1780.0</td>\n",
       "      <td>1.0</td>\n",
       "      <td>0.0</td>\n",
       "      <td>en</td>\n",
       "      <td>0.0</td>\n",
       "      <td>0.0</td>\n",
       "      <td>2015-01-02</td>\n",
       "      <td>afternoon</td>\n",
       "      <td>13:00:00</td>\n",
       "      <td>1</td>\n",
       "      <td>NaN</td>\n",
       "      <td>13</td>\n",
       "      <td>2015</td>\n",
       "      <td>['sorry', 'hear', 'anything', 'help']</td>\n",
       "      <td>LABEL_0</td>\n",
       "    </tr>\n",
       "    <tr>\n",
       "      <th>151717</th>\n",
       "      <td>240812</td>\n",
       "      <td>Roku</td>\n",
       "      <td>@AlexSummerfield You should get a response within 48 hours. Can you DM us the email address you used so we can check?</td>\n",
       "      <td>227234.0</td>\n",
       "      <td>1780.0</td>\n",
       "      <td>1.0</td>\n",
       "      <td>0.0</td>\n",
       "      <td>en</td>\n",
       "      <td>0.0</td>\n",
       "      <td>0.0</td>\n",
       "      <td>2015-01-02</td>\n",
       "      <td>afternoon</td>\n",
       "      <td>13:00:00</td>\n",
       "      <td>1</td>\n",
       "      <td>AlexSummerfield</td>\n",
       "      <td>13</td>\n",
       "      <td>2015</td>\n",
       "      <td>['get', 'response', 'within', 'hour', 'dm', 'u', 'email', 'address', 'use', 'check']</td>\n",
       "      <td>LABEL_1</td>\n",
       "    </tr>\n",
       "    <tr>\n",
       "      <th>151718</th>\n",
       "      <td>240813</td>\n",
       "      <td>Roku</td>\n",
       "      <td>#HappyNewYear, streamers! What's first on your 2015 watch list? http://t.co/Z4logqTtCO</td>\n",
       "      <td>227234.0</td>\n",
       "      <td>1780.0</td>\n",
       "      <td>6.0</td>\n",
       "      <td>0.0</td>\n",
       "      <td>en</td>\n",
       "      <td>4.0</td>\n",
       "      <td>14.0</td>\n",
       "      <td>2015-01-01</td>\n",
       "      <td>morning</td>\n",
       "      <td>12:00:00</td>\n",
       "      <td>1</td>\n",
       "      <td>NaN</td>\n",
       "      <td>12</td>\n",
       "      <td>2015</td>\n",
       "      <td>['streamer', 'first', 'watch', 'list']</td>\n",
       "      <td>LABEL_1</td>\n",
       "    </tr>\n",
       "    <tr>\n",
       "      <th>151719</th>\n",
       "      <td>240814</td>\n",
       "      <td>Roku</td>\n",
       "      <td>Frozen was the most searched for movie using Roku Search in 2014. What was your top movie pick of the year? http://t.co/rYBlJ2wi3a</td>\n",
       "      <td>227234.0</td>\n",
       "      <td>1780.0</td>\n",
       "      <td>6.0</td>\n",
       "      <td>0.0</td>\n",
       "      <td>en</td>\n",
       "      <td>4.0</td>\n",
       "      <td>3.0</td>\n",
       "      <td>2015-01-01</td>\n",
       "      <td>evening</td>\n",
       "      <td>21:00:00</td>\n",
       "      <td>1</td>\n",
       "      <td>NaN</td>\n",
       "      <td>21</td>\n",
       "      <td>2015</td>\n",
       "      <td>['frozen', 'search', 'movie', 'use', 'roku', 'search', 'top', 'movie', 'pick', 'year']</td>\n",
       "      <td>LABEL_1</td>\n",
       "    </tr>\n",
       "    <tr>\n",
       "      <th>151720</th>\n",
       "      <td>240815</td>\n",
       "      <td>Roku</td>\n",
       "      <td>@Lebron2Minny We are up and running. Are you having issues on the device or website?</td>\n",
       "      <td>227234.0</td>\n",
       "      <td>1780.0</td>\n",
       "      <td>0.0</td>\n",
       "      <td>0.0</td>\n",
       "      <td>en</td>\n",
       "      <td>0.0</td>\n",
       "      <td>0.0</td>\n",
       "      <td>2015-01-01</td>\n",
       "      <td>evening</td>\n",
       "      <td>20:00:00</td>\n",
       "      <td>1</td>\n",
       "      <td>NaN</td>\n",
       "      <td>20</td>\n",
       "      <td>2015</td>\n",
       "      <td>['run', 'issue', 'device', 'website']</td>\n",
       "      <td>LABEL_1</td>\n",
       "    </tr>\n",
       "  </tbody>\n",
       "</table>\n",
       "<p>151721 rows × 19 columns</p>\n",
       "</div>"
      ],
      "text/plain": [
       "        Unnamed: 0    user  \\\n",
       "0               87  Disney   \n",
       "1               88  Disney   \n",
       "2               89  Disney   \n",
       "3               90  Disney   \n",
       "4               91  Disney   \n",
       "...            ...     ...   \n",
       "151716      240811    Roku   \n",
       "151717      240812    Roku   \n",
       "151718      240813    Roku   \n",
       "151719      240814    Roku   \n",
       "151720      240815    Roku   \n",
       "\n",
       "                                                                                                                                                                        content  \\\n",
       "0                                                                   May your magic never fade, even after the clock strikes midnight. ✨ Happy New Year! https://t.co/TFen027NXf   \n",
       "1                                                                                    Remembering Disney Legend Barbara Walters: https://t.co/fBMScPht7v https://t.co/GOpO4ipdDd   \n",
       "2       You can hear the mighty heartbeat. 💙\\n \\nWitness #AvatarTheWayOfWater in 3D, now playing only in theaters. Get tickets: https://t.co/w7kYsHS8Ln https://t.co/U6CthX9Xhk   \n",
       "3                                                                                  A new year is on the horizon and adventure and excitement are ahead! https://t.co/dND2nA3eIJ   \n",
       "4                Take your next streaming adventure to a galaxy far, far away. 🌟 You can stream the entire first season of #Andor, only on @DisneyPlus. https://t.co/DXBwdPQWWf   \n",
       "...                                                                                                                                                                         ...   \n",
       "151716                                                                                                         @aPieceof_BDG So sorry to hear that! Anything we can do to help?   \n",
       "151717                                                    @AlexSummerfield You should get a response within 48 hours. Can you DM us the email address you used so we can check?   \n",
       "151718                                                                                   #HappyNewYear, streamers! What's first on your 2015 watch list? http://t.co/Z4logqTtCO   \n",
       "151719                                       Frozen was the most searched for movie using Roku Search in 2014. What was your top movie pick of the year? http://t.co/rYBlJ2wi3a   \n",
       "151720                                                                                     @Lebron2Minny We are up and running. Are you having issues on the device or website?   \n",
       "\n",
       "            follow  friend  reply  quote lan     rt    like        date  \\\n",
       "0       10012728.0   108.0   66.0   26.0  en  792.0  4255.0  2022-12-31   \n",
       "1       10012728.0   108.0   37.0    8.0  en  187.0  1869.0  2022-12-31   \n",
       "2       10012728.0   108.0   29.0    8.0  en   78.0   857.0  2022-12-30   \n",
       "3       10012728.0   108.0   21.0   10.0  en  258.0  1766.0  2022-12-30   \n",
       "4       10012728.0   108.0    9.0    3.0  en   30.0   311.0  2022-12-30   \n",
       "...            ...     ...    ...    ...  ..    ...     ...         ...   \n",
       "151716    227234.0  1780.0    1.0    0.0  en    0.0     0.0  2015-01-02   \n",
       "151717    227234.0  1780.0    1.0    0.0  en    0.0     0.0  2015-01-02   \n",
       "151718    227234.0  1780.0    6.0    0.0  en    4.0    14.0  2015-01-01   \n",
       "151719    227234.0  1780.0    6.0    0.0  en    4.0     3.0  2015-01-01   \n",
       "151720    227234.0  1780.0    0.0    0.0  en    0.0     0.0  2015-01-01   \n",
       "\n",
       "        partofday     times  month          mention  time  year  \\\n",
       "0       afternoon  14:00:00     12              NaN    14  2022   \n",
       "1         evening  23:00:00     12              NaN    23  2022   \n",
       "2       afternoon  18:00:00     12              NaN    18  2022   \n",
       "3       afternoon  17:00:00     12              NaN    17  2022   \n",
       "4       afternoon  16:00:00     12       DisneyPlus    16  2022   \n",
       "...           ...       ...    ...              ...   ...   ...   \n",
       "151716  afternoon  13:00:00      1              NaN    13  2015   \n",
       "151717  afternoon  13:00:00      1  AlexSummerfield    13  2015   \n",
       "151718    morning  12:00:00      1              NaN    12  2015   \n",
       "151719    evening  21:00:00      1              NaN    21  2015   \n",
       "151720    evening  20:00:00      1              NaN    20  2015   \n",
       "\n",
       "                                                                                                     content_sentiment  \\\n",
       "0                     ['may', 'magic', 'never', 'fade', 'even', 'clock', 'strike', 'midnight', 'happy', 'new', 'year']   \n",
       "1                                                                ['remember', 'disney', 'legend', 'barbara', 'walter']   \n",
       "2                                 ['hear', 'mighty', 'heartbeat', 'witness', '3d', 'play', 'theater', 'get', 'ticket']   \n",
       "3                                                       ['new', 'year', 'horizon', 'adventure', 'excitement', 'ahead']   \n",
       "4       ['take', 'next', 'stream', 'adventure', 'galaxy', 'far', 'far', 'away', 'stream', 'entire', 'first', 'season']   \n",
       "...                                                                                                                ...   \n",
       "151716                                                                           ['sorry', 'hear', 'anything', 'help']   \n",
       "151717                            ['get', 'response', 'within', 'hour', 'dm', 'u', 'email', 'address', 'use', 'check']   \n",
       "151718                                                                          ['streamer', 'first', 'watch', 'list']   \n",
       "151719                          ['frozen', 'search', 'movie', 'use', 'roku', 'search', 'top', 'movie', 'pick', 'year']   \n",
       "151720                                                                           ['run', 'issue', 'device', 'website']   \n",
       "\n",
       "       sentiment  \n",
       "0        LABEL_1  \n",
       "1        LABEL_1  \n",
       "2        LABEL_1  \n",
       "3        LABEL_1  \n",
       "4        LABEL_1  \n",
       "...          ...  \n",
       "151716   LABEL_0  \n",
       "151717   LABEL_1  \n",
       "151718   LABEL_1  \n",
       "151719   LABEL_1  \n",
       "151720   LABEL_1  \n",
       "\n",
       "[151721 rows x 19 columns]"
      ]
     },
     "execution_count": 100,
     "metadata": {},
     "output_type": "execute_result"
    }
   ],
   "source": [
    "df7_sent"
   ]
  },
  {
   "cell_type": "code",
   "execution_count": 101,
   "metadata": {},
   "outputs": [],
   "source": [
    "df7_final=df7_sent.copy()"
   ]
  },
  {
   "cell_type": "code",
   "execution_count": 102,
   "metadata": {},
   "outputs": [],
   "source": [
    "#for a faster processing where all CPU cores are used\n",
    "from functools import partial\n",
    "from itertools import repeat\n",
    "from multiprocessing import Pool, freeze_support\n",
    "from sklearn.metrics import classification_report\n",
    "from sklearn.model_selection import train_test_split"
   ]
  },
  {
   "cell_type": "code",
   "execution_count": 103,
   "metadata": {},
   "outputs": [],
   "source": [
    "# Sample data\n",
    "#data = {'content': ['#asd #as @john is a great person @jane', '#asd @jim is awesome #ssa', '#sss @asd #hello']}\n",
    "#df_ex = pd.DataFrame(data)\n",
    "\n",
    "\n",
    "# hashtag and mention places\n",
    "def count_mentions_hashtags(text):\n",
    "    # Splitting the text into three sections: first, middle, and last\n",
    "    text_length = len(text)\n",
    "    section_length = text_length // 3\n",
    "    first_section = text[:int(section_length)]\n",
    "    middle_section = text[int(section_length):int(section_length*2)]\n",
    "    last_section = text[int(section_length*2):]\n",
    "    \n",
    "    # Count mentions in each section\n",
    "    mention_beginning = len(re.findall(r'@\\w{2,}', first_section))\n",
    "    mention_middle = len(re.findall(r'@\\w{2,}', middle_section))\n",
    "    mention_last = len(re.findall(r'@\\w{2,}', last_section))\n",
    "    \n",
    "    # Count hashtags in each section\n",
    "    hashtag_beginning = len(re.findall(r'#\\w{2,}', first_section))\n",
    "    hashtag_middle = len(re.findall(r'#\\w{2,}', middle_section))\n",
    "    hashtag_last = len(re.findall(r'#\\w{2,}', last_section))\n",
    "    \n",
    "    return mention_beginning, mention_middle, mention_last, hashtag_beginning, hashtag_middle, hashtag_last\n",
    "\n",
    "# Apply the function to create new columns\n",
    "df7_final[['mention_beginning', 'mention_middle', 'mention_last',\n",
    "    'hashtag_beginning', 'hashtag_middle', 'hashtag_last']] = df7_final['content'].apply(count_mentions_hashtags).apply(pd.Series)"
   ]
  },
  {
   "cell_type": "code",
   "execution_count": 104,
   "metadata": {},
   "outputs": [],
   "source": [
    "#Misused hashtag count\n",
    "def count_misused_hashtags(text):\n",
    "    misused_count = 0\n",
    "    words = text.split()\n",
    "    for word in words:\n",
    "        if word.startswith('#'):\n",
    "            if len(word) <= 3 or (word[1:].startswith('#')):\n",
    "                misused_count += 1\n",
    "    return misused_count\n",
    "\n",
    "# valid hashtag count\n",
    "def count_valid_hashtags(text):\n",
    "    valid_count = 0\n",
    "    words = text.split()\n",
    "    for word in words:\n",
    "        if word.startswith('#'):\n",
    "            hashtag = word[1:]  # Remove the '#' symbol from the word\n",
    "            if len(hashtag) > 3 and hashtag[0].isalnum():\n",
    "                valid_count += 1\n",
    "    return valid_count\n",
    "\n",
    "# valid mention count\n",
    "def count_valid_mentions(text):\n",
    "    valid_count = 0\n",
    "    words = text.split()\n",
    "    for word in words:\n",
    "        if word.startswith('@'):\n",
    "            mention = word[1:]  # Remove the '@' symbol from the word\n",
    "            if len(mention) > 1 and (mention[0].isalnum() or mention[0] == '_' or mention[0] == '-'):\n",
    "                valid_count += 1\n",
    "    return valid_count\n",
    "\n",
    "\n",
    "\n",
    "# word count, character count, url count\n",
    "def preprocess_text(text):\n",
    "    urls = re.findall(r'(https?://\\S+)', text)\n",
    "    for url in urls:\n",
    "        text = text.replace(url, 'URL_PLACEHOLDER')\n",
    "    return text\n",
    "# Function to count URLs in a text\n",
    "def count_urls(text):\n",
    "    urls = re.findall(r'(https?://\\S+)', text)\n",
    "    return len(urls)\n",
    "\n",
    "\n",
    "\n",
    "# Function to calculate the capitalization ratio\n",
    "def calculate_capitalization_ratio(text):\n",
    "    words = text.split()\n",
    "    capitalized_words = [word for word in words if word[0].isupper()]\n",
    "    return len(capitalized_words) / len(words)\n",
    "# Function to count exclamation marks\n",
    "def count_exclamation_marks(text):\n",
    "    return text.count('!')\n",
    "# Function to count question marks\n",
    "def count_question_marks(text):\n",
    "    return text.count('?')\n",
    "# Function to count emojis\n",
    "def count_emojis(text):\n",
    "    emojis = [c for c in text if c in emoji.EMOJI_DATA]\n",
    "    return len(emojis)\n",
    "\n",
    "\n",
    "\n",
    "# Function to calculate the average word length\n",
    "def calculate_average_word_length(text):\n",
    "    words = nltk.word_tokenize(text)\n",
    "    word_lengths = [len(word) for word in words]\n",
    "    return sum(word_lengths) / len(word_lengths)\n",
    "# Function to count punctuation marks\n",
    "def count_punctuation_marks(text):\n",
    "    punctuation_count = 0\n",
    "    for char in text:\n",
    "        if char in string.punctuation:\n",
    "            punctuation_count += 1\n",
    "    return punctuation_count\n",
    "# Function to count stopwords\n",
    "stopwords_set = set(stopwords.words('english'))\n",
    "def count_stopwords(text):\n",
    "    words = nltk.word_tokenize(text)\n",
    "    stopwords_count = sum(1 for word in words if word.lower() in stopwords_set)\n",
    "    return stopwords_count"
   ]
  },
  {
   "cell_type": "code",
   "execution_count": 105,
   "metadata": {},
   "outputs": [],
   "source": [
    "# hashtag count, mention count\n",
    "df7_final['hashtag_count'] = df7_final['content'].apply(count_valid_hashtags)\n",
    "df7_final[\"mention_count\"] = df7_final['content'].apply(count_valid_mentions)\n",
    "\n",
    "# word count, character count, and URL count\n",
    "df7_final['preprocessed_content'] = df7_final['content'].apply(preprocess_text)\n",
    "df7_final['word_count'] = df7_final['preprocessed_content'].apply(lambda x: len(nltk.word_tokenize(x)))\n",
    "df7_final['character_count'] = df7_final['content'].apply(lambda x: len(x))\n",
    "df7_final['url_count'] = df7_final['content'].apply(count_urls)\n",
    "\n",
    "\n",
    "# capitalization ratio, exclamation mark count, question mark count, and emoji count\n",
    "df7_final['capitalization_ratio'] = df7_final['content'].apply(calculate_capitalization_ratio)\n",
    "df7_final['exclamation_mark_count'] = df7_final['content'].apply(count_exclamation_marks)\n",
    "df7_final['question_mark_count'] = df7_final['content'].apply(count_question_marks)\n",
    "df7_final['emoji_count'] = df7_final['content'].apply(count_emojis)\n",
    "\n",
    "#Average word length, punctiation count, stopword count\n",
    "df7_final['average_word_length'] = df7_final['content'].apply(calculate_average_word_length)\n",
    "df7_final['punctuation_count'] = df7_final['content'].apply(count_punctuation_marks)\n",
    "df7_final['stopword_count'] = df7_final['content'].apply(count_stopwords)\n",
    "\n",
    "#nltklibrary is used for tokenization and counting stopwords, and stopwords within English corpus are used"
   ]
  },
  {
   "cell_type": "code",
   "execution_count": 90,
   "metadata": {},
   "outputs": [],
   "source": [
    "#Binary Classification\n",
    "df7_final.loc[df7_final['rt'] == 0, 'rt_binary'] = 0\n",
    "df7_final.loc[df7_final['rt'] != 0, 'rt_binary'] = 1"
   ]
  },
  {
   "cell_type": "code",
   "execution_count": 91,
   "metadata": {},
   "outputs": [],
   "source": [
    "df7_final.loc[(df7_final['rt'] == 0)                          , 'rt_multi'] = '0'\n",
    "df7_final.loc[(df7_final['rt'] > 0)     &(df7_final['rt'] <= 100)   , 'rt_multi'] = '1-100'\n",
    "df7_final.loc[(df7_final['rt'] > 100)   &(df7_final['rt'] <= 1000)  , 'rt_multi'] = '100-1000'\n",
    "df7_final.loc[(df7_final['rt'] > 1000)  &(df7_final['rt'] <= 10000) , 'rt_multi'] = '1000-10000'\n",
    "df7_final.loc[(df7_final['rt'] > 10000), 'rt_multi'] = '10000 - more'"
   ]
  },
  {
   "cell_type": "code",
   "execution_count": 92,
   "metadata": {},
   "outputs": [],
   "source": [
    "drop_columns=[\"Unnamed: 0\",\"reply\",\"quote\",\"lan\",\"rt\",\"like\",\"date\",\"times\",\"mention\",\"year\",\"content_sentiment\",\"preprocessed_content\"]"
   ]
  },
  {
   "cell_type": "code",
   "execution_count": 93,
   "metadata": {},
   "outputs": [],
   "source": [
    "df7_final.drop(columns=drop_columns,inplace=True)"
   ]
  },
  {
   "cell_type": "code",
   "execution_count": 94,
   "metadata": {},
   "outputs": [],
   "source": [
    "#Change name of the labels to neutral, positive and negative\n",
    "sentimentmap={\"LABEL_1\":\"neutral\",\"LABEL_2\":\"positive\",\"LABEL_0\":\"negative\"}\n",
    "df7_final.sentiment=df7_final.sentiment.map(sentimentmap)"
   ]
  },
  {
   "cell_type": "code",
   "execution_count": 107,
   "metadata": {},
   "outputs": [],
   "source": [
    "#One hot encoding for df7_final\n",
    "one_hot_encoded1=pd.get_dummies(df7_final[\"partofday\"],prefix=\"partofday\")\n",
    "one_hot_encoded2=pd.get_dummies(df7_final[\"sentiment\"],prefix=\"sentiment\")\n",
    "df7_final=pd.concat([df7_final,one_hot_encoded1,one_hot_encoded2],axis=1)\n",
    "df7_final.drop(columns=[\"sentiment\",\"partofday\"],inplace=True)"
   ]
  },
  {
   "cell_type": "code",
   "execution_count": 109,
   "metadata": {},
   "outputs": [
    {
     "data": {
      "text/html": [
       "<div>\n",
       "<style scoped>\n",
       "    .dataframe tbody tr th:only-of-type {\n",
       "        vertical-align: middle;\n",
       "    }\n",
       "\n",
       "    .dataframe tbody tr th {\n",
       "        vertical-align: top;\n",
       "    }\n",
       "\n",
       "    .dataframe thead th {\n",
       "        text-align: right;\n",
       "    }\n",
       "</style>\n",
       "<table border=\"1\" class=\"dataframe\">\n",
       "  <thead>\n",
       "    <tr style=\"text-align: right;\">\n",
       "      <th></th>\n",
       "      <th>Unnamed: 0</th>\n",
       "      <th>user</th>\n",
       "      <th>content</th>\n",
       "      <th>follow</th>\n",
       "      <th>friend</th>\n",
       "      <th>reply</th>\n",
       "      <th>quote</th>\n",
       "      <th>lan</th>\n",
       "      <th>rt</th>\n",
       "      <th>like</th>\n",
       "      <th>...</th>\n",
       "      <th>average_word_length</th>\n",
       "      <th>punctuation_count</th>\n",
       "      <th>stopword_count</th>\n",
       "      <th>partofday_afternoon</th>\n",
       "      <th>partofday_evening</th>\n",
       "      <th>partofday_latenight</th>\n",
       "      <th>partofday_morning</th>\n",
       "      <th>sentiment_LABEL_0</th>\n",
       "      <th>sentiment_LABEL_1</th>\n",
       "      <th>sentiment_LABEL_2</th>\n",
       "    </tr>\n",
       "  </thead>\n",
       "  <tbody>\n",
       "    <tr>\n",
       "      <th>0</th>\n",
       "      <td>87</td>\n",
       "      <td>Disney</td>\n",
       "      <td>May your magic never fade, even after the clock strikes midnight. ✨ Happy New Year! https://t.co/TFen027NXf</td>\n",
       "      <td>10012728.0</td>\n",
       "      <td>108.0</td>\n",
       "      <td>66.0</td>\n",
       "      <td>26.0</td>\n",
       "      <td>en</td>\n",
       "      <td>792.0</td>\n",
       "      <td>4255.0</td>\n",
       "      <td>...</td>\n",
       "      <td>4.380952</td>\n",
       "      <td>8</td>\n",
       "      <td>3</td>\n",
       "      <td>1</td>\n",
       "      <td>0</td>\n",
       "      <td>0</td>\n",
       "      <td>0</td>\n",
       "      <td>0</td>\n",
       "      <td>1</td>\n",
       "      <td>0</td>\n",
       "    </tr>\n",
       "    <tr>\n",
       "      <th>1</th>\n",
       "      <td>88</td>\n",
       "      <td>Disney</td>\n",
       "      <td>Remembering Disney Legend Barbara Walters: https://t.co/fBMScPht7v https://t.co/GOpO4ipdDd</td>\n",
       "      <td>10012728.0</td>\n",
       "      <td>108.0</td>\n",
       "      <td>37.0</td>\n",
       "      <td>8.0</td>\n",
       "      <td>en</td>\n",
       "      <td>187.0</td>\n",
       "      <td>1869.0</td>\n",
       "      <td>...</td>\n",
       "      <td>7.000000</td>\n",
       "      <td>11</td>\n",
       "      <td>0</td>\n",
       "      <td>0</td>\n",
       "      <td>1</td>\n",
       "      <td>0</td>\n",
       "      <td>0</td>\n",
       "      <td>0</td>\n",
       "      <td>1</td>\n",
       "      <td>0</td>\n",
       "    </tr>\n",
       "    <tr>\n",
       "      <th>2</th>\n",
       "      <td>89</td>\n",
       "      <td>Disney</td>\n",
       "      <td>You can hear the mighty heartbeat. 💙\\n \\nWitness #AvatarTheWayOfWater in 3D, now playing only in theaters. Get tickets: https://t.co/w7kYsHS8Ln https://t.co/U6CthX9Xhk</td>\n",
       "      <td>10012728.0</td>\n",
       "      <td>108.0</td>\n",
       "      <td>29.0</td>\n",
       "      <td>8.0</td>\n",
       "      <td>en</td>\n",
       "      <td>78.0</td>\n",
       "      <td>857.0</td>\n",
       "      <td>...</td>\n",
       "      <td>4.965517</td>\n",
       "      <td>15</td>\n",
       "      <td>7</td>\n",
       "      <td>1</td>\n",
       "      <td>0</td>\n",
       "      <td>0</td>\n",
       "      <td>0</td>\n",
       "      <td>0</td>\n",
       "      <td>1</td>\n",
       "      <td>0</td>\n",
       "    </tr>\n",
       "    <tr>\n",
       "      <th>3</th>\n",
       "      <td>90</td>\n",
       "      <td>Disney</td>\n",
       "      <td>A new year is on the horizon and adventure and excitement are ahead! https://t.co/dND2nA3eIJ</td>\n",
       "      <td>10012728.0</td>\n",
       "      <td>108.0</td>\n",
       "      <td>21.0</td>\n",
       "      <td>10.0</td>\n",
       "      <td>en</td>\n",
       "      <td>258.0</td>\n",
       "      <td>1766.0</td>\n",
       "      <td>...</td>\n",
       "      <td>4.647059</td>\n",
       "      <td>6</td>\n",
       "      <td>7</td>\n",
       "      <td>1</td>\n",
       "      <td>0</td>\n",
       "      <td>0</td>\n",
       "      <td>0</td>\n",
       "      <td>0</td>\n",
       "      <td>1</td>\n",
       "      <td>0</td>\n",
       "    </tr>\n",
       "    <tr>\n",
       "      <th>4</th>\n",
       "      <td>91</td>\n",
       "      <td>Disney</td>\n",
       "      <td>Take your next streaming adventure to a galaxy far, far away. 🌟 You can stream the entire first season of #Andor, only on @DisneyPlus. https://t.co/DXBwdPQWWf</td>\n",
       "      <td>10012728.0</td>\n",
       "      <td>108.0</td>\n",
       "      <td>9.0</td>\n",
       "      <td>3.0</td>\n",
       "      <td>en</td>\n",
       "      <td>30.0</td>\n",
       "      <td>311.0</td>\n",
       "      <td>...</td>\n",
       "      <td>4.060606</td>\n",
       "      <td>11</td>\n",
       "      <td>9</td>\n",
       "      <td>1</td>\n",
       "      <td>0</td>\n",
       "      <td>0</td>\n",
       "      <td>0</td>\n",
       "      <td>0</td>\n",
       "      <td>1</td>\n",
       "      <td>0</td>\n",
       "    </tr>\n",
       "    <tr>\n",
       "      <th>...</th>\n",
       "      <td>...</td>\n",
       "      <td>...</td>\n",
       "      <td>...</td>\n",
       "      <td>...</td>\n",
       "      <td>...</td>\n",
       "      <td>...</td>\n",
       "      <td>...</td>\n",
       "      <td>...</td>\n",
       "      <td>...</td>\n",
       "      <td>...</td>\n",
       "      <td>...</td>\n",
       "      <td>...</td>\n",
       "      <td>...</td>\n",
       "      <td>...</td>\n",
       "      <td>...</td>\n",
       "      <td>...</td>\n",
       "      <td>...</td>\n",
       "      <td>...</td>\n",
       "      <td>...</td>\n",
       "      <td>...</td>\n",
       "      <td>...</td>\n",
       "    </tr>\n",
       "    <tr>\n",
       "      <th>151716</th>\n",
       "      <td>240811</td>\n",
       "      <td>Roku</td>\n",
       "      <td>@aPieceof_BDG So sorry to hear that! Anything we can do to help?</td>\n",
       "      <td>227234.0</td>\n",
       "      <td>1780.0</td>\n",
       "      <td>1.0</td>\n",
       "      <td>0.0</td>\n",
       "      <td>en</td>\n",
       "      <td>0.0</td>\n",
       "      <td>0.0</td>\n",
       "      <td>...</td>\n",
       "      <td>3.533333</td>\n",
       "      <td>4</td>\n",
       "      <td>7</td>\n",
       "      <td>1</td>\n",
       "      <td>0</td>\n",
       "      <td>0</td>\n",
       "      <td>0</td>\n",
       "      <td>1</td>\n",
       "      <td>0</td>\n",
       "      <td>0</td>\n",
       "    </tr>\n",
       "    <tr>\n",
       "      <th>151717</th>\n",
       "      <td>240812</td>\n",
       "      <td>Roku</td>\n",
       "      <td>@AlexSummerfield You should get a response within 48 hours. Can you DM us the email address you used so we can check?</td>\n",
       "      <td>227234.0</td>\n",
       "      <td>1780.0</td>\n",
       "      <td>1.0</td>\n",
       "      <td>0.0</td>\n",
       "      <td>en</td>\n",
       "      <td>0.0</td>\n",
       "      <td>0.0</td>\n",
       "      <td>...</td>\n",
       "      <td>3.840000</td>\n",
       "      <td>3</td>\n",
       "      <td>10</td>\n",
       "      <td>1</td>\n",
       "      <td>0</td>\n",
       "      <td>0</td>\n",
       "      <td>0</td>\n",
       "      <td>0</td>\n",
       "      <td>1</td>\n",
       "      <td>0</td>\n",
       "    </tr>\n",
       "    <tr>\n",
       "      <th>151718</th>\n",
       "      <td>240813</td>\n",
       "      <td>Roku</td>\n",
       "      <td>#HappyNewYear, streamers! What's first on your 2015 watch list? http://t.co/Z4logqTtCO</td>\n",
       "      <td>227234.0</td>\n",
       "      <td>1780.0</td>\n",
       "      <td>6.0</td>\n",
       "      <td>0.0</td>\n",
       "      <td>en</td>\n",
       "      <td>4.0</td>\n",
       "      <td>14.0</td>\n",
       "      <td>...</td>\n",
       "      <td>4.529412</td>\n",
       "      <td>10</td>\n",
       "      <td>3</td>\n",
       "      <td>0</td>\n",
       "      <td>0</td>\n",
       "      <td>0</td>\n",
       "      <td>1</td>\n",
       "      <td>0</td>\n",
       "      <td>1</td>\n",
       "      <td>0</td>\n",
       "    </tr>\n",
       "    <tr>\n",
       "      <th>151719</th>\n",
       "      <td>240814</td>\n",
       "      <td>Roku</td>\n",
       "      <td>Frozen was the most searched for movie using Roku Search in 2014. What was your top movie pick of the year? http://t.co/rYBlJ2wi3a</td>\n",
       "      <td>227234.0</td>\n",
       "      <td>1780.0</td>\n",
       "      <td>6.0</td>\n",
       "      <td>0.0</td>\n",
       "      <td>en</td>\n",
       "      <td>4.0</td>\n",
       "      <td>3.0</td>\n",
       "      <td>...</td>\n",
       "      <td>4.192308</td>\n",
       "      <td>7</td>\n",
       "      <td>10</td>\n",
       "      <td>0</td>\n",
       "      <td>1</td>\n",
       "      <td>0</td>\n",
       "      <td>0</td>\n",
       "      <td>0</td>\n",
       "      <td>1</td>\n",
       "      <td>0</td>\n",
       "    </tr>\n",
       "    <tr>\n",
       "      <th>151720</th>\n",
       "      <td>240815</td>\n",
       "      <td>Roku</td>\n",
       "      <td>@Lebron2Minny We are up and running. Are you having issues on the device or website?</td>\n",
       "      <td>227234.0</td>\n",
       "      <td>1780.0</td>\n",
       "      <td>0.0</td>\n",
       "      <td>0.0</td>\n",
       "      <td>en</td>\n",
       "      <td>0.0</td>\n",
       "      <td>0.0</td>\n",
       "      <td>...</td>\n",
       "      <td>3.888889</td>\n",
       "      <td>3</td>\n",
       "      <td>10</td>\n",
       "      <td>0</td>\n",
       "      <td>1</td>\n",
       "      <td>0</td>\n",
       "      <td>0</td>\n",
       "      <td>0</td>\n",
       "      <td>1</td>\n",
       "      <td>0</td>\n",
       "    </tr>\n",
       "  </tbody>\n",
       "</table>\n",
       "<p>151721 rows × 43 columns</p>\n",
       "</div>"
      ],
      "text/plain": [
       "        Unnamed: 0    user  \\\n",
       "0               87  Disney   \n",
       "1               88  Disney   \n",
       "2               89  Disney   \n",
       "3               90  Disney   \n",
       "4               91  Disney   \n",
       "...            ...     ...   \n",
       "151716      240811    Roku   \n",
       "151717      240812    Roku   \n",
       "151718      240813    Roku   \n",
       "151719      240814    Roku   \n",
       "151720      240815    Roku   \n",
       "\n",
       "                                                                                                                                                                        content  \\\n",
       "0                                                                   May your magic never fade, even after the clock strikes midnight. ✨ Happy New Year! https://t.co/TFen027NXf   \n",
       "1                                                                                    Remembering Disney Legend Barbara Walters: https://t.co/fBMScPht7v https://t.co/GOpO4ipdDd   \n",
       "2       You can hear the mighty heartbeat. 💙\\n \\nWitness #AvatarTheWayOfWater in 3D, now playing only in theaters. Get tickets: https://t.co/w7kYsHS8Ln https://t.co/U6CthX9Xhk   \n",
       "3                                                                                  A new year is on the horizon and adventure and excitement are ahead! https://t.co/dND2nA3eIJ   \n",
       "4                Take your next streaming adventure to a galaxy far, far away. 🌟 You can stream the entire first season of #Andor, only on @DisneyPlus. https://t.co/DXBwdPQWWf   \n",
       "...                                                                                                                                                                         ...   \n",
       "151716                                                                                                         @aPieceof_BDG So sorry to hear that! Anything we can do to help?   \n",
       "151717                                                    @AlexSummerfield You should get a response within 48 hours. Can you DM us the email address you used so we can check?   \n",
       "151718                                                                                   #HappyNewYear, streamers! What's first on your 2015 watch list? http://t.co/Z4logqTtCO   \n",
       "151719                                       Frozen was the most searched for movie using Roku Search in 2014. What was your top movie pick of the year? http://t.co/rYBlJ2wi3a   \n",
       "151720                                                                                     @Lebron2Minny We are up and running. Are you having issues on the device or website?   \n",
       "\n",
       "            follow  friend  reply  quote lan     rt    like  ...  \\\n",
       "0       10012728.0   108.0   66.0   26.0  en  792.0  4255.0  ...   \n",
       "1       10012728.0   108.0   37.0    8.0  en  187.0  1869.0  ...   \n",
       "2       10012728.0   108.0   29.0    8.0  en   78.0   857.0  ...   \n",
       "3       10012728.0   108.0   21.0   10.0  en  258.0  1766.0  ...   \n",
       "4       10012728.0   108.0    9.0    3.0  en   30.0   311.0  ...   \n",
       "...            ...     ...    ...    ...  ..    ...     ...  ...   \n",
       "151716    227234.0  1780.0    1.0    0.0  en    0.0     0.0  ...   \n",
       "151717    227234.0  1780.0    1.0    0.0  en    0.0     0.0  ...   \n",
       "151718    227234.0  1780.0    6.0    0.0  en    4.0    14.0  ...   \n",
       "151719    227234.0  1780.0    6.0    0.0  en    4.0     3.0  ...   \n",
       "151720    227234.0  1780.0    0.0    0.0  en    0.0     0.0  ...   \n",
       "\n",
       "       average_word_length punctuation_count  stopword_count  \\\n",
       "0                 4.380952                 8               3   \n",
       "1                 7.000000                11               0   \n",
       "2                 4.965517                15               7   \n",
       "3                 4.647059                 6               7   \n",
       "4                 4.060606                11               9   \n",
       "...                    ...               ...             ...   \n",
       "151716            3.533333                 4               7   \n",
       "151717            3.840000                 3              10   \n",
       "151718            4.529412                10               3   \n",
       "151719            4.192308                 7              10   \n",
       "151720            3.888889                 3              10   \n",
       "\n",
       "       partofday_afternoon  partofday_evening  partofday_latenight  \\\n",
       "0                        1                  0                    0   \n",
       "1                        0                  1                    0   \n",
       "2                        1                  0                    0   \n",
       "3                        1                  0                    0   \n",
       "4                        1                  0                    0   \n",
       "...                    ...                ...                  ...   \n",
       "151716                   1                  0                    0   \n",
       "151717                   1                  0                    0   \n",
       "151718                   0                  0                    0   \n",
       "151719                   0                  1                    0   \n",
       "151720                   0                  1                    0   \n",
       "\n",
       "       partofday_morning  sentiment_LABEL_0  sentiment_LABEL_1  \\\n",
       "0                      0                  0                  1   \n",
       "1                      0                  0                  1   \n",
       "2                      0                  0                  1   \n",
       "3                      0                  0                  1   \n",
       "4                      0                  0                  1   \n",
       "...                  ...                ...                ...   \n",
       "151716                 0                  1                  0   \n",
       "151717                 0                  0                  1   \n",
       "151718                 1                  0                  1   \n",
       "151719                 0                  0                  1   \n",
       "151720                 0                  0                  1   \n",
       "\n",
       "        sentiment_LABEL_2  \n",
       "0                       0  \n",
       "1                       0  \n",
       "2                       0  \n",
       "3                       0  \n",
       "4                       0  \n",
       "...                   ...  \n",
       "151716                  0  \n",
       "151717                  0  \n",
       "151718                  0  \n",
       "151719                  0  \n",
       "151720                  0  \n",
       "\n",
       "[151721 rows x 43 columns]"
      ]
     },
     "execution_count": 109,
     "metadata": {},
     "output_type": "execute_result"
    }
   ],
   "source": [
    "df7_final"
   ]
  },
  {
   "cell_type": "code",
   "execution_count": 110,
   "metadata": {},
   "outputs": [],
   "source": [
    "df7_final.to_csv(\"df7_sent2.csv\")"
   ]
  }
 ],
 "metadata": {
  "colab": {
   "collapsed_sections": [
    "aT_V9Bd9nW1v",
    "iJnukESK7sdA",
    "TpXCiIrgtvz_",
    "APBejbx81dPY"
   ],
   "provenance": [],
   "toc_visible": true
  },
  "kernelspec": {
   "display_name": "Python 3 (ipykernel)",
   "language": "python",
   "name": "python3"
  },
  "language_info": {
   "codemirror_mode": {
    "name": "ipython",
    "version": 3
   },
   "file_extension": ".py",
   "mimetype": "text/x-python",
   "name": "python",
   "nbconvert_exporter": "python",
   "pygments_lexer": "ipython3",
   "version": "3.9.13"
  },
  "toc-autonumbering": true,
  "toc-showcode": false,
  "toc-showmarkdowntxt": false,
  "toc-showtags": false,
  "widgets": {
   "application/vnd.jupyter.widget-state+json": {
    "0b404fa9b8f9488bb452a7b3dd68450b": {
     "model_module": "@jupyter-widgets/base",
     "model_module_version": "1.2.0",
     "model_name": "LayoutModel",
     "state": {
      "_model_module": "@jupyter-widgets/base",
      "_model_module_version": "1.2.0",
      "_model_name": "LayoutModel",
      "_view_count": null,
      "_view_module": "@jupyter-widgets/base",
      "_view_module_version": "1.2.0",
      "_view_name": "LayoutView",
      "align_content": null,
      "align_items": null,
      "align_self": null,
      "border": null,
      "bottom": null,
      "display": null,
      "flex": null,
      "flex_flow": null,
      "grid_area": null,
      "grid_auto_columns": null,
      "grid_auto_flow": null,
      "grid_auto_rows": null,
      "grid_column": null,
      "grid_gap": null,
      "grid_row": null,
      "grid_template_areas": null,
      "grid_template_columns": null,
      "grid_template_rows": null,
      "height": null,
      "justify_content": null,
      "justify_items": null,
      "left": null,
      "margin": null,
      "max_height": null,
      "max_width": null,
      "min_height": null,
      "min_width": null,
      "object_fit": null,
      "object_position": null,
      "order": null,
      "overflow": null,
      "overflow_x": null,
      "overflow_y": null,
      "padding": null,
      "right": null,
      "top": null,
      "visibility": null,
      "width": null
     }
    },
    "11f0680716f344a1b8df63812e23d2b5": {
     "model_module": "@jupyter-widgets/base",
     "model_module_version": "1.2.0",
     "model_name": "LayoutModel",
     "state": {
      "_model_module": "@jupyter-widgets/base",
      "_model_module_version": "1.2.0",
      "_model_name": "LayoutModel",
      "_view_count": null,
      "_view_module": "@jupyter-widgets/base",
      "_view_module_version": "1.2.0",
      "_view_name": "LayoutView",
      "align_content": null,
      "align_items": null,
      "align_self": null,
      "border": null,
      "bottom": null,
      "display": null,
      "flex": null,
      "flex_flow": null,
      "grid_area": null,
      "grid_auto_columns": null,
      "grid_auto_flow": null,
      "grid_auto_rows": null,
      "grid_column": null,
      "grid_gap": null,
      "grid_row": null,
      "grid_template_areas": null,
      "grid_template_columns": null,
      "grid_template_rows": null,
      "height": null,
      "justify_content": null,
      "justify_items": null,
      "left": null,
      "margin": null,
      "max_height": null,
      "max_width": null,
      "min_height": null,
      "min_width": null,
      "object_fit": null,
      "object_position": null,
      "order": null,
      "overflow": null,
      "overflow_x": null,
      "overflow_y": null,
      "padding": null,
      "right": null,
      "top": null,
      "visibility": null,
      "width": null
     }
    },
    "14143836cf4647349e1dd9999725dc4d": {
     "model_module": "@jupyter-widgets/base",
     "model_module_version": "1.2.0",
     "model_name": "LayoutModel",
     "state": {
      "_model_module": "@jupyter-widgets/base",
      "_model_module_version": "1.2.0",
      "_model_name": "LayoutModel",
      "_view_count": null,
      "_view_module": "@jupyter-widgets/base",
      "_view_module_version": "1.2.0",
      "_view_name": "LayoutView",
      "align_content": null,
      "align_items": null,
      "align_self": null,
      "border": null,
      "bottom": null,
      "display": null,
      "flex": null,
      "flex_flow": null,
      "grid_area": null,
      "grid_auto_columns": null,
      "grid_auto_flow": null,
      "grid_auto_rows": null,
      "grid_column": null,
      "grid_gap": null,
      "grid_row": null,
      "grid_template_areas": null,
      "grid_template_columns": null,
      "grid_template_rows": null,
      "height": null,
      "justify_content": null,
      "justify_items": null,
      "left": null,
      "margin": null,
      "max_height": null,
      "max_width": null,
      "min_height": null,
      "min_width": null,
      "object_fit": null,
      "object_position": null,
      "order": null,
      "overflow": null,
      "overflow_x": null,
      "overflow_y": null,
      "padding": null,
      "right": null,
      "top": null,
      "visibility": null,
      "width": null
     }
    },
    "182dafc0193340d2ac8bd1891c78b33e": {
     "model_module": "@jupyter-widgets/controls",
     "model_module_version": "1.5.0",
     "model_name": "FloatProgressModel",
     "state": {
      "_dom_classes": [],
      "_model_module": "@jupyter-widgets/controls",
      "_model_module_version": "1.5.0",
      "_model_name": "FloatProgressModel",
      "_view_count": null,
      "_view_module": "@jupyter-widgets/controls",
      "_view_module_version": "1.5.0",
      "_view_name": "ProgressView",
      "bar_style": "success",
      "description": "",
      "description_tooltip": null,
      "layout": "IPY_MODEL_2fee6ae8d87a48e99a244cb4efb4c978",
      "max": 747,
      "min": 0,
      "orientation": "horizontal",
      "style": "IPY_MODEL_5f27138f8c0a4f5eb92519f4ef8b0fd9",
      "value": 747
     }
    },
    "2281e60b0b114808942ab8163ad2abab": {
     "model_module": "@jupyter-widgets/base",
     "model_module_version": "1.2.0",
     "model_name": "LayoutModel",
     "state": {
      "_model_module": "@jupyter-widgets/base",
      "_model_module_version": "1.2.0",
      "_model_name": "LayoutModel",
      "_view_count": null,
      "_view_module": "@jupyter-widgets/base",
      "_view_module_version": "1.2.0",
      "_view_name": "LayoutView",
      "align_content": null,
      "align_items": null,
      "align_self": null,
      "border": null,
      "bottom": null,
      "display": null,
      "flex": null,
      "flex_flow": null,
      "grid_area": null,
      "grid_auto_columns": null,
      "grid_auto_flow": null,
      "grid_auto_rows": null,
      "grid_column": null,
      "grid_gap": null,
      "grid_row": null,
      "grid_template_areas": null,
      "grid_template_columns": null,
      "grid_template_rows": null,
      "height": null,
      "justify_content": null,
      "justify_items": null,
      "left": null,
      "margin": null,
      "max_height": null,
      "max_width": null,
      "min_height": null,
      "min_width": null,
      "object_fit": null,
      "object_position": null,
      "order": null,
      "overflow": null,
      "overflow_x": null,
      "overflow_y": null,
      "padding": null,
      "right": null,
      "top": null,
      "visibility": null,
      "width": null
     }
    },
    "23825672a83340539525ad889b81c8d2": {
     "model_module": "@jupyter-widgets/controls",
     "model_module_version": "1.5.0",
     "model_name": "ProgressStyleModel",
     "state": {
      "_model_module": "@jupyter-widgets/controls",
      "_model_module_version": "1.5.0",
      "_model_name": "ProgressStyleModel",
      "_view_count": null,
      "_view_module": "@jupyter-widgets/base",
      "_view_module_version": "1.2.0",
      "_view_name": "StyleView",
      "bar_color": null,
      "description_width": ""
     }
    },
    "285115be95e5461ab6fd5ec716aca712": {
     "model_module": "@jupyter-widgets/controls",
     "model_module_version": "1.5.0",
     "model_name": "HTMLModel",
     "state": {
      "_dom_classes": [],
      "_model_module": "@jupyter-widgets/controls",
      "_model_module_version": "1.5.0",
      "_model_name": "HTMLModel",
      "_view_count": null,
      "_view_module": "@jupyter-widgets/controls",
      "_view_module_version": "1.5.0",
      "_view_name": "HTMLView",
      "description": "",
      "description_tooltip": null,
      "layout": "IPY_MODEL_4430b8f0ef9c4b78873dbff504aea11e",
      "placeholder": "​",
      "style": "IPY_MODEL_75fb323a6d904a1796ce82347b5bcdc5",
      "value": "Downloading (…)olve/main/merges.txt: 100%"
     }
    },
    "2df1454025654a0380f6be57b4cafc74": {
     "model_module": "@jupyter-widgets/base",
     "model_module_version": "1.2.0",
     "model_name": "LayoutModel",
     "state": {
      "_model_module": "@jupyter-widgets/base",
      "_model_module_version": "1.2.0",
      "_model_name": "LayoutModel",
      "_view_count": null,
      "_view_module": "@jupyter-widgets/base",
      "_view_module_version": "1.2.0",
      "_view_name": "LayoutView",
      "align_content": null,
      "align_items": null,
      "align_self": null,
      "border": null,
      "bottom": null,
      "display": null,
      "flex": null,
      "flex_flow": null,
      "grid_area": null,
      "grid_auto_columns": null,
      "grid_auto_flow": null,
      "grid_auto_rows": null,
      "grid_column": null,
      "grid_gap": null,
      "grid_row": null,
      "grid_template_areas": null,
      "grid_template_columns": null,
      "grid_template_rows": null,
      "height": null,
      "justify_content": null,
      "justify_items": null,
      "left": null,
      "margin": null,
      "max_height": null,
      "max_width": null,
      "min_height": null,
      "min_width": null,
      "object_fit": null,
      "object_position": null,
      "order": null,
      "overflow": null,
      "overflow_x": null,
      "overflow_y": null,
      "padding": null,
      "right": null,
      "top": null,
      "visibility": null,
      "width": null
     }
    },
    "2fee6ae8d87a48e99a244cb4efb4c978": {
     "model_module": "@jupyter-widgets/base",
     "model_module_version": "1.2.0",
     "model_name": "LayoutModel",
     "state": {
      "_model_module": "@jupyter-widgets/base",
      "_model_module_version": "1.2.0",
      "_model_name": "LayoutModel",
      "_view_count": null,
      "_view_module": "@jupyter-widgets/base",
      "_view_module_version": "1.2.0",
      "_view_name": "LayoutView",
      "align_content": null,
      "align_items": null,
      "align_self": null,
      "border": null,
      "bottom": null,
      "display": null,
      "flex": null,
      "flex_flow": null,
      "grid_area": null,
      "grid_auto_columns": null,
      "grid_auto_flow": null,
      "grid_auto_rows": null,
      "grid_column": null,
      "grid_gap": null,
      "grid_row": null,
      "grid_template_areas": null,
      "grid_template_columns": null,
      "grid_template_rows": null,
      "height": null,
      "justify_content": null,
      "justify_items": null,
      "left": null,
      "margin": null,
      "max_height": null,
      "max_width": null,
      "min_height": null,
      "min_width": null,
      "object_fit": null,
      "object_position": null,
      "order": null,
      "overflow": null,
      "overflow_x": null,
      "overflow_y": null,
      "padding": null,
      "right": null,
      "top": null,
      "visibility": null,
      "width": null
     }
    },
    "313ad5beae324128b287d65048214a0c": {
     "model_module": "@jupyter-widgets/controls",
     "model_module_version": "1.5.0",
     "model_name": "DescriptionStyleModel",
     "state": {
      "_model_module": "@jupyter-widgets/controls",
      "_model_module_version": "1.5.0",
      "_model_name": "DescriptionStyleModel",
      "_view_count": null,
      "_view_module": "@jupyter-widgets/base",
      "_view_module_version": "1.2.0",
      "_view_name": "StyleView",
      "description_width": ""
     }
    },
    "314ecfc2f8484635a96d897fca0c88de": {
     "model_module": "@jupyter-widgets/controls",
     "model_module_version": "1.5.0",
     "model_name": "HTMLModel",
     "state": {
      "_dom_classes": [],
      "_model_module": "@jupyter-widgets/controls",
      "_model_module_version": "1.5.0",
      "_model_name": "HTMLModel",
      "_view_count": null,
      "_view_module": "@jupyter-widgets/controls",
      "_view_module_version": "1.5.0",
      "_view_name": "HTMLView",
      "description": "",
      "description_tooltip": null,
      "layout": "IPY_MODEL_433ad2d3819d464a8774b3bace9b4e0a",
      "placeholder": "​",
      "style": "IPY_MODEL_313ad5beae324128b287d65048214a0c",
      "value": "Downloading pytorch_model.bin: 100%"
     }
    },
    "385b01eb74af44409486be0654231006": {
     "model_module": "@jupyter-widgets/base",
     "model_module_version": "1.2.0",
     "model_name": "LayoutModel",
     "state": {
      "_model_module": "@jupyter-widgets/base",
      "_model_module_version": "1.2.0",
      "_model_name": "LayoutModel",
      "_view_count": null,
      "_view_module": "@jupyter-widgets/base",
      "_view_module_version": "1.2.0",
      "_view_name": "LayoutView",
      "align_content": null,
      "align_items": null,
      "align_self": null,
      "border": null,
      "bottom": null,
      "display": null,
      "flex": null,
      "flex_flow": null,
      "grid_area": null,
      "grid_auto_columns": null,
      "grid_auto_flow": null,
      "grid_auto_rows": null,
      "grid_column": null,
      "grid_gap": null,
      "grid_row": null,
      "grid_template_areas": null,
      "grid_template_columns": null,
      "grid_template_rows": null,
      "height": null,
      "justify_content": null,
      "justify_items": null,
      "left": null,
      "margin": null,
      "max_height": null,
      "max_width": null,
      "min_height": null,
      "min_width": null,
      "object_fit": null,
      "object_position": null,
      "order": null,
      "overflow": null,
      "overflow_x": null,
      "overflow_y": null,
      "padding": null,
      "right": null,
      "top": null,
      "visibility": null,
      "width": null
     }
    },
    "39f104e2540f4ba5a04465c1b1bd8f62": {
     "model_module": "@jupyter-widgets/controls",
     "model_module_version": "1.5.0",
     "model_name": "HTMLModel",
     "state": {
      "_dom_classes": [],
      "_model_module": "@jupyter-widgets/controls",
      "_model_module_version": "1.5.0",
      "_model_name": "HTMLModel",
      "_view_count": null,
      "_view_module": "@jupyter-widgets/controls",
      "_view_module_version": "1.5.0",
      "_view_name": "HTMLView",
      "description": "",
      "description_tooltip": null,
      "layout": "IPY_MODEL_0b404fa9b8f9488bb452a7b3dd68450b",
      "placeholder": "​",
      "style": "IPY_MODEL_b15e2e9512424341ad2f139fedb54ad7",
      "value": " 747/747 [00:00&lt;00:00, 44.0kB/s]"
     }
    },
    "3d8c5ecdffff40a7928bbf35761da75f": {
     "model_module": "@jupyter-widgets/base",
     "model_module_version": "1.2.0",
     "model_name": "LayoutModel",
     "state": {
      "_model_module": "@jupyter-widgets/base",
      "_model_module_version": "1.2.0",
      "_model_name": "LayoutModel",
      "_view_count": null,
      "_view_module": "@jupyter-widgets/base",
      "_view_module_version": "1.2.0",
      "_view_name": "LayoutView",
      "align_content": null,
      "align_items": null,
      "align_self": null,
      "border": null,
      "bottom": null,
      "display": null,
      "flex": null,
      "flex_flow": null,
      "grid_area": null,
      "grid_auto_columns": null,
      "grid_auto_flow": null,
      "grid_auto_rows": null,
      "grid_column": null,
      "grid_gap": null,
      "grid_row": null,
      "grid_template_areas": null,
      "grid_template_columns": null,
      "grid_template_rows": null,
      "height": null,
      "justify_content": null,
      "justify_items": null,
      "left": null,
      "margin": null,
      "max_height": null,
      "max_width": null,
      "min_height": null,
      "min_width": null,
      "object_fit": null,
      "object_position": null,
      "order": null,
      "overflow": null,
      "overflow_x": null,
      "overflow_y": null,
      "padding": null,
      "right": null,
      "top": null,
      "visibility": null,
      "width": null
     }
    },
    "404ddfee5e5c4338ab882b007f41a46a": {
     "model_module": "@jupyter-widgets/base",
     "model_module_version": "1.2.0",
     "model_name": "LayoutModel",
     "state": {
      "_model_module": "@jupyter-widgets/base",
      "_model_module_version": "1.2.0",
      "_model_name": "LayoutModel",
      "_view_count": null,
      "_view_module": "@jupyter-widgets/base",
      "_view_module_version": "1.2.0",
      "_view_name": "LayoutView",
      "align_content": null,
      "align_items": null,
      "align_self": null,
      "border": null,
      "bottom": null,
      "display": null,
      "flex": null,
      "flex_flow": null,
      "grid_area": null,
      "grid_auto_columns": null,
      "grid_auto_flow": null,
      "grid_auto_rows": null,
      "grid_column": null,
      "grid_gap": null,
      "grid_row": null,
      "grid_template_areas": null,
      "grid_template_columns": null,
      "grid_template_rows": null,
      "height": null,
      "justify_content": null,
      "justify_items": null,
      "left": null,
      "margin": null,
      "max_height": null,
      "max_width": null,
      "min_height": null,
      "min_width": null,
      "object_fit": null,
      "object_position": null,
      "order": null,
      "overflow": null,
      "overflow_x": null,
      "overflow_y": null,
      "padding": null,
      "right": null,
      "top": null,
      "visibility": null,
      "width": null
     }
    },
    "433ad2d3819d464a8774b3bace9b4e0a": {
     "model_module": "@jupyter-widgets/base",
     "model_module_version": "1.2.0",
     "model_name": "LayoutModel",
     "state": {
      "_model_module": "@jupyter-widgets/base",
      "_model_module_version": "1.2.0",
      "_model_name": "LayoutModel",
      "_view_count": null,
      "_view_module": "@jupyter-widgets/base",
      "_view_module_version": "1.2.0",
      "_view_name": "LayoutView",
      "align_content": null,
      "align_items": null,
      "align_self": null,
      "border": null,
      "bottom": null,
      "display": null,
      "flex": null,
      "flex_flow": null,
      "grid_area": null,
      "grid_auto_columns": null,
      "grid_auto_flow": null,
      "grid_auto_rows": null,
      "grid_column": null,
      "grid_gap": null,
      "grid_row": null,
      "grid_template_areas": null,
      "grid_template_columns": null,
      "grid_template_rows": null,
      "height": null,
      "justify_content": null,
      "justify_items": null,
      "left": null,
      "margin": null,
      "max_height": null,
      "max_width": null,
      "min_height": null,
      "min_width": null,
      "object_fit": null,
      "object_position": null,
      "order": null,
      "overflow": null,
      "overflow_x": null,
      "overflow_y": null,
      "padding": null,
      "right": null,
      "top": null,
      "visibility": null,
      "width": null
     }
    },
    "4430b8f0ef9c4b78873dbff504aea11e": {
     "model_module": "@jupyter-widgets/base",
     "model_module_version": "1.2.0",
     "model_name": "LayoutModel",
     "state": {
      "_model_module": "@jupyter-widgets/base",
      "_model_module_version": "1.2.0",
      "_model_name": "LayoutModel",
      "_view_count": null,
      "_view_module": "@jupyter-widgets/base",
      "_view_module_version": "1.2.0",
      "_view_name": "LayoutView",
      "align_content": null,
      "align_items": null,
      "align_self": null,
      "border": null,
      "bottom": null,
      "display": null,
      "flex": null,
      "flex_flow": null,
      "grid_area": null,
      "grid_auto_columns": null,
      "grid_auto_flow": null,
      "grid_auto_rows": null,
      "grid_column": null,
      "grid_gap": null,
      "grid_row": null,
      "grid_template_areas": null,
      "grid_template_columns": null,
      "grid_template_rows": null,
      "height": null,
      "justify_content": null,
      "justify_items": null,
      "left": null,
      "margin": null,
      "max_height": null,
      "max_width": null,
      "min_height": null,
      "min_width": null,
      "object_fit": null,
      "object_position": null,
      "order": null,
      "overflow": null,
      "overflow_x": null,
      "overflow_y": null,
      "padding": null,
      "right": null,
      "top": null,
      "visibility": null,
      "width": null
     }
    },
    "4a8c78f89d5947529faad5165eb2df63": {
     "model_module": "@jupyter-widgets/base",
     "model_module_version": "1.2.0",
     "model_name": "LayoutModel",
     "state": {
      "_model_module": "@jupyter-widgets/base",
      "_model_module_version": "1.2.0",
      "_model_name": "LayoutModel",
      "_view_count": null,
      "_view_module": "@jupyter-widgets/base",
      "_view_module_version": "1.2.0",
      "_view_name": "LayoutView",
      "align_content": null,
      "align_items": null,
      "align_self": null,
      "border": null,
      "bottom": null,
      "display": null,
      "flex": null,
      "flex_flow": null,
      "grid_area": null,
      "grid_auto_columns": null,
      "grid_auto_flow": null,
      "grid_auto_rows": null,
      "grid_column": null,
      "grid_gap": null,
      "grid_row": null,
      "grid_template_areas": null,
      "grid_template_columns": null,
      "grid_template_rows": null,
      "height": null,
      "justify_content": null,
      "justify_items": null,
      "left": null,
      "margin": null,
      "max_height": null,
      "max_width": null,
      "min_height": null,
      "min_width": null,
      "object_fit": null,
      "object_position": null,
      "order": null,
      "overflow": null,
      "overflow_x": null,
      "overflow_y": null,
      "padding": null,
      "right": null,
      "top": null,
      "visibility": null,
      "width": null
     }
    },
    "4c384e0344364b64b367eb30e65da40c": {
     "model_module": "@jupyter-widgets/controls",
     "model_module_version": "1.5.0",
     "model_name": "ProgressStyleModel",
     "state": {
      "_model_module": "@jupyter-widgets/controls",
      "_model_module_version": "1.5.0",
      "_model_name": "ProgressStyleModel",
      "_view_count": null,
      "_view_module": "@jupyter-widgets/base",
      "_view_module_version": "1.2.0",
      "_view_name": "StyleView",
      "bar_color": null,
      "description_width": ""
     }
    },
    "56f5c0543c474364b39852ac5399a5bc": {
     "model_module": "@jupyter-widgets/controls",
     "model_module_version": "1.5.0",
     "model_name": "HBoxModel",
     "state": {
      "_dom_classes": [],
      "_model_module": "@jupyter-widgets/controls",
      "_model_module_version": "1.5.0",
      "_model_name": "HBoxModel",
      "_view_count": null,
      "_view_module": "@jupyter-widgets/controls",
      "_view_module_version": "1.5.0",
      "_view_name": "HBoxView",
      "box_style": "",
      "children": [
       "IPY_MODEL_b790c297da0843228d488d8eb73e96e3",
       "IPY_MODEL_e0d9087b1de248f48893bdad33031b3c",
       "IPY_MODEL_ab09db2a09c941fdbdf2934996aef361"
      ],
      "layout": "IPY_MODEL_cce35323eeec41c5a4281d33d98c2ff6"
     }
    },
    "5d1053cb79a449e1879e6a45304b5afb": {
     "model_module": "@jupyter-widgets/controls",
     "model_module_version": "1.5.0",
     "model_name": "ProgressStyleModel",
     "state": {
      "_model_module": "@jupyter-widgets/controls",
      "_model_module_version": "1.5.0",
      "_model_name": "ProgressStyleModel",
      "_view_count": null,
      "_view_module": "@jupyter-widgets/base",
      "_view_module_version": "1.2.0",
      "_view_name": "StyleView",
      "bar_color": null,
      "description_width": ""
     }
    },
    "5f27138f8c0a4f5eb92519f4ef8b0fd9": {
     "model_module": "@jupyter-widgets/controls",
     "model_module_version": "1.5.0",
     "model_name": "ProgressStyleModel",
     "state": {
      "_model_module": "@jupyter-widgets/controls",
      "_model_module_version": "1.5.0",
      "_model_name": "ProgressStyleModel",
      "_view_count": null,
      "_view_module": "@jupyter-widgets/base",
      "_view_module_version": "1.2.0",
      "_view_name": "StyleView",
      "bar_color": null,
      "description_width": ""
     }
    },
    "603cbe3838ca45179ab06e63cf30bc55": {
     "model_module": "@jupyter-widgets/base",
     "model_module_version": "1.2.0",
     "model_name": "LayoutModel",
     "state": {
      "_model_module": "@jupyter-widgets/base",
      "_model_module_version": "1.2.0",
      "_model_name": "LayoutModel",
      "_view_count": null,
      "_view_module": "@jupyter-widgets/base",
      "_view_module_version": "1.2.0",
      "_view_name": "LayoutView",
      "align_content": null,
      "align_items": null,
      "align_self": null,
      "border": null,
      "bottom": null,
      "display": null,
      "flex": null,
      "flex_flow": null,
      "grid_area": null,
      "grid_auto_columns": null,
      "grid_auto_flow": null,
      "grid_auto_rows": null,
      "grid_column": null,
      "grid_gap": null,
      "grid_row": null,
      "grid_template_areas": null,
      "grid_template_columns": null,
      "grid_template_rows": null,
      "height": null,
      "justify_content": null,
      "justify_items": null,
      "left": null,
      "margin": null,
      "max_height": null,
      "max_width": null,
      "min_height": null,
      "min_width": null,
      "object_fit": null,
      "object_position": null,
      "order": null,
      "overflow": null,
      "overflow_x": null,
      "overflow_y": null,
      "padding": null,
      "right": null,
      "top": null,
      "visibility": null,
      "width": null
     }
    },
    "60c5c38124a444508c512b9ee846e76b": {
     "model_module": "@jupyter-widgets/base",
     "model_module_version": "1.2.0",
     "model_name": "LayoutModel",
     "state": {
      "_model_module": "@jupyter-widgets/base",
      "_model_module_version": "1.2.0",
      "_model_name": "LayoutModel",
      "_view_count": null,
      "_view_module": "@jupyter-widgets/base",
      "_view_module_version": "1.2.0",
      "_view_name": "LayoutView",
      "align_content": null,
      "align_items": null,
      "align_self": null,
      "border": null,
      "bottom": null,
      "display": null,
      "flex": null,
      "flex_flow": null,
      "grid_area": null,
      "grid_auto_columns": null,
      "grid_auto_flow": null,
      "grid_auto_rows": null,
      "grid_column": null,
      "grid_gap": null,
      "grid_row": null,
      "grid_template_areas": null,
      "grid_template_columns": null,
      "grid_template_rows": null,
      "height": null,
      "justify_content": null,
      "justify_items": null,
      "left": null,
      "margin": null,
      "max_height": null,
      "max_width": null,
      "min_height": null,
      "min_width": null,
      "object_fit": null,
      "object_position": null,
      "order": null,
      "overflow": null,
      "overflow_x": null,
      "overflow_y": null,
      "padding": null,
      "right": null,
      "top": null,
      "visibility": null,
      "width": null
     }
    },
    "674e10f9d5d642f5b3b1a8686af67623": {
     "model_module": "@jupyter-widgets/controls",
     "model_module_version": "1.5.0",
     "model_name": "HTMLModel",
     "state": {
      "_dom_classes": [],
      "_model_module": "@jupyter-widgets/controls",
      "_model_module_version": "1.5.0",
      "_model_name": "HTMLModel",
      "_view_count": null,
      "_view_module": "@jupyter-widgets/controls",
      "_view_module_version": "1.5.0",
      "_view_name": "HTMLView",
      "description": "",
      "description_tooltip": null,
      "layout": "IPY_MODEL_bb5af525d0aa49ee841e3f68ca1bbee0",
      "placeholder": "​",
      "style": "IPY_MODEL_6d26295a70e2418b9ba46c7f3b9114d0",
      "value": "Downloading (…)cial_tokens_map.json: 100%"
     }
    },
    "6bed3d6016e54078bdd53b8cdfcb4824": {
     "model_module": "@jupyter-widgets/controls",
     "model_module_version": "1.5.0",
     "model_name": "HBoxModel",
     "state": {
      "_dom_classes": [],
      "_model_module": "@jupyter-widgets/controls",
      "_model_module_version": "1.5.0",
      "_model_name": "HBoxModel",
      "_view_count": null,
      "_view_module": "@jupyter-widgets/controls",
      "_view_module_version": "1.5.0",
      "_view_name": "HBoxView",
      "box_style": "",
      "children": [
       "IPY_MODEL_674e10f9d5d642f5b3b1a8686af67623",
       "IPY_MODEL_e12b70c835c24a5e9e4215b3e57384f9",
       "IPY_MODEL_8f63ae2fbea44ec3ab87bc394a1b496f"
      ],
      "layout": "IPY_MODEL_404ddfee5e5c4338ab882b007f41a46a"
     }
    },
    "6d26295a70e2418b9ba46c7f3b9114d0": {
     "model_module": "@jupyter-widgets/controls",
     "model_module_version": "1.5.0",
     "model_name": "DescriptionStyleModel",
     "state": {
      "_model_module": "@jupyter-widgets/controls",
      "_model_module_version": "1.5.0",
      "_model_name": "DescriptionStyleModel",
      "_view_count": null,
      "_view_module": "@jupyter-widgets/base",
      "_view_module_version": "1.2.0",
      "_view_name": "StyleView",
      "description_width": ""
     }
    },
    "75e94f79fbba4c04b967599c2b1065ba": {
     "model_module": "@jupyter-widgets/controls",
     "model_module_version": "1.5.0",
     "model_name": "DescriptionStyleModel",
     "state": {
      "_model_module": "@jupyter-widgets/controls",
      "_model_module_version": "1.5.0",
      "_model_name": "DescriptionStyleModel",
      "_view_count": null,
      "_view_module": "@jupyter-widgets/base",
      "_view_module_version": "1.2.0",
      "_view_name": "StyleView",
      "description_width": ""
     }
    },
    "75fb323a6d904a1796ce82347b5bcdc5": {
     "model_module": "@jupyter-widgets/controls",
     "model_module_version": "1.5.0",
     "model_name": "DescriptionStyleModel",
     "state": {
      "_model_module": "@jupyter-widgets/controls",
      "_model_module_version": "1.5.0",
      "_model_name": "DescriptionStyleModel",
      "_view_count": null,
      "_view_module": "@jupyter-widgets/base",
      "_view_module_version": "1.2.0",
      "_view_name": "StyleView",
      "description_width": ""
     }
    },
    "7ccd64de0016479aa0414fd63aa308d3": {
     "model_module": "@jupyter-widgets/controls",
     "model_module_version": "1.5.0",
     "model_name": "HBoxModel",
     "state": {
      "_dom_classes": [],
      "_model_module": "@jupyter-widgets/controls",
      "_model_module_version": "1.5.0",
      "_model_name": "HBoxModel",
      "_view_count": null,
      "_view_module": "@jupyter-widgets/controls",
      "_view_module_version": "1.5.0",
      "_view_name": "HBoxView",
      "box_style": "",
      "children": [
       "IPY_MODEL_314ecfc2f8484635a96d897fca0c88de",
       "IPY_MODEL_d0aa1e6bb98543418be75e5d2d795761",
       "IPY_MODEL_81a601fcf1c44870b5ade2dfab33e5df"
      ],
      "layout": "IPY_MODEL_c027d08c0ffd4c2191c721f6a2698d78"
     }
    },
    "7e6674949a444c988fb14519f57c9c43": {
     "model_module": "@jupyter-widgets/base",
     "model_module_version": "1.2.0",
     "model_name": "LayoutModel",
     "state": {
      "_model_module": "@jupyter-widgets/base",
      "_model_module_version": "1.2.0",
      "_model_name": "LayoutModel",
      "_view_count": null,
      "_view_module": "@jupyter-widgets/base",
      "_view_module_version": "1.2.0",
      "_view_name": "LayoutView",
      "align_content": null,
      "align_items": null,
      "align_self": null,
      "border": null,
      "bottom": null,
      "display": null,
      "flex": null,
      "flex_flow": null,
      "grid_area": null,
      "grid_auto_columns": null,
      "grid_auto_flow": null,
      "grid_auto_rows": null,
      "grid_column": null,
      "grid_gap": null,
      "grid_row": null,
      "grid_template_areas": null,
      "grid_template_columns": null,
      "grid_template_rows": null,
      "height": null,
      "justify_content": null,
      "justify_items": null,
      "left": null,
      "margin": null,
      "max_height": null,
      "max_width": null,
      "min_height": null,
      "min_width": null,
      "object_fit": null,
      "object_position": null,
      "order": null,
      "overflow": null,
      "overflow_x": null,
      "overflow_y": null,
      "padding": null,
      "right": null,
      "top": null,
      "visibility": null,
      "width": null
     }
    },
    "81a601fcf1c44870b5ade2dfab33e5df": {
     "model_module": "@jupyter-widgets/controls",
     "model_module_version": "1.5.0",
     "model_name": "HTMLModel",
     "state": {
      "_dom_classes": [],
      "_model_module": "@jupyter-widgets/controls",
      "_model_module_version": "1.5.0",
      "_model_name": "HTMLModel",
      "_view_count": null,
      "_view_module": "@jupyter-widgets/controls",
      "_view_module_version": "1.5.0",
      "_view_name": "HTMLView",
      "description": "",
      "description_tooltip": null,
      "layout": "IPY_MODEL_11f0680716f344a1b8df63812e23d2b5",
      "placeholder": "​",
      "style": "IPY_MODEL_d46415153ae443cb9524ca8a4b2ff246",
      "value": " 499M/499M [00:03&lt;00:00, 149MB/s]"
     }
    },
    "8a30016219414f5dbf10f9cab27f18bc": {
     "model_module": "@jupyter-widgets/controls",
     "model_module_version": "1.5.0",
     "model_name": "ProgressStyleModel",
     "state": {
      "_model_module": "@jupyter-widgets/controls",
      "_model_module_version": "1.5.0",
      "_model_name": "ProgressStyleModel",
      "_view_count": null,
      "_view_module": "@jupyter-widgets/base",
      "_view_module_version": "1.2.0",
      "_view_name": "StyleView",
      "bar_color": null,
      "description_width": ""
     }
    },
    "8f63ae2fbea44ec3ab87bc394a1b496f": {
     "model_module": "@jupyter-widgets/controls",
     "model_module_version": "1.5.0",
     "model_name": "HTMLModel",
     "state": {
      "_dom_classes": [],
      "_model_module": "@jupyter-widgets/controls",
      "_model_module_version": "1.5.0",
      "_model_name": "HTMLModel",
      "_view_count": null,
      "_view_module": "@jupyter-widgets/controls",
      "_view_module_version": "1.5.0",
      "_view_name": "HTMLView",
      "description": "",
      "description_tooltip": null,
      "layout": "IPY_MODEL_385b01eb74af44409486be0654231006",
      "placeholder": "​",
      "style": "IPY_MODEL_f6c266feacef4c5fa27b9a5ef3fad7f0",
      "value": " 150/150 [00:00&lt;00:00, 4.61kB/s]"
     }
    },
    "93acb8ead6d4436a87c2ef77fc555428": {
     "model_module": "@jupyter-widgets/controls",
     "model_module_version": "1.5.0",
     "model_name": "DescriptionStyleModel",
     "state": {
      "_model_module": "@jupyter-widgets/controls",
      "_model_module_version": "1.5.0",
      "_model_name": "DescriptionStyleModel",
      "_view_count": null,
      "_view_module": "@jupyter-widgets/base",
      "_view_module_version": "1.2.0",
      "_view_name": "StyleView",
      "description_width": ""
     }
    },
    "9887bbd10f2c4ff6b1a96dd6ad741f3d": {
     "model_module": "@jupyter-widgets/controls",
     "model_module_version": "1.5.0",
     "model_name": "DescriptionStyleModel",
     "state": {
      "_model_module": "@jupyter-widgets/controls",
      "_model_module_version": "1.5.0",
      "_model_name": "DescriptionStyleModel",
      "_view_count": null,
      "_view_module": "@jupyter-widgets/base",
      "_view_module_version": "1.2.0",
      "_view_name": "StyleView",
      "description_width": ""
     }
    },
    "99630a8f23464c96b9782c5620340dee": {
     "model_module": "@jupyter-widgets/base",
     "model_module_version": "1.2.0",
     "model_name": "LayoutModel",
     "state": {
      "_model_module": "@jupyter-widgets/base",
      "_model_module_version": "1.2.0",
      "_model_name": "LayoutModel",
      "_view_count": null,
      "_view_module": "@jupyter-widgets/base",
      "_view_module_version": "1.2.0",
      "_view_name": "LayoutView",
      "align_content": null,
      "align_items": null,
      "align_self": null,
      "border": null,
      "bottom": null,
      "display": null,
      "flex": null,
      "flex_flow": null,
      "grid_area": null,
      "grid_auto_columns": null,
      "grid_auto_flow": null,
      "grid_auto_rows": null,
      "grid_column": null,
      "grid_gap": null,
      "grid_row": null,
      "grid_template_areas": null,
      "grid_template_columns": null,
      "grid_template_rows": null,
      "height": null,
      "justify_content": null,
      "justify_items": null,
      "left": null,
      "margin": null,
      "max_height": null,
      "max_width": null,
      "min_height": null,
      "min_width": null,
      "object_fit": null,
      "object_position": null,
      "order": null,
      "overflow": null,
      "overflow_x": null,
      "overflow_y": null,
      "padding": null,
      "right": null,
      "top": null,
      "visibility": null,
      "width": null
     }
    },
    "a627ba76f2d14508a7166c7d309bff6e": {
     "model_module": "@jupyter-widgets/controls",
     "model_module_version": "1.5.0",
     "model_name": "HBoxModel",
     "state": {
      "_dom_classes": [],
      "_model_module": "@jupyter-widgets/controls",
      "_model_module_version": "1.5.0",
      "_model_name": "HBoxModel",
      "_view_count": null,
      "_view_module": "@jupyter-widgets/controls",
      "_view_module_version": "1.5.0",
      "_view_name": "HBoxView",
      "box_style": "",
      "children": [
       "IPY_MODEL_dcf46beb630a42628e39aa67ecc42d4e",
       "IPY_MODEL_182dafc0193340d2ac8bd1891c78b33e",
       "IPY_MODEL_39f104e2540f4ba5a04465c1b1bd8f62"
      ],
      "layout": "IPY_MODEL_2281e60b0b114808942ab8163ad2abab"
     }
    },
    "ab09db2a09c941fdbdf2934996aef361": {
     "model_module": "@jupyter-widgets/controls",
     "model_module_version": "1.5.0",
     "model_name": "HTMLModel",
     "state": {
      "_dom_classes": [],
      "_model_module": "@jupyter-widgets/controls",
      "_model_module_version": "1.5.0",
      "_model_name": "HTMLModel",
      "_view_count": null,
      "_view_module": "@jupyter-widgets/controls",
      "_view_module_version": "1.5.0",
      "_view_name": "HTMLView",
      "description": "",
      "description_tooltip": null,
      "layout": "IPY_MODEL_e98086027dd14a3fbc038b3b91a321f6",
      "placeholder": "​",
      "style": "IPY_MODEL_9887bbd10f2c4ff6b1a96dd6ad741f3d",
      "value": " 899k/899k [00:00&lt;00:00, 11.2MB/s]"
     }
    },
    "b15e2e9512424341ad2f139fedb54ad7": {
     "model_module": "@jupyter-widgets/controls",
     "model_module_version": "1.5.0",
     "model_name": "DescriptionStyleModel",
     "state": {
      "_model_module": "@jupyter-widgets/controls",
      "_model_module_version": "1.5.0",
      "_model_name": "DescriptionStyleModel",
      "_view_count": null,
      "_view_module": "@jupyter-widgets/base",
      "_view_module_version": "1.2.0",
      "_view_name": "StyleView",
      "description_width": ""
     }
    },
    "b790c297da0843228d488d8eb73e96e3": {
     "model_module": "@jupyter-widgets/controls",
     "model_module_version": "1.5.0",
     "model_name": "HTMLModel",
     "state": {
      "_dom_classes": [],
      "_model_module": "@jupyter-widgets/controls",
      "_model_module_version": "1.5.0",
      "_model_name": "HTMLModel",
      "_view_count": null,
      "_view_module": "@jupyter-widgets/controls",
      "_view_module_version": "1.5.0",
      "_view_name": "HTMLView",
      "description": "",
      "description_tooltip": null,
      "layout": "IPY_MODEL_7e6674949a444c988fb14519f57c9c43",
      "placeholder": "​",
      "style": "IPY_MODEL_93acb8ead6d4436a87c2ef77fc555428",
      "value": "Downloading (…)olve/main/vocab.json: 100%"
     }
    },
    "bb5af525d0aa49ee841e3f68ca1bbee0": {
     "model_module": "@jupyter-widgets/base",
     "model_module_version": "1.2.0",
     "model_name": "LayoutModel",
     "state": {
      "_model_module": "@jupyter-widgets/base",
      "_model_module_version": "1.2.0",
      "_model_name": "LayoutModel",
      "_view_count": null,
      "_view_module": "@jupyter-widgets/base",
      "_view_module_version": "1.2.0",
      "_view_name": "LayoutView",
      "align_content": null,
      "align_items": null,
      "align_self": null,
      "border": null,
      "bottom": null,
      "display": null,
      "flex": null,
      "flex_flow": null,
      "grid_area": null,
      "grid_auto_columns": null,
      "grid_auto_flow": null,
      "grid_auto_rows": null,
      "grid_column": null,
      "grid_gap": null,
      "grid_row": null,
      "grid_template_areas": null,
      "grid_template_columns": null,
      "grid_template_rows": null,
      "height": null,
      "justify_content": null,
      "justify_items": null,
      "left": null,
      "margin": null,
      "max_height": null,
      "max_width": null,
      "min_height": null,
      "min_width": null,
      "object_fit": null,
      "object_position": null,
      "order": null,
      "overflow": null,
      "overflow_x": null,
      "overflow_y": null,
      "padding": null,
      "right": null,
      "top": null,
      "visibility": null,
      "width": null
     }
    },
    "bfdfd4724a184e69b63e5ba548b85e7e": {
     "model_module": "@jupyter-widgets/controls",
     "model_module_version": "1.5.0",
     "model_name": "FloatProgressModel",
     "state": {
      "_dom_classes": [],
      "_model_module": "@jupyter-widgets/controls",
      "_model_module_version": "1.5.0",
      "_model_name": "FloatProgressModel",
      "_view_count": null,
      "_view_module": "@jupyter-widgets/controls",
      "_view_module_version": "1.5.0",
      "_view_name": "ProgressView",
      "bar_style": "success",
      "description": "",
      "description_tooltip": null,
      "layout": "IPY_MODEL_99630a8f23464c96b9782c5620340dee",
      "max": 456318,
      "min": 0,
      "orientation": "horizontal",
      "style": "IPY_MODEL_8a30016219414f5dbf10f9cab27f18bc",
      "value": 456318
     }
    },
    "bfe7866fbc244eeeac5ad5c50879a44b": {
     "model_module": "@jupyter-widgets/controls",
     "model_module_version": "1.5.0",
     "model_name": "HBoxModel",
     "state": {
      "_dom_classes": [],
      "_model_module": "@jupyter-widgets/controls",
      "_model_module_version": "1.5.0",
      "_model_name": "HBoxModel",
      "_view_count": null,
      "_view_module": "@jupyter-widgets/controls",
      "_view_module_version": "1.5.0",
      "_view_name": "HBoxView",
      "box_style": "",
      "children": [
       "IPY_MODEL_285115be95e5461ab6fd5ec716aca712",
       "IPY_MODEL_bfdfd4724a184e69b63e5ba548b85e7e",
       "IPY_MODEL_f83b7ba2c46242afbb9723043f3221a0"
      ],
      "layout": "IPY_MODEL_3d8c5ecdffff40a7928bbf35761da75f"
     }
    },
    "c027d08c0ffd4c2191c721f6a2698d78": {
     "model_module": "@jupyter-widgets/base",
     "model_module_version": "1.2.0",
     "model_name": "LayoutModel",
     "state": {
      "_model_module": "@jupyter-widgets/base",
      "_model_module_version": "1.2.0",
      "_model_name": "LayoutModel",
      "_view_count": null,
      "_view_module": "@jupyter-widgets/base",
      "_view_module_version": "1.2.0",
      "_view_name": "LayoutView",
      "align_content": null,
      "align_items": null,
      "align_self": null,
      "border": null,
      "bottom": null,
      "display": null,
      "flex": null,
      "flex_flow": null,
      "grid_area": null,
      "grid_auto_columns": null,
      "grid_auto_flow": null,
      "grid_auto_rows": null,
      "grid_column": null,
      "grid_gap": null,
      "grid_row": null,
      "grid_template_areas": null,
      "grid_template_columns": null,
      "grid_template_rows": null,
      "height": null,
      "justify_content": null,
      "justify_items": null,
      "left": null,
      "margin": null,
      "max_height": null,
      "max_width": null,
      "min_height": null,
      "min_width": null,
      "object_fit": null,
      "object_position": null,
      "order": null,
      "overflow": null,
      "overflow_x": null,
      "overflow_y": null,
      "padding": null,
      "right": null,
      "top": null,
      "visibility": null,
      "width": null
     }
    },
    "cce35323eeec41c5a4281d33d98c2ff6": {
     "model_module": "@jupyter-widgets/base",
     "model_module_version": "1.2.0",
     "model_name": "LayoutModel",
     "state": {
      "_model_module": "@jupyter-widgets/base",
      "_model_module_version": "1.2.0",
      "_model_name": "LayoutModel",
      "_view_count": null,
      "_view_module": "@jupyter-widgets/base",
      "_view_module_version": "1.2.0",
      "_view_name": "LayoutView",
      "align_content": null,
      "align_items": null,
      "align_self": null,
      "border": null,
      "bottom": null,
      "display": null,
      "flex": null,
      "flex_flow": null,
      "grid_area": null,
      "grid_auto_columns": null,
      "grid_auto_flow": null,
      "grid_auto_rows": null,
      "grid_column": null,
      "grid_gap": null,
      "grid_row": null,
      "grid_template_areas": null,
      "grid_template_columns": null,
      "grid_template_rows": null,
      "height": null,
      "justify_content": null,
      "justify_items": null,
      "left": null,
      "margin": null,
      "max_height": null,
      "max_width": null,
      "min_height": null,
      "min_width": null,
      "object_fit": null,
      "object_position": null,
      "order": null,
      "overflow": null,
      "overflow_x": null,
      "overflow_y": null,
      "padding": null,
      "right": null,
      "top": null,
      "visibility": null,
      "width": null
     }
    },
    "d0aa1e6bb98543418be75e5d2d795761": {
     "model_module": "@jupyter-widgets/controls",
     "model_module_version": "1.5.0",
     "model_name": "FloatProgressModel",
     "state": {
      "_dom_classes": [],
      "_model_module": "@jupyter-widgets/controls",
      "_model_module_version": "1.5.0",
      "_model_name": "FloatProgressModel",
      "_view_count": null,
      "_view_module": "@jupyter-widgets/controls",
      "_view_module_version": "1.5.0",
      "_view_name": "ProgressView",
      "bar_style": "success",
      "description": "",
      "description_tooltip": null,
      "layout": "IPY_MODEL_4a8c78f89d5947529faad5165eb2df63",
      "max": 498679497,
      "min": 0,
      "orientation": "horizontal",
      "style": "IPY_MODEL_23825672a83340539525ad889b81c8d2",
      "value": 498679497
     }
    },
    "d46415153ae443cb9524ca8a4b2ff246": {
     "model_module": "@jupyter-widgets/controls",
     "model_module_version": "1.5.0",
     "model_name": "DescriptionStyleModel",
     "state": {
      "_model_module": "@jupyter-widgets/controls",
      "_model_module_version": "1.5.0",
      "_model_name": "DescriptionStyleModel",
      "_view_count": null,
      "_view_module": "@jupyter-widgets/base",
      "_view_module_version": "1.2.0",
      "_view_name": "StyleView",
      "description_width": ""
     }
    },
    "dbb8ef7ea8d24ab396521bbf44511f32": {
     "model_module": "@jupyter-widgets/controls",
     "model_module_version": "1.5.0",
     "model_name": "DescriptionStyleModel",
     "state": {
      "_model_module": "@jupyter-widgets/controls",
      "_model_module_version": "1.5.0",
      "_model_name": "DescriptionStyleModel",
      "_view_count": null,
      "_view_module": "@jupyter-widgets/base",
      "_view_module_version": "1.2.0",
      "_view_name": "StyleView",
      "description_width": ""
     }
    },
    "dcf46beb630a42628e39aa67ecc42d4e": {
     "model_module": "@jupyter-widgets/controls",
     "model_module_version": "1.5.0",
     "model_name": "HTMLModel",
     "state": {
      "_dom_classes": [],
      "_model_module": "@jupyter-widgets/controls",
      "_model_module_version": "1.5.0",
      "_model_name": "HTMLModel",
      "_view_count": null,
      "_view_module": "@jupyter-widgets/controls",
      "_view_module_version": "1.5.0",
      "_view_name": "HTMLView",
      "description": "",
      "description_tooltip": null,
      "layout": "IPY_MODEL_60c5c38124a444508c512b9ee846e76b",
      "placeholder": "​",
      "style": "IPY_MODEL_dbb8ef7ea8d24ab396521bbf44511f32",
      "value": "Downloading (…)lve/main/config.json: 100%"
     }
    },
    "e0d9087b1de248f48893bdad33031b3c": {
     "model_module": "@jupyter-widgets/controls",
     "model_module_version": "1.5.0",
     "model_name": "FloatProgressModel",
     "state": {
      "_dom_classes": [],
      "_model_module": "@jupyter-widgets/controls",
      "_model_module_version": "1.5.0",
      "_model_name": "FloatProgressModel",
      "_view_count": null,
      "_view_module": "@jupyter-widgets/controls",
      "_view_module_version": "1.5.0",
      "_view_name": "ProgressView",
      "bar_style": "success",
      "description": "",
      "description_tooltip": null,
      "layout": "IPY_MODEL_603cbe3838ca45179ab06e63cf30bc55",
      "max": 898822,
      "min": 0,
      "orientation": "horizontal",
      "style": "IPY_MODEL_5d1053cb79a449e1879e6a45304b5afb",
      "value": 898822
     }
    },
    "e12b70c835c24a5e9e4215b3e57384f9": {
     "model_module": "@jupyter-widgets/controls",
     "model_module_version": "1.5.0",
     "model_name": "FloatProgressModel",
     "state": {
      "_dom_classes": [],
      "_model_module": "@jupyter-widgets/controls",
      "_model_module_version": "1.5.0",
      "_model_name": "FloatProgressModel",
      "_view_count": null,
      "_view_module": "@jupyter-widgets/controls",
      "_view_module_version": "1.5.0",
      "_view_name": "ProgressView",
      "bar_style": "success",
      "description": "",
      "description_tooltip": null,
      "layout": "IPY_MODEL_14143836cf4647349e1dd9999725dc4d",
      "max": 150,
      "min": 0,
      "orientation": "horizontal",
      "style": "IPY_MODEL_4c384e0344364b64b367eb30e65da40c",
      "value": 150
     }
    },
    "e98086027dd14a3fbc038b3b91a321f6": {
     "model_module": "@jupyter-widgets/base",
     "model_module_version": "1.2.0",
     "model_name": "LayoutModel",
     "state": {
      "_model_module": "@jupyter-widgets/base",
      "_model_module_version": "1.2.0",
      "_model_name": "LayoutModel",
      "_view_count": null,
      "_view_module": "@jupyter-widgets/base",
      "_view_module_version": "1.2.0",
      "_view_name": "LayoutView",
      "align_content": null,
      "align_items": null,
      "align_self": null,
      "border": null,
      "bottom": null,
      "display": null,
      "flex": null,
      "flex_flow": null,
      "grid_area": null,
      "grid_auto_columns": null,
      "grid_auto_flow": null,
      "grid_auto_rows": null,
      "grid_column": null,
      "grid_gap": null,
      "grid_row": null,
      "grid_template_areas": null,
      "grid_template_columns": null,
      "grid_template_rows": null,
      "height": null,
      "justify_content": null,
      "justify_items": null,
      "left": null,
      "margin": null,
      "max_height": null,
      "max_width": null,
      "min_height": null,
      "min_width": null,
      "object_fit": null,
      "object_position": null,
      "order": null,
      "overflow": null,
      "overflow_x": null,
      "overflow_y": null,
      "padding": null,
      "right": null,
      "top": null,
      "visibility": null,
      "width": null
     }
    },
    "f6c266feacef4c5fa27b9a5ef3fad7f0": {
     "model_module": "@jupyter-widgets/controls",
     "model_module_version": "1.5.0",
     "model_name": "DescriptionStyleModel",
     "state": {
      "_model_module": "@jupyter-widgets/controls",
      "_model_module_version": "1.5.0",
      "_model_name": "DescriptionStyleModel",
      "_view_count": null,
      "_view_module": "@jupyter-widgets/base",
      "_view_module_version": "1.2.0",
      "_view_name": "StyleView",
      "description_width": ""
     }
    },
    "f83b7ba2c46242afbb9723043f3221a0": {
     "model_module": "@jupyter-widgets/controls",
     "model_module_version": "1.5.0",
     "model_name": "HTMLModel",
     "state": {
      "_dom_classes": [],
      "_model_module": "@jupyter-widgets/controls",
      "_model_module_version": "1.5.0",
      "_model_name": "HTMLModel",
      "_view_count": null,
      "_view_module": "@jupyter-widgets/controls",
      "_view_module_version": "1.5.0",
      "_view_name": "HTMLView",
      "description": "",
      "description_tooltip": null,
      "layout": "IPY_MODEL_2df1454025654a0380f6be57b4cafc74",
      "placeholder": "​",
      "style": "IPY_MODEL_75e94f79fbba4c04b967599c2b1065ba",
      "value": " 456k/456k [00:00&lt;00:00, 13.2MB/s]"
     }
    }
   }
  }
 },
 "nbformat": 4,
 "nbformat_minor": 4
}
